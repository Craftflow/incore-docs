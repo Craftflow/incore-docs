{
 "cells": [
  {
   "cell_type": "code",
   "execution_count": null,
   "metadata": {},
   "outputs": [],
   "source": [
    "from pyincore import InsecureIncoreClient\n",
    "from pyincore.analyses.waterfacilitydamage import WaterFacilityDamage"
   ]
  },
  {
   "cell_type": "code",
   "execution_count": null,
   "metadata": {},
   "outputs": [],
   "source": [
    "client = InsecureIncoreClient(\"http://incore2-services.ncsa.illinois.edu:8888\", \"incrtest\")"
   ]
  },
  {
   "cell_type": "markdown",
   "metadata": {},
   "source": [
    "### test memphis earthquake"
   ]
  },
  {
   "cell_type": "code",
   "execution_count": null,
   "metadata": {},
   "outputs": [],
   "source": [
    "hazard_type = \"earthquake\"\n",
    "hazard_id = \"5b902cb273c3371e1236b36b\" # Memphis eq\n",
    "facility_datasetid = \"5a284f2ac7d30d13bc081e52\" # Memphis water facilities dataset id"
   ]
  },
  {
   "cell_type": "code",
   "execution_count": null,
   "metadata": {},
   "outputs": [],
   "source": [
    "#mapping_id = \"5b47c3b1337d4a387e85564b\"  # Hazus Potable Water Facility Fragility Mapping - Only PGA\n",
    "mapping_id = \"5b47c383337d4a387669d592\" #Potable Water Facility Fragility Mapping for INA - Has PGD"
   ]
  },
  {
   "cell_type": "code",
   "execution_count": null,
   "metadata": {},
   "outputs": [],
   "source": [
    "#liq_geology_dataset_id = None\n",
    "liq_geology_dataset_id =  \"5a284f53c7d30d13bc08249c\""
   ]
  },
  {
   "cell_type": "code",
   "execution_count": null,
   "metadata": {},
   "outputs": [],
   "source": [
    "uncertainty = False\n",
    "liquefaction = True\n",
    "liq_fragility_key = \"pgd\""
   ]
  },
  {
   "cell_type": "code",
   "execution_count": null,
   "metadata": {},
   "outputs": [],
   "source": [
    "wf_dmg = WaterFacilityDamage(client)\n",
    "wf_dmg.load_remote_input_dataset(\"water_facilities\", facility_datasetid)"
   ]
  },
  {
   "cell_type": "code",
   "execution_count": null,
   "metadata": {},
   "outputs": [],
   "source": [
    "wf_dmg.set_parameter(\"hazard_type\", hazard_type)\n",
    "wf_dmg.set_parameter(\"hazard_id\", hazard_id)\n",
    "wf_dmg.set_parameter(\"mapping_id\", mapping_id)\n",
    "wf_dmg.set_parameter(\"fragility_key\", \"pga\")\n",
    "wf_dmg.set_parameter(\"use_liquefaction\", liquefaction)\n",
    "wf_dmg.set_parameter(\"liquefaction_geology_dataset_id\", liq_geology_dataset_id)\n",
    "wf_dmg.set_parameter(\"liquefaction_fragility_key\", liq_fragility_key)\n",
    "wf_dmg.set_parameter(\"use_hazard_uncertainty\", uncertainty)\n",
    "wf_dmg.set_parameter(\"num_cpu\", 4)"
   ]
  },
  {
   "cell_type": "code",
   "execution_count": null,
   "metadata": {},
   "outputs": [],
   "source": [
    "result_name = \"wf-dmg-results.csv\"\n",
    "wf_dmg.set_parameter(\"result_name\", result_name)"
   ]
  },
  {
   "cell_type": "code",
   "execution_count": null,
   "metadata": {},
   "outputs": [],
   "source": [
    "wf_dmg.run_analysis()"
   ]
  },
  {
   "cell_type": "markdown",
   "metadata": {},
   "source": [
    "### test seaside tsunami"
   ]
  },
  {
   "cell_type": "code",
   "execution_count": null,
   "metadata": {},
   "outputs": [],
   "source": [
    "wf_dmg = WaterFacilityDamage(client)\n",
    "\n",
    "wf_dmg.load_remote_input_dataset(\"water_facilities\",\n",
    "                                 \"5d266507b9219c3c5595270c\")\n",
    "wf_dmg.set_parameter(\"result_name\", \"seaside_tsu_waterfacility_damage\")\n",
    "wf_dmg.set_parameter(\"hazard_type\", \"tsunami\")\n",
    "wf_dmg.set_parameter(\"hazard_id\", \"5bc9eaf7f7b08533c7e610e1\")\n",
    "wf_dmg.set_parameter(\"mapping_id\", \"5d31f737b9219c6d66398521\")\n",
    "wf_dmg.set_parameter(\"fragility_key\",\n",
    "                     \"Non-Retrofit inundationDepth Fragility ID Code\")\n",
    "wf_dmg.set_parameter(\"use_liquefaction\", False)\n",
    "wf_dmg.set_parameter(\"use_hazard_uncertainty\", False)\n",
    "wf_dmg.set_parameter(\"num_cpu\", 4)\n",
    "\n",
    "wf_dmg.run_analysis()"
   ]
  },
  {
   "cell_type": "markdown",
   "metadata": {},
   "source": [
    "# Visualize output"
   ]
  },
  {
   "cell_type": "code",
   "execution_count": null,
   "metadata": {},
   "outputs": [],
   "source": [
    "import pandas as pd\n",
    "import matplotlib.pyplot as plt\n",
    "import seaborn as sns"
   ]
  },
  {
   "cell_type": "code",
   "execution_count": null,
   "metadata": {},
   "outputs": [],
   "source": [
    "df = pd.read_csv('wf-dmg-results.csv', delimiter=',')"
   ]
  },
  {
   "cell_type": "code",
   "execution_count": null,
   "metadata": {},
   "outputs": [],
   "source": [
    "df.columns = [col.replace('-', '_') for col in df.columns]"
   ]
  },
  {
   "cell_type": "code",
   "execution_count": null,
   "metadata": {},
   "outputs": [],
   "source": [
    "#Convert ouput to plottable format\n",
    "lstName = []\n",
    "lstVal = []\n",
    "for i, row in df.iterrows():\n",
    "    for j, column in row.iteritems():\n",
    "        if(j in [\"none\", \"slight_mod\", \"ext_comple\", \"complete\"]):\n",
    "            lstName.append(j)\n",
    "            lstVal.append(column)"
   ]
  },
  {
   "cell_type": "code",
   "execution_count": null,
   "metadata": {},
   "outputs": [],
   "source": [
    "sns.swarmplot(x=lstName, y=lstVal)\n",
    "plt.show()"
   ]
  },
  {
   "cell_type": "code",
   "execution_count": null,
   "metadata": {},
   "outputs": [],
   "source": [
    "#Default Line plot\n",
    "\n",
    "df.none.plot(color='g')\n",
    "df.slight_mod.plot(color='b')\n",
    "df.ext_comple.plot(color='orange')\n",
    "df.complete.plot(color='r')"
   ]
  },
  {
   "cell_type": "code",
   "execution_count": null,
   "metadata": {},
   "outputs": [],
   "source": []
  }
 ],
 "metadata": {
  "kernelspec": {
   "display_name": "Python 3",
   "language": "python",
   "name": "python3"
  },
  "language_info": {
   "codemirror_mode": {
    "name": "ipython",
    "version": 3
   },
   "file_extension": ".py",
   "mimetype": "text/x-python",
   "name": "python",
   "nbconvert_exporter": "python",
   "pygments_lexer": "ipython3",
   "version": "3.7.3"
  }
 },
 "nbformat": 4,
 "nbformat_minor": 2
}
