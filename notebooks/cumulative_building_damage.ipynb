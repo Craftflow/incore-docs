{
 "cells": [
  {
   "cell_type": "code",
   "execution_count": 1,
   "metadata": {},
   "outputs": [],
   "source": [
    "from pyincore import IncoreClient\n",
    "from pyincore.analyses.cumulativebuildingdamage.cumulativebuildingdamage import CumulativeBuildingDamage"
   ]
  },
  {
   "cell_type": "code",
   "execution_count": 2,
   "metadata": {},
   "outputs": [],
   "source": [
    "# Connect to IN-CORE service \n",
    "client = IncoreClient()"
   ]
  },
  {
   "cell_type": "markdown",
   "metadata": {},
   "source": [
    "### Cumulative Building Damage Analysis for Seaside, OR"
   ]
  },
  {
   "cell_type": "code",
   "execution_count": 3,
   "metadata": {},
   "outputs": [],
   "source": [
    "# Setting up Id's for Dataset inputs: \n",
    "# Earthquake building damage and Tsunami Building Damage\n",
    "eq_bldg_dmg_id = \"5c5c9686c5c0e488fcf91903\"\n",
    "tsunami_bldg_dmg_id = \"5c5c96f6c5c0e488fcf9190f\" "
   ]
  },
  {
   "cell_type": "code",
   "execution_count": 4,
   "metadata": {},
   "outputs": [
    {
     "name": "stdout",
     "output_type": "stream",
     "text": [
      "Dataset already exists locally. Reading from local cache.\n",
      "Dataset already exists locally. Reading from local cache.\n"
     ]
    },
    {
     "data": {
      "text/plain": [
       "True"
      ]
     },
     "execution_count": 4,
     "metadata": {},
     "output_type": "execute_result"
    }
   ],
   "source": [
    "# Create cumulative Building Damage\n",
    "cumulative_bldg_dmg = CumulativeBuildingDamage(client)\n",
    "\n",
    "# Load input datasets\n",
    "cumulative_bldg_dmg.load_remote_input_dataset(\"eq_bldg_dmg\", eq_bldg_dmg_id)\n",
    "cumulative_bldg_dmg.load_remote_input_dataset(\"tsunami_bldg_dmg\", tsunami_bldg_dmg_id)\n",
    "\n",
    "# Specify the result name\n",
    "result_name = \"cumulative_bldg_dmg_result\"\n",
    "\n",
    "# Set analysis parameters\n",
    "cumulative_bldg_dmg.set_parameter(\"result_name\", result_name)\n",
    "cumulative_bldg_dmg.set_parameter(\"num_cpu\", 4)"
   ]
  },
  {
   "cell_type": "code",
   "execution_count": 5,
   "metadata": {},
   "outputs": [
    {
     "data": {
      "text/plain": [
       "True"
      ]
     },
     "execution_count": 5,
     "metadata": {},
     "output_type": "execute_result"
    }
   ],
   "source": [
    "# Run Cumulative Building Damage Analysis\n",
    "cumulative_bldg_dmg.run_analysis()"
   ]
  },
  {
   "cell_type": "code",
   "execution_count": 6,
   "metadata": {},
   "outputs": [
    {
     "data": {
      "text/html": [
       "<div>\n",
       "<style scoped>\n",
       "    .dataframe tbody tr th:only-of-type {\n",
       "        vertical-align: middle;\n",
       "    }\n",
       "\n",
       "    .dataframe tbody tr th {\n",
       "        vertical-align: top;\n",
       "    }\n",
       "\n",
       "    .dataframe thead th {\n",
       "        text-align: right;\n",
       "    }\n",
       "</style>\n",
       "<table border=\"1\" class=\"dataframe\">\n",
       "  <thead>\n",
       "    <tr style=\"text-align: right;\">\n",
       "      <th></th>\n",
       "      <th>guid</th>\n",
       "      <th>immocc</th>\n",
       "      <th>lifesfty</th>\n",
       "      <th>collprev</th>\n",
       "      <th>insignific</th>\n",
       "      <th>moderate</th>\n",
       "      <th>heavy</th>\n",
       "      <th>complete</th>\n",
       "      <th>hazard</th>\n",
       "    </tr>\n",
       "  </thead>\n",
       "  <tbody>\n",
       "    <tr>\n",
       "      <th>0</th>\n",
       "      <td>fba4c73f-9b1b-4942-b7fb-bc276a4e0a4e</td>\n",
       "      <td>0.000976</td>\n",
       "      <td>0.000004</td>\n",
       "      <td>2.111035e-09</td>\n",
       "      <td>0.999024</td>\n",
       "      <td>0.000972</td>\n",
       "      <td>0.000004</td>\n",
       "      <td>2.111035e-09</td>\n",
       "      <td>Earthquake+Tsunami</td>\n",
       "    </tr>\n",
       "    <tr>\n",
       "      <th>1</th>\n",
       "      <td>65d6e370-c05b-4b2f-bd17-d914d1d056c7</td>\n",
       "      <td>0.009081</td>\n",
       "      <td>0.000014</td>\n",
       "      <td>9.021054e-09</td>\n",
       "      <td>0.990919</td>\n",
       "      <td>0.009067</td>\n",
       "      <td>0.000014</td>\n",
       "      <td>9.021054e-09</td>\n",
       "      <td>Earthquake+Tsunami</td>\n",
       "    </tr>\n",
       "    <tr>\n",
       "      <th>2</th>\n",
       "      <td>dad76485-9694-409e-ac7f-c64c7bd5c32c</td>\n",
       "      <td>0.000976</td>\n",
       "      <td>0.000004</td>\n",
       "      <td>2.111035e-09</td>\n",
       "      <td>0.999024</td>\n",
       "      <td>0.000972</td>\n",
       "      <td>0.000004</td>\n",
       "      <td>2.111035e-09</td>\n",
       "      <td>Earthquake+Tsunami</td>\n",
       "    </tr>\n",
       "    <tr>\n",
       "      <th>3</th>\n",
       "      <td>6f57cfb6-d244-40d5-96f5-03aeddd5e30a</td>\n",
       "      <td>0.000976</td>\n",
       "      <td>0.000004</td>\n",
       "      <td>2.111035e-09</td>\n",
       "      <td>0.999024</td>\n",
       "      <td>0.000972</td>\n",
       "      <td>0.000004</td>\n",
       "      <td>2.111035e-09</td>\n",
       "      <td>Earthquake+Tsunami</td>\n",
       "    </tr>\n",
       "    <tr>\n",
       "      <th>4</th>\n",
       "      <td>929f1040-6224-409d-b4e3-58946daf3b91</td>\n",
       "      <td>0.000976</td>\n",
       "      <td>0.000004</td>\n",
       "      <td>2.111035e-09</td>\n",
       "      <td>0.999024</td>\n",
       "      <td>0.000972</td>\n",
       "      <td>0.000004</td>\n",
       "      <td>2.111035e-09</td>\n",
       "      <td>Earthquake+Tsunami</td>\n",
       "    </tr>\n",
       "  </tbody>\n",
       "</table>\n",
       "</div>"
      ],
      "text/plain": [
       "                                   guid    immocc  lifesfty      collprev  \\\n",
       "0  fba4c73f-9b1b-4942-b7fb-bc276a4e0a4e  0.000976  0.000004  2.111035e-09   \n",
       "1  65d6e370-c05b-4b2f-bd17-d914d1d056c7  0.009081  0.000014  9.021054e-09   \n",
       "2  dad76485-9694-409e-ac7f-c64c7bd5c32c  0.000976  0.000004  2.111035e-09   \n",
       "3  6f57cfb6-d244-40d5-96f5-03aeddd5e30a  0.000976  0.000004  2.111035e-09   \n",
       "4  929f1040-6224-409d-b4e3-58946daf3b91  0.000976  0.000004  2.111035e-09   \n",
       "\n",
       "   insignific  moderate     heavy      complete              hazard  \n",
       "0    0.999024  0.000972  0.000004  2.111035e-09  Earthquake+Tsunami  \n",
       "1    0.990919  0.009067  0.000014  9.021054e-09  Earthquake+Tsunami  \n",
       "2    0.999024  0.000972  0.000004  2.111035e-09  Earthquake+Tsunami  \n",
       "3    0.999024  0.000972  0.000004  2.111035e-09  Earthquake+Tsunami  \n",
       "4    0.999024  0.000972  0.000004  2.111035e-09  Earthquake+Tsunami  "
      ]
     },
     "execution_count": 6,
     "metadata": {},
     "output_type": "execute_result"
    }
   ],
   "source": [
    "# Retrieve result dataset\n",
    "result = cumulative_bldg_dmg.get_output_dataset(\"combined-result\")\n",
    "\n",
    "# Convert dataset to Pandas DataFrame\n",
    "df = result.get_dataframe_from_csv()\n",
    "\n",
    "# Display top 5 rows of output data\n",
    "df.head()"
   ]
  }
 ],
 "metadata": {
  "kernelspec": {
   "display_name": "Python 3",
   "language": "python",
   "name": "python3"
  },
  "language_info": {
   "codemirror_mode": {
    "name": "ipython",
    "version": 3
   },
   "file_extension": ".py",
   "mimetype": "text/x-python",
   "name": "python",
   "nbconvert_exporter": "python",
   "pygments_lexer": "ipython3",
   "version": "3.7.3"
  }
 },
 "nbformat": 4,
 "nbformat_minor": 4
}
