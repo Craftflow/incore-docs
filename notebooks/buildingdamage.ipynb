{
 "cells": [
  {
   "cell_type": "code",
   "execution_count": 1,
   "metadata": {},
   "outputs": [],
   "source": [
    "from pyincore import IncoreClient\n",
    "from pyincore.analyses.buildingdamage import BuildingDamage"
   ]
  },
  {
   "cell_type": "code",
   "execution_count": 2,
   "metadata": {},
   "outputs": [],
   "source": [
    "client = IncoreClient()"
   ]
  },
  {
   "cell_type": "code",
   "execution_count": 4,
   "metadata": {},
   "outputs": [],
   "source": [
    "# New madrid earthquake using Atkinson Boore 1995\n",
    "hazard_type = \"earthquake\"\n",
    "hazard_id = \"5b902cb273c3371e1236b36b\"\n",
    "\n",
    "# Building damage ratios\n",
    "dmg_ratio_id = \"5a284f2ec7d30d13bc08209a\""
   ]
  },
  {
   "cell_type": "code",
   "execution_count": 5,
   "metadata": {},
   "outputs": [],
   "source": [
    "# Building dataset\n",
    "bldg_dataset_id = \"5a284f0bc7d30d13bc081a28\""
   ]
  },
  {
   "cell_type": "code",
   "execution_count": 6,
   "metadata": {},
   "outputs": [],
   "source": [
    "# Earthquake mapping\n",
    "mapping_id = \"5b47b350337d4a3629076f2c\""
   ]
  },
  {
   "cell_type": "code",
   "execution_count": 7,
   "metadata": {},
   "outputs": [
    {
     "name": "stdout",
     "output_type": "stream",
     "text": [
      "Dataset already exists locally. Reading from local cache.\n",
      "Dataset already exists locally. Reading from local cache.\n"
     ]
    },
    {
     "data": {
      "text/plain": [
       "True"
      ]
     },
     "execution_count": 7,
     "metadata": {},
     "output_type": "execute_result"
    }
   ],
   "source": [
    "# Run Memphis earthquake building damage\n",
    "bldg_dmg = BuildingDamage(client)\n",
    "bldg_dmg.load_remote_input_dataset(\"buildings\", bldg_dataset_id)\n",
    "bldg_dmg.load_remote_input_dataset(\"dmg_ratios\", dmg_ratio_id)\n",
    "\n",
    "result_name = \"memphis_bldg_dmg_result\"\n",
    "bldg_dmg.set_parameter(\"result_name\", result_name)\n",
    "bldg_dmg.set_parameter(\"mapping_id\", mapping_id)\n",
    "bldg_dmg.set_parameter(\"hazard_type\", hazard_type)\n",
    "bldg_dmg.set_parameter(\"hazard_id\", hazard_id)\n",
    "bldg_dmg.set_parameter(\"num_cpu\", 10)\n",
    "\n",
    "# Run Analysis\n",
    "bldg_dmg.run_analysis()"
   ]
  },
  {
   "cell_type": "code",
   "execution_count": 10,
   "metadata": {},
   "outputs": [
    {
     "data": {
      "text/html": [
       "<div>\n",
       "<style scoped>\n",
       "    .dataframe tbody tr th:only-of-type {\n",
       "        vertical-align: middle;\n",
       "    }\n",
       "\n",
       "    .dataframe tbody tr th {\n",
       "        vertical-align: top;\n",
       "    }\n",
       "\n",
       "    .dataframe thead th {\n",
       "        text-align: right;\n",
       "    }\n",
       "</style>\n",
       "<table border=\"1\" class=\"dataframe\">\n",
       "  <thead>\n",
       "    <tr style=\"text-align: right;\">\n",
       "      <th></th>\n",
       "      <th>guid</th>\n",
       "      <th>immocc</th>\n",
       "      <th>lifesfty</th>\n",
       "      <th>collprev</th>\n",
       "      <th>insignific</th>\n",
       "      <th>moderate</th>\n",
       "      <th>heavy</th>\n",
       "      <th>complete</th>\n",
       "      <th>meandamage</th>\n",
       "      <th>mdamagedev</th>\n",
       "      <th>hazardtype</th>\n",
       "      <th>hazardval</th>\n",
       "    </tr>\n",
       "  </thead>\n",
       "  <tbody>\n",
       "    <tr>\n",
       "      <th>6</th>\n",
       "      <td>96eca79e-7d0f-48a6-bffd-5bfc1e094363</td>\n",
       "      <td>0.923827</td>\n",
       "      <td>0.491030</td>\n",
       "      <td>0.070218</td>\n",
       "      <td>0.076173</td>\n",
       "      <td>0.432797</td>\n",
       "      <td>0.420812</td>\n",
       "      <td>0.070218</td>\n",
       "      <td>0.362107</td>\n",
       "      <td>0.263111</td>\n",
       "      <td>PGA</td>\n",
       "      <td>0.315782</td>\n",
       "    </tr>\n",
       "    <tr>\n",
       "      <th>2</th>\n",
       "      <td>4253802e-b3e5-4ed3-93b0-dda9ef6362b0</td>\n",
       "      <td>0.896775</td>\n",
       "      <td>0.480926</td>\n",
       "      <td>0.087568</td>\n",
       "      <td>0.103225</td>\n",
       "      <td>0.415849</td>\n",
       "      <td>0.393358</td>\n",
       "      <td>0.087568</td>\n",
       "      <td>0.360131</td>\n",
       "      <td>0.275124</td>\n",
       "      <td>PGA</td>\n",
       "      <td>0.308425</td>\n",
       "    </tr>\n",
       "    <tr>\n",
       "      <th>14</th>\n",
       "      <td>1eab704b-bb56-425f-a3ad-a7b5f937554e</td>\n",
       "      <td>0.856179</td>\n",
       "      <td>0.446934</td>\n",
       "      <td>0.094467</td>\n",
       "      <td>0.143821</td>\n",
       "      <td>0.409245</td>\n",
       "      <td>0.352467</td>\n",
       "      <td>0.094467</td>\n",
       "      <td>0.343029</td>\n",
       "      <td>0.283477</td>\n",
       "      <td>Sa</td>\n",
       "      <td>0.495900</td>\n",
       "    </tr>\n",
       "    <tr>\n",
       "      <th>11</th>\n",
       "      <td>1d33e811-56c4-4a56-a540-d8d90d82b5f5</td>\n",
       "      <td>0.880045</td>\n",
       "      <td>0.445909</td>\n",
       "      <td>0.074361</td>\n",
       "      <td>0.119955</td>\n",
       "      <td>0.434136</td>\n",
       "      <td>0.371548</td>\n",
       "      <td>0.074361</td>\n",
       "      <td>0.339167</td>\n",
       "      <td>0.270776</td>\n",
       "      <td>PGA</td>\n",
       "      <td>0.291682</td>\n",
       "    </tr>\n",
       "    <tr>\n",
       "      <th>21</th>\n",
       "      <td>152bc26f-839b-48db-8943-adf04efca945</td>\n",
       "      <td>0.891626</td>\n",
       "      <td>0.413496</td>\n",
       "      <td>0.047436</td>\n",
       "      <td>0.108374</td>\n",
       "      <td>0.478130</td>\n",
       "      <td>0.366060</td>\n",
       "      <td>0.047436</td>\n",
       "      <td>0.318677</td>\n",
       "      <td>0.253843</td>\n",
       "      <td>PGA</td>\n",
       "      <td>0.287643</td>\n",
       "    </tr>\n",
       "    <tr>\n",
       "      <th>9</th>\n",
       "      <td>433680c6-6269-4632-8c44-738d94d8b30c</td>\n",
       "      <td>0.879303</td>\n",
       "      <td>0.388868</td>\n",
       "      <td>0.041463</td>\n",
       "      <td>0.120697</td>\n",
       "      <td>0.490435</td>\n",
       "      <td>0.347405</td>\n",
       "      <td>0.041463</td>\n",
       "      <td>0.305010</td>\n",
       "      <td>0.250240</td>\n",
       "      <td>PGA</td>\n",
       "      <td>0.279051</td>\n",
       "    </tr>\n",
       "    <tr>\n",
       "      <th>5</th>\n",
       "      <td>75fa116e-6409-434e-b326-67079b0f3c74</td>\n",
       "      <td>0.858405</td>\n",
       "      <td>0.343597</td>\n",
       "      <td>0.030156</td>\n",
       "      <td>0.141595</td>\n",
       "      <td>0.514808</td>\n",
       "      <td>0.313442</td>\n",
       "      <td>0.030156</td>\n",
       "      <td>0.280036</td>\n",
       "      <td>0.241058</td>\n",
       "      <td>PGA</td>\n",
       "      <td>0.315782</td>\n",
       "    </tr>\n",
       "    <tr>\n",
       "      <th>8</th>\n",
       "      <td>5a96f279-d125-4b15-a304-adbb65e454a7</td>\n",
       "      <td>0.853632</td>\n",
       "      <td>0.342760</td>\n",
       "      <td>0.031300</td>\n",
       "      <td>0.146368</td>\n",
       "      <td>0.510872</td>\n",
       "      <td>0.311460</td>\n",
       "      <td>0.031300</td>\n",
       "      <td>0.279390</td>\n",
       "      <td>0.242223</td>\n",
       "      <td>PGA</td>\n",
       "      <td>0.315782</td>\n",
       "    </tr>\n",
       "    <tr>\n",
       "      <th>3</th>\n",
       "      <td>b185d5b6-5bc0-43a3-800a-c046017372ab</td>\n",
       "      <td>0.810564</td>\n",
       "      <td>0.331283</td>\n",
       "      <td>0.048957</td>\n",
       "      <td>0.189436</td>\n",
       "      <td>0.479281</td>\n",
       "      <td>0.282327</td>\n",
       "      <td>0.048957</td>\n",
       "      <td>0.274576</td>\n",
       "      <td>0.256321</td>\n",
       "      <td>PGA</td>\n",
       "      <td>0.299533</td>\n",
       "    </tr>\n",
       "    <tr>\n",
       "      <th>1</th>\n",
       "      <td>254d1dd8-5d2f-4737-909b-59cc64ca72d4</td>\n",
       "      <td>0.844340</td>\n",
       "      <td>0.328296</td>\n",
       "      <td>0.028605</td>\n",
       "      <td>0.155660</td>\n",
       "      <td>0.516045</td>\n",
       "      <td>0.299691</td>\n",
       "      <td>0.028605</td>\n",
       "      <td>0.271340</td>\n",
       "      <td>0.239546</td>\n",
       "      <td>PGA</td>\n",
       "      <td>0.309996</td>\n",
       "    </tr>\n",
       "  </tbody>\n",
       "</table>\n",
       "</div>"
      ],
      "text/plain": [
       "                                    guid    immocc  lifesfty  collprev  \\\n",
       "6   96eca79e-7d0f-48a6-bffd-5bfc1e094363  0.923827  0.491030  0.070218   \n",
       "2   4253802e-b3e5-4ed3-93b0-dda9ef6362b0  0.896775  0.480926  0.087568   \n",
       "14  1eab704b-bb56-425f-a3ad-a7b5f937554e  0.856179  0.446934  0.094467   \n",
       "11  1d33e811-56c4-4a56-a540-d8d90d82b5f5  0.880045  0.445909  0.074361   \n",
       "21  152bc26f-839b-48db-8943-adf04efca945  0.891626  0.413496  0.047436   \n",
       "9   433680c6-6269-4632-8c44-738d94d8b30c  0.879303  0.388868  0.041463   \n",
       "5   75fa116e-6409-434e-b326-67079b0f3c74  0.858405  0.343597  0.030156   \n",
       "8   5a96f279-d125-4b15-a304-adbb65e454a7  0.853632  0.342760  0.031300   \n",
       "3   b185d5b6-5bc0-43a3-800a-c046017372ab  0.810564  0.331283  0.048957   \n",
       "1   254d1dd8-5d2f-4737-909b-59cc64ca72d4  0.844340  0.328296  0.028605   \n",
       "\n",
       "    insignific  moderate     heavy  complete  meandamage  mdamagedev  \\\n",
       "6     0.076173  0.432797  0.420812  0.070218    0.362107    0.263111   \n",
       "2     0.103225  0.415849  0.393358  0.087568    0.360131    0.275124   \n",
       "14    0.143821  0.409245  0.352467  0.094467    0.343029    0.283477   \n",
       "11    0.119955  0.434136  0.371548  0.074361    0.339167    0.270776   \n",
       "21    0.108374  0.478130  0.366060  0.047436    0.318677    0.253843   \n",
       "9     0.120697  0.490435  0.347405  0.041463    0.305010    0.250240   \n",
       "5     0.141595  0.514808  0.313442  0.030156    0.280036    0.241058   \n",
       "8     0.146368  0.510872  0.311460  0.031300    0.279390    0.242223   \n",
       "3     0.189436  0.479281  0.282327  0.048957    0.274576    0.256321   \n",
       "1     0.155660  0.516045  0.299691  0.028605    0.271340    0.239546   \n",
       "\n",
       "   hazardtype  hazardval  \n",
       "6         PGA   0.315782  \n",
       "2         PGA   0.308425  \n",
       "14         Sa   0.495900  \n",
       "11        PGA   0.291682  \n",
       "21        PGA   0.287643  \n",
       "9         PGA   0.279051  \n",
       "5         PGA   0.315782  \n",
       "8         PGA   0.315782  \n",
       "3         PGA   0.299533  \n",
       "1         PGA   0.309996  "
      ]
     },
     "execution_count": 10,
     "metadata": {},
     "output_type": "execute_result"
    }
   ],
   "source": [
    "# Display output by using Pandas DataFrame\n",
    "df = bldg_dmg.get_output_dataset(\"result\").get_dataframe_from_csv()\n",
    "df.sort_values('meandamage', ascending=False).head(10)"
   ]
  },
  {
   "cell_type": "code",
   "execution_count": 12,
   "metadata": {},
   "outputs": [
    {
     "data": {
      "text/plain": [
       "Text(0, 0.5, 'counts')"
      ]
     },
     "execution_count": 12,
     "metadata": {},
     "output_type": "execute_result"
    },
    {
     "data": {
      "image/png": "[encoded data removed]",
      "text/plain": [
       "<Figure size 720x360 with 1 Axes>"
      ]
     },
     "metadata": {
      "needs_background": "light"
     },
     "output_type": "display_data"
    }
   ],
   "source": [
    "ax = df['meandamage'].hist(bins=20, figsize=[10,5])\n",
    "ax.set_title(\"Mean damage distribution\", fontsize=12)\n",
    "ax.set_xlabel(\"mean damage value\", fontsize=12)\n",
    "ax.set_ylabel(\"counts\", fontsize=12)"
   ]
  },
  {
   "cell_type": "code",
   "execution_count": null,
   "metadata": {},
   "outputs": [],
   "source": []
  }
 ],
 "metadata": {
  "kernelspec": {
   "display_name": "Python 3",
   "language": "python",
   "name": "python3"
  },
  "language_info": {
   "codemirror_mode": {
    "name": "ipython",
    "version": 3
   },
   "file_extension": ".py",
   "mimetype": "text/x-python",
   "name": "python",
   "nbconvert_exporter": "python",
   "pygments_lexer": "ipython3",
   "version": "3.7.3"
  }
 },
 "nbformat": 4,
 "nbformat_minor": 2
}
