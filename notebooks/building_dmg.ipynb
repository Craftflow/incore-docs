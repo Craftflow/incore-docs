{
 "cells": [
  {
   "cell_type": "code",
   "execution_count": 1,
   "metadata": {},
   "outputs": [],
   "source": [
    "from pyincore import IncoreClient\n",
    "from pyincore.analyses.buildingdamage import BuildingDamage"
   ]
  },
  {
   "cell_type": "code",
   "execution_count": 2,
   "metadata": {},
   "outputs": [],
   "source": [
    "# Connect to IN-CORE service\n",
    "client = IncoreClient()"
   ]
  },
  {
   "cell_type": "markdown",
   "metadata": {},
   "source": [
    "### Building damage for Shelby county, TN with New Madrid earthquake"
   ]
  },
  {
   "cell_type": "code",
   "execution_count": 3,
   "metadata": {},
   "outputs": [],
   "source": [
    "# New madrid earthquake using Atkinson Boore 1995\n",
    "hazard_type = \"earthquake\"\n",
    "hazard_id = \"5b902cb273c3371e1236b36b\"\n",
    "\n",
    "# Building inventory in Shelby county, TN\n",
    "bldg_dataset_id = \"5a284f0bc7d30d13bc081a28\"\n",
    "\n",
    "# Default Building Fragility mapping\n",
    "mapping_id = \"5b47b350337d4a3629076f2c\""
   ]
  },
  {
   "cell_type": "code",
   "execution_count": 4,
   "metadata": {},
   "outputs": [
    {
     "name": "stdout",
     "output_type": "stream",
     "text": [
      "Dataset already exists locally. Reading from local cache.\n"
     ]
    },
    {
     "data": {
      "text/plain": [
       "True"
      ]
     },
     "execution_count": 4,
     "metadata": {},
     "output_type": "execute_result"
    }
   ],
   "source": [
    "# Create building damage\n",
    "bldg_dmg = BuildingDamage(client)\n",
    "\n",
    "# Load input dataset\n",
    "bldg_dmg.load_remote_input_dataset(\"buildings\", bldg_dataset_id)\n",
    "\n",
    "# Specify the result name\n",
    "result_name = \"memphis_bldg_dmg_result\"\n",
    "\n",
    "# Set analysis parameters\n",
    "bldg_dmg.set_parameter(\"result_name\", result_name)\n",
    "bldg_dmg.set_parameter(\"mapping_id\", mapping_id)\n",
    "bldg_dmg.set_parameter(\"hazard_type\", hazard_type)\n",
    "bldg_dmg.set_parameter(\"hazard_id\", hazard_id)\n",
    "bldg_dmg.set_parameter(\"num_cpu\", 10)"
   ]
  },
  {
   "cell_type": "code",
   "execution_count": 5,
   "metadata": {},
   "outputs": [
    {
     "data": {
      "text/plain": [
       "True"
      ]
     },
     "execution_count": 5,
     "metadata": {},
     "output_type": "execute_result"
    }
   ],
   "source": [
    "# Run building damage analysis\n",
    "bldg_dmg.run_analysis()"
   ]
  },
  {
   "cell_type": "code",
   "execution_count": 6,
   "metadata": {},
   "outputs": [
    {
     "data": {
      "text/html": [
       "<div>\n",
       "<style scoped>\n",
       "    .dataframe tbody tr th:only-of-type {\n",
       "        vertical-align: middle;\n",
       "    }\n",
       "\n",
       "    .dataframe tbody tr th {\n",
       "        vertical-align: top;\n",
       "    }\n",
       "\n",
       "    .dataframe thead th {\n",
       "        text-align: right;\n",
       "    }\n",
       "</style>\n",
       "<table border=\"1\" class=\"dataframe\">\n",
       "  <thead>\n",
       "    <tr style=\"text-align: right;\">\n",
       "      <th></th>\n",
       "      <th>guid</th>\n",
       "      <th>immocc</th>\n",
       "      <th>lifesfty</th>\n",
       "      <th>collprev</th>\n",
       "      <th>insignific</th>\n",
       "      <th>moderate</th>\n",
       "      <th>heavy</th>\n",
       "      <th>complete</th>\n",
       "      <th>demandtype</th>\n",
       "      <th>hazardval</th>\n",
       "    </tr>\n",
       "  </thead>\n",
       "  <tbody>\n",
       "    <tr>\n",
       "      <th>0</th>\n",
       "      <td>a41e7dcc-3b82-42f2-9dbd-a2ebdf39d453</td>\n",
       "      <td>0.848146</td>\n",
       "      <td>0.327319</td>\n",
       "      <td>2.722903e-02</td>\n",
       "      <td>0.151854</td>\n",
       "      <td>0.520828</td>\n",
       "      <td>0.300089</td>\n",
       "      <td>2.722903e-02</td>\n",
       "      <td>PGA</td>\n",
       "      <td>0.309996</td>\n",
       "    </tr>\n",
       "    <tr>\n",
       "      <th>1</th>\n",
       "      <td>254d1dd8-5d2f-4737-909b-59cc64ca72d4</td>\n",
       "      <td>0.844340</td>\n",
       "      <td>0.328296</td>\n",
       "      <td>2.860487e-02</td>\n",
       "      <td>0.155660</td>\n",
       "      <td>0.516045</td>\n",
       "      <td>0.299691</td>\n",
       "      <td>2.860487e-02</td>\n",
       "      <td>PGA</td>\n",
       "      <td>0.309996</td>\n",
       "    </tr>\n",
       "    <tr>\n",
       "      <th>2</th>\n",
       "      <td>4253802e-b3e5-4ed3-93b0-dda9ef6362b0</td>\n",
       "      <td>0.896775</td>\n",
       "      <td>0.480926</td>\n",
       "      <td>8.756764e-02</td>\n",
       "      <td>0.103225</td>\n",
       "      <td>0.415849</td>\n",
       "      <td>0.393358</td>\n",
       "      <td>8.756764e-02</td>\n",
       "      <td>PGA</td>\n",
       "      <td>0.308425</td>\n",
       "    </tr>\n",
       "    <tr>\n",
       "      <th>3</th>\n",
       "      <td>b185d5b6-5bc0-43a3-800a-c046017372ab</td>\n",
       "      <td>0.810564</td>\n",
       "      <td>0.331283</td>\n",
       "      <td>4.895657e-02</td>\n",
       "      <td>0.189436</td>\n",
       "      <td>0.479281</td>\n",
       "      <td>0.282327</td>\n",
       "      <td>4.895657e-02</td>\n",
       "      <td>PGA</td>\n",
       "      <td>0.299533</td>\n",
       "    </tr>\n",
       "    <tr>\n",
       "      <th>4</th>\n",
       "      <td>7b5dc4f6-ef5e-4178-9836-f044b4b92f0d</td>\n",
       "      <td>0.970342</td>\n",
       "      <td>0.154675</td>\n",
       "      <td>7.649816e-11</td>\n",
       "      <td>0.029658</td>\n",
       "      <td>0.815668</td>\n",
       "      <td>0.154675</td>\n",
       "      <td>7.649816e-11</td>\n",
       "      <td>Sa</td>\n",
       "      <td>0.237687</td>\n",
       "    </tr>\n",
       "  </tbody>\n",
       "</table>\n",
       "</div>"
      ],
      "text/plain": [
       "                                   guid    immocc  lifesfty      collprev  \\\n",
       "0  a41e7dcc-3b82-42f2-9dbd-a2ebdf39d453  0.848146  0.327319  2.722903e-02   \n",
       "1  254d1dd8-5d2f-4737-909b-59cc64ca72d4  0.844340  0.328296  2.860487e-02   \n",
       "2  4253802e-b3e5-4ed3-93b0-dda9ef6362b0  0.896775  0.480926  8.756764e-02   \n",
       "3  b185d5b6-5bc0-43a3-800a-c046017372ab  0.810564  0.331283  4.895657e-02   \n",
       "4  7b5dc4f6-ef5e-4178-9836-f044b4b92f0d  0.970342  0.154675  7.649816e-11   \n",
       "\n",
       "   insignific  moderate     heavy      complete demandtype  hazardval  \n",
       "0    0.151854  0.520828  0.300089  2.722903e-02        PGA   0.309996  \n",
       "1    0.155660  0.516045  0.299691  2.860487e-02        PGA   0.309996  \n",
       "2    0.103225  0.415849  0.393358  8.756764e-02        PGA   0.308425  \n",
       "3    0.189436  0.479281  0.282327  4.895657e-02        PGA   0.299533  \n",
       "4    0.029658  0.815668  0.154675  7.649816e-11         Sa   0.237687  "
      ]
     },
     "execution_count": 6,
     "metadata": {},
     "output_type": "execute_result"
    }
   ],
   "source": [
    "# Retrieve result dataset\n",
    "result = bldg_dmg.get_output_dataset(\"result\")\n",
    "\n",
    "# Convert dataset to Pandas DataFrame\n",
    "df = result.get_dataframe_from_csv()\n",
    "\n",
    "# Display top 5 rows of output data\n",
    "df.head()"
   ]
  },
  {
   "cell_type": "markdown",
   "metadata": {},
   "source": [
    "### Creating a chart"
   ]
  },
  {
   "cell_type": "code",
   "execution_count": 7,
   "metadata": {},
   "outputs": [
    {
     "data": {
      "text/plain": [
       "Text(0, 0.5, 'counts')"
      ]
     },
     "execution_count": 7,
     "metadata": {},
     "output_type": "execute_result"
    },
    {
     "data": {
      "image/png": "[encoded data removed]",
      "text/plain": [
       "<Figure size 720x360 with 1 Axes>"
      ]
     },
     "metadata": {
      "needs_background": "light"
     },
     "output_type": "display_data"
    }
   ],
   "source": [
    "ax = df['complete'].hist(bins=20, figsize=[10,5])\n",
    "ax.set_title(\"complete damage distribution\", fontsize=12)\n",
    "ax.set_xlabel(\"complete damage value\", fontsize=12)\n",
    "ax.set_ylabel(\"counts\", fontsize=12)"
   ]
  }
 ],
 "metadata": {
  "kernelspec": {
   "display_name": "Python 3",
   "language": "python",
   "name": "python3"
  },
  "language_info": {
   "codemirror_mode": {
    "name": "ipython",
    "version": 3
   },
   "file_extension": ".py",
   "mimetype": "text/x-python",
   "name": "python",
   "nbconvert_exporter": "python",
   "pygments_lexer": "ipython3",
   "version": "3.7.3"
  }
 },
 "nbformat": 4,
 "nbformat_minor": 4
}
