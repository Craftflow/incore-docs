{
 "cells": [
  {
   "cell_type": "code",
   "execution_count": 1,
   "metadata": {},
   "outputs": [],
   "source": [
    "from pyincore import IncoreClient\n",
    "from pyincore.analyses.nonstructbuildingdamage import NonStructBuildingDamage\n",
    "from pyincore.analyses.nonstructbuildingdamage import NonStructBuildingUtil"
   ]
  },
  {
   "cell_type": "markdown",
   "metadata": {},
   "source": [
    "## set input parameters and input datasets"
   ]
  },
  {
   "cell_type": "code",
   "execution_count": 2,
   "metadata": {},
   "outputs": [],
   "source": [
    "client = IncoreClient()\n",
    "\n",
    "# Memphis 7.9 AB-95\n",
    "hazard_type = \"earthquake\"\n",
    "hazard_id = \"5b902cb273c3371e1236b36b\"\n",
    "\n",
    "# damage ratio \n",
    "dmg_ratio_id_as = \"5a284f2ec7d30d13bc08207c\"\n",
    "dmg_ratio_id_ds = \"5a284f2ec7d30d13bc082090\"\n",
    "dmg_ratio_id_content = \"5a284f2ec7d30d13bc082086\"\n",
    "\n",
    "# Shelby County Essential Facilities\n",
    "building_dataset_id = \"5a284f42c7d30d13bc0821ba\"\n",
    "\n",
    "# Default Building Fragility Mapping v1.0\n",
    "mapping_id = \"5b47b350337d4a3629076f2c\""
   ]
  },
  {
   "cell_type": "markdown",
   "metadata": {},
   "source": [
    "## set object and fetch datasets based on parameters"
   ]
  },
  {
   "cell_type": "code",
   "execution_count": 3,
   "metadata": {},
   "outputs": [
    {
     "name": "stdout",
     "output_type": "stream",
     "text": [
      "Dataset already exists locally. Reading from local cache.\n"
     ]
    },
    {
     "data": {
      "text/plain": [
       "True"
      ]
     },
     "execution_count": 3,
     "metadata": {},
     "output_type": "execute_result"
    }
   ],
   "source": [
    "non_structural_building_dmg = NonStructBuildingDamage(client)\n",
    "\n",
    "# Load input datasets\n",
    "non_structural_building_dmg.load_remote_input_dataset(\"buildings\", building_dataset_id)\n",
    "\n",
    "# Specify the result name\n",
    "result_name = \"non_structural_building_dmg_result\"\n",
    "\n",
    "# Set analysis parameters\n",
    "non_structural_building_dmg.set_parameter(\"result_name\", result_name)\n",
    "non_structural_building_dmg.set_parameter(\"mapping_id\", mapping_id)\n",
    "non_structural_building_dmg.set_parameter(\"hazard_type\", hazard_type)\n",
    "non_structural_building_dmg.set_parameter(\"hazard_id\", hazard_id)\n",
    "non_structural_building_dmg.set_parameter(\"num_cpu\", 4)"
   ]
  },
  {
   "cell_type": "markdown",
   "metadata": {},
   "source": [
    "### use liquefaction (slow)"
   ]
  },
  {
   "cell_type": "code",
   "execution_count": 4,
   "metadata": {},
   "outputs": [
    {
     "data": {
      "text/plain": [
       "True"
      ]
     },
     "execution_count": 4,
     "metadata": {},
     "output_type": "execute_result"
    }
   ],
   "source": [
    "# Shelby County Liquefaction Susceptibility\n",
    "use_liquefaction = True\n",
    "liq_geology_dataset_id = \"5a284f55c7d30d13bc0824ba\"\n",
    "\n",
    "non_structural_building_dmg.set_parameter(\"use_liquefaction\", use_liquefaction)\n",
    "non_structural_building_dmg.set_parameter(\"liq_geology_dataset_id\", liq_geology_dataset_id)"
   ]
  },
  {
   "cell_type": "markdown",
   "metadata": {},
   "source": [
    "## Run analysis"
   ]
  },
  {
   "cell_type": "code",
   "execution_count": 5,
   "metadata": {},
   "outputs": [
    {
     "data": {
      "text/plain": [
       "True"
      ]
     },
     "execution_count": 5,
     "metadata": {},
     "output_type": "execute_result"
    }
   ],
   "source": [
    "non_structural_building_dmg.run_analysis()"
   ]
  },
  {
   "cell_type": "markdown",
   "metadata": {},
   "source": [
    "## Visualize"
   ]
  },
  {
   "cell_type": "code",
   "execution_count": 6,
   "metadata": {},
   "outputs": [],
   "source": [
    "import pandas as pd\n",
    "dmg_result = pd.read_csv('non_structural_building_dmg_result.csv')"
   ]
  },
  {
   "cell_type": "code",
   "execution_count": 7,
   "metadata": {},
   "outputs": [
    {
     "data": {
      "text/html": [
       "<div>\n",
       "<style scoped>\n",
       "    .dataframe tbody tr th:only-of-type {\n",
       "        vertical-align: middle;\n",
       "    }\n",
       "\n",
       "    .dataframe tbody tr th {\n",
       "        vertical-align: top;\n",
       "    }\n",
       "\n",
       "    .dataframe thead th {\n",
       "        text-align: right;\n",
       "    }\n",
       "</style>\n",
       "<table border=\"1\" class=\"dataframe\">\n",
       "  <thead>\n",
       "    <tr style=\"text-align: right;\">\n",
       "      <th></th>\n",
       "      <th>guid</th>\n",
       "      <th>immocc_as</th>\n",
       "      <th>lifsfty_as</th>\n",
       "      <th>collpre_as</th>\n",
       "      <th>insig_as</th>\n",
       "      <th>mod_as</th>\n",
       "      <th>heavy_as</th>\n",
       "      <th>comp_as</th>\n",
       "      <th>immocc_ds</th>\n",
       "      <th>lifsfty_ds</th>\n",
       "      <th>collpre_ds</th>\n",
       "      <th>insig_ds</th>\n",
       "      <th>mod_ds</th>\n",
       "      <th>heavy_ds</th>\n",
       "      <th>comp_ds</th>\n",
       "      <th>hzrdtyp_as</th>\n",
       "      <th>hzrdval_as</th>\n",
       "      <th>hzrdtyp_ds</th>\n",
       "      <th>hzrdval_ds</th>\n",
       "    </tr>\n",
       "  </thead>\n",
       "  <tbody>\n",
       "    <tr>\n",
       "      <th>0</th>\n",
       "      <td>203e4d20-b5e3-4d58-a0fe-f1197a6efa32</td>\n",
       "      <td>0.344360</td>\n",
       "      <td>0.122749</td>\n",
       "      <td>0.018267</td>\n",
       "      <td>0.655640</td>\n",
       "      <td>0.221611</td>\n",
       "      <td>0.104482</td>\n",
       "      <td>0.018267</td>\n",
       "      <td>0.312720</td>\n",
       "      <td>0.075042</td>\n",
       "      <td>0.013690</td>\n",
       "      <td>0.687280</td>\n",
       "      <td>0.237678</td>\n",
       "      <td>0.061352</td>\n",
       "      <td>0.013690</td>\n",
       "      <td>pga</td>\n",
       "      <td>0.252397</td>\n",
       "      <td>pga</td>\n",
       "      <td>0.252397</td>\n",
       "    </tr>\n",
       "    <tr>\n",
       "      <th>1</th>\n",
       "      <td>e2018195-6008-40af-b34a-088c601b1329</td>\n",
       "      <td>0.369472</td>\n",
       "      <td>0.131704</td>\n",
       "      <td>0.019453</td>\n",
       "      <td>0.630528</td>\n",
       "      <td>0.237767</td>\n",
       "      <td>0.112252</td>\n",
       "      <td>0.019453</td>\n",
       "      <td>0.363420</td>\n",
       "      <td>0.079225</td>\n",
       "      <td>0.013911</td>\n",
       "      <td>0.636580</td>\n",
       "      <td>0.284195</td>\n",
       "      <td>0.065315</td>\n",
       "      <td>0.013911</td>\n",
       "      <td>pga</td>\n",
       "      <td>0.271709</td>\n",
       "      <td>pga</td>\n",
       "      <td>0.271709</td>\n",
       "    </tr>\n",
       "    <tr>\n",
       "      <th>2</th>\n",
       "      <td>5c78568d-3539-4d4c-947b-296314aa7d58</td>\n",
       "      <td>0.364714</td>\n",
       "      <td>0.129954</td>\n",
       "      <td>0.019214</td>\n",
       "      <td>0.635286</td>\n",
       "      <td>0.234760</td>\n",
       "      <td>0.110740</td>\n",
       "      <td>0.019214</td>\n",
       "      <td>0.353627</td>\n",
       "      <td>0.078325</td>\n",
       "      <td>0.013860</td>\n",
       "      <td>0.646373</td>\n",
       "      <td>0.275302</td>\n",
       "      <td>0.064465</td>\n",
       "      <td>0.013860</td>\n",
       "      <td>pga</td>\n",
       "      <td>0.267996</td>\n",
       "      <td>pga</td>\n",
       "      <td>0.267996</td>\n",
       "    </tr>\n",
       "    <tr>\n",
       "      <th>3</th>\n",
       "      <td>3c9b2bce-5e4a-462f-9754-f6c363108a68</td>\n",
       "      <td>0.271383</td>\n",
       "      <td>0.100101</td>\n",
       "      <td>0.015654</td>\n",
       "      <td>0.728617</td>\n",
       "      <td>0.171282</td>\n",
       "      <td>0.084447</td>\n",
       "      <td>0.015654</td>\n",
       "      <td>0.762110</td>\n",
       "      <td>0.234967</td>\n",
       "      <td>0.043344</td>\n",
       "      <td>0.237890</td>\n",
       "      <td>0.527142</td>\n",
       "      <td>0.191623</td>\n",
       "      <td>0.043344</td>\n",
       "      <td>pga</td>\n",
       "      <td>0.266266</td>\n",
       "      <td>pga</td>\n",
       "      <td>0.266266</td>\n",
       "    </tr>\n",
       "    <tr>\n",
       "      <th>4</th>\n",
       "      <td>1349842b-bb26-4430-a526-4e89d1a0ef7c</td>\n",
       "      <td>0.297166</td>\n",
       "      <td>0.107411</td>\n",
       "      <td>0.016413</td>\n",
       "      <td>0.702834</td>\n",
       "      <td>0.189755</td>\n",
       "      <td>0.090998</td>\n",
       "      <td>0.016413</td>\n",
       "      <td>0.484557</td>\n",
       "      <td>0.103785</td>\n",
       "      <td>0.016380</td>\n",
       "      <td>0.515443</td>\n",
       "      <td>0.380772</td>\n",
       "      <td>0.087404</td>\n",
       "      <td>0.016380</td>\n",
       "      <td>pga</td>\n",
       "      <td>0.264974</td>\n",
       "      <td>pga</td>\n",
       "      <td>0.264974</td>\n",
       "    </tr>\n",
       "  </tbody>\n",
       "</table>\n",
       "</div>"
      ],
      "text/plain": [
       "                                   guid  immocc_as  lifsfty_as  collpre_as  \\\n",
       "0  203e4d20-b5e3-4d58-a0fe-f1197a6efa32   0.344360    0.122749    0.018267   \n",
       "1  e2018195-6008-40af-b34a-088c601b1329   0.369472    0.131704    0.019453   \n",
       "2  5c78568d-3539-4d4c-947b-296314aa7d58   0.364714    0.129954    0.019214   \n",
       "3  3c9b2bce-5e4a-462f-9754-f6c363108a68   0.271383    0.100101    0.015654   \n",
       "4  1349842b-bb26-4430-a526-4e89d1a0ef7c   0.297166    0.107411    0.016413   \n",
       "\n",
       "   insig_as    mod_as  heavy_as   comp_as  immocc_ds  lifsfty_ds  collpre_ds  \\\n",
       "0  0.655640  0.221611  0.104482  0.018267   0.312720    0.075042    0.013690   \n",
       "1  0.630528  0.237767  0.112252  0.019453   0.363420    0.079225    0.013911   \n",
       "2  0.635286  0.234760  0.110740  0.019214   0.353627    0.078325    0.013860   \n",
       "3  0.728617  0.171282  0.084447  0.015654   0.762110    0.234967    0.043344   \n",
       "4  0.702834  0.189755  0.090998  0.016413   0.484557    0.103785    0.016380   \n",
       "\n",
       "   insig_ds    mod_ds  heavy_ds   comp_ds hzrdtyp_as  hzrdval_as hzrdtyp_ds  \\\n",
       "0  0.687280  0.237678  0.061352  0.013690        pga    0.252397        pga   \n",
       "1  0.636580  0.284195  0.065315  0.013911        pga    0.271709        pga   \n",
       "2  0.646373  0.275302  0.064465  0.013860        pga    0.267996        pga   \n",
       "3  0.237890  0.527142  0.191623  0.043344        pga    0.266266        pga   \n",
       "4  0.515443  0.380772  0.087404  0.016380        pga    0.264974        pga   \n",
       "\n",
       "   hzrdval_ds  \n",
       "0    0.252397  \n",
       "1    0.271709  \n",
       "2    0.267996  \n",
       "3    0.266266  \n",
       "4    0.264974  "
      ]
     },
     "execution_count": 7,
     "metadata": {},
     "output_type": "execute_result"
    }
   ],
   "source": [
    "dmg_result.head()"
   ]
  },
  {
   "cell_type": "code",
   "execution_count": null,
   "metadata": {},
   "outputs": [],
   "source": []
  }
 ],
 "metadata": {
  "kernelspec": {
   "display_name": "Python 3",
   "language": "python",
   "name": "python3"
  },
  "language_info": {
   "codemirror_mode": {
    "name": "ipython",
    "version": 3
   },
   "file_extension": ".py",
   "mimetype": "text/x-python",
   "name": "python",
   "nbconvert_exporter": "python",
   "pygments_lexer": "ipython3",
   "version": "3.7.3"
  }
 },
 "nbformat": 4,
 "nbformat_minor": 4
}
