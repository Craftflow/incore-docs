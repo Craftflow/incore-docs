{
 "cells": [
  {
   "cell_type": "code",
   "execution_count": 8,
   "metadata": {},
   "outputs": [],
   "source": [
    "from pyincore import InsecureIncoreClient\n",
    "from pyincore.analyses.nonstructbuildingdamage import NonStructBuildingDamage\n",
    "from pyincore.analyses.nonstructbuildingdamage import NonStructBuildingUtil"
   ]
  },
  {
   "cell_type": "markdown",
   "metadata": {},
   "source": [
    "## set input parameters and input datasets"
   ]
  },
  {
   "cell_type": "code",
   "execution_count": 9,
   "metadata": {},
   "outputs": [],
   "source": [
    "client = InsecureIncoreClient(\"http://incore2-services.ncsa.illinois.edu:8888\", \"incrtest\")\n",
    "\n",
    "# Memphis 7.9 AB-95\n",
    "hazard_type = \"earthquake\"\n",
    "hazard_id = \"5b902cb273c3371e1236b36b\"\n",
    "\n",
    "# damage ratio \n",
    "dmg_ratio_id_as = \"5a284f2ec7d30d13bc08207c\"\n",
    "dmg_ratio_id_ds = \"5a284f2ec7d30d13bc082090\"\n",
    "dmg_ratio_id_content = \"5a284f2ec7d30d13bc082086\"\n",
    "\n",
    "# Shelby County Essential Facilities\n",
    "building_dataset_id = \"5a284f42c7d30d13bc0821ba\"\n",
    "\n",
    "# Default Building Fragility Mapping v1.0\n",
    "mapping_id = \"5b47b350337d4a3629076f2c\""
   ]
  },
  {
   "cell_type": "markdown",
   "metadata": {},
   "source": [
    "## set object and fetch datasets based on parameters"
   ]
  },
  {
   "cell_type": "code",
   "execution_count": 10,
   "metadata": {},
   "outputs": [
    {
     "name": "stdout",
     "output_type": "stream",
     "text": [
      "It already exsists; no unzip\n",
      "It already exsists; no unzip\n",
      "It already exsists; no unzip\n",
      "It already exsists; no unzip\n"
     ]
    },
    {
     "data": {
      "text/plain": [
       "True"
      ]
     },
     "execution_count": 10,
     "metadata": {},
     "output_type": "execute_result"
    }
   ],
   "source": [
    "non_structural_building_dmg = NonStructBuildingDamage(client)\n",
    "\n",
    "# Load input datasets\n",
    "non_structural_building_dmg.load_remote_input_dataset(\"buildings\", building_dataset_id)\n",
    "non_structural_building_dmg.load_remote_input_dataset(\"dmg_ratios_as\", dmg_ratio_id_as)\n",
    "non_structural_building_dmg.load_remote_input_dataset(\"dmg_ratios_ds\", dmg_ratio_id_ds)\n",
    "non_structural_building_dmg.load_remote_input_dataset(\"dmg_ratios_content\", dmg_ratio_id_content)\n",
    "\n",
    "# Specify the result name\n",
    "result_name = \"non_structural_building_dmg_result\"\n",
    "\n",
    "# Set analysis parameters\n",
    "non_structural_building_dmg.set_parameter(\"result_name\", result_name)\n",
    "non_structural_building_dmg.set_parameter(\"mapping_id\", mapping_id)\n",
    "non_structural_building_dmg.set_parameter(\"hazard_type\", hazard_type)\n",
    "non_structural_building_dmg.set_parameter(\"hazard_id\", hazard_id)\n",
    "non_structural_building_dmg.set_parameter(\"num_cpu\", 4)"
   ]
  },
  {
   "cell_type": "markdown",
   "metadata": {},
   "source": [
    "### use liquefaction (slow)"
   ]
  },
  {
   "cell_type": "code",
   "execution_count": 14,
   "metadata": {},
   "outputs": [
    {
     "data": {
      "text/plain": [
       "True"
      ]
     },
     "execution_count": 14,
     "metadata": {},
     "output_type": "execute_result"
    }
   ],
   "source": [
    "# Shelby County Liquefaction Susceptibility\n",
    "use_liquefaction = True\n",
    "liq_geology_dataset_id = \"5a284f55c7d30d13bc0824ba\"\n",
    "\n",
    "non_structural_building_dmg.set_parameter(\"use_liquefaction\", use_liquefaction)\n",
    "non_structural_building_dmg.set_parameter(\"liq_geology_dataset_id\", liq_geology_dataset_id)"
   ]
  },
  {
   "cell_type": "markdown",
   "metadata": {},
   "source": [
    "## Run analysis"
   ]
  },
  {
   "cell_type": "code",
   "execution_count": 15,
   "metadata": {},
   "outputs": [
    {
     "data": {
      "text/plain": [
       "True"
      ]
     },
     "execution_count": 15,
     "metadata": {},
     "output_type": "execute_result"
    }
   ],
   "source": [
    "non_structural_building_dmg.run_analysis()"
   ]
  },
  {
   "cell_type": "markdown",
   "metadata": {},
   "source": [
    "## Visualize"
   ]
  },
  {
   "cell_type": "code",
   "execution_count": 16,
   "metadata": {},
   "outputs": [],
   "source": [
    "import pandas as pd\n",
    "dmg_result = pd.read_csv('non_structural_building_dmg_result.csv')"
   ]
  },
  {
   "cell_type": "code",
   "execution_count": 17,
   "metadata": {},
   "outputs": [
    {
     "data": {
      "text/html": [
       "<div>\n",
       "<style scoped>\n",
       "    .dataframe tbody tr th:only-of-type {\n",
       "        vertical-align: middle;\n",
       "    }\n",
       "\n",
       "    .dataframe tbody tr th {\n",
       "        vertical-align: top;\n",
       "    }\n",
       "\n",
       "    .dataframe thead th {\n",
       "        text-align: right;\n",
       "    }\n",
       "</style>\n",
       "<table border=\"1\" class=\"dataframe\">\n",
       "  <thead>\n",
       "    <tr style=\"text-align: right;\">\n",
       "      <th></th>\n",
       "      <th>guid</th>\n",
       "      <th>immocc_as</th>\n",
       "      <th>lifsfty_as</th>\n",
       "      <th>collpre_as</th>\n",
       "      <th>insig_as</th>\n",
       "      <th>mod_as</th>\n",
       "      <th>heavy_as</th>\n",
       "      <th>comp_as</th>\n",
       "      <th>meandmg_as</th>\n",
       "      <th>mdmgdev_as</th>\n",
       "      <th>...</th>\n",
       "      <th>heavy_ds</th>\n",
       "      <th>comp_ds</th>\n",
       "      <th>meandmg_ds</th>\n",
       "      <th>mdmgdev_ds</th>\n",
       "      <th>meandmg_c</th>\n",
       "      <th>mdmgdev_c</th>\n",
       "      <th>hzrdtyp_as</th>\n",
       "      <th>hzrdval_as</th>\n",
       "      <th>hzrdtyp_ds</th>\n",
       "      <th>hzrdval_ds</th>\n",
       "    </tr>\n",
       "  </thead>\n",
       "  <tbody>\n",
       "    <tr>\n",
       "      <th>0</th>\n",
       "      <td>203e4d20-b5e3-4d58-a0fe-f1197a6efa32</td>\n",
       "      <td>0.344360</td>\n",
       "      <td>0.122749</td>\n",
       "      <td>0.018267</td>\n",
       "      <td>0.655640</td>\n",
       "      <td>0.221611</td>\n",
       "      <td>0.104482</td>\n",
       "      <td>0.018267</td>\n",
       "      <td>0.107954</td>\n",
       "      <td>0.165327</td>\n",
       "      <td>...</td>\n",
       "      <td>0.061352</td>\n",
       "      <td>0.013690</td>\n",
       "      <td>0.107589</td>\n",
       "      <td>0.165551</td>\n",
       "      <td>0.065198</td>\n",
       "      <td>0.097095</td>\n",
       "      <td>pga</td>\n",
       "      <td>0.252397</td>\n",
       "      <td>pga</td>\n",
       "      <td>0.252397</td>\n",
       "    </tr>\n",
       "    <tr>\n",
       "      <th>1</th>\n",
       "      <td>e2018195-6008-40af-b34a-088c601b1329</td>\n",
       "      <td>0.369472</td>\n",
       "      <td>0.131704</td>\n",
       "      <td>0.019453</td>\n",
       "      <td>0.630528</td>\n",
       "      <td>0.237767</td>\n",
       "      <td>0.112252</td>\n",
       "      <td>0.019453</td>\n",
       "      <td>0.113581</td>\n",
       "      <td>0.169597</td>\n",
       "      <td>...</td>\n",
       "      <td>0.065315</td>\n",
       "      <td>0.013911</td>\n",
       "      <td>0.116715</td>\n",
       "      <td>0.168674</td>\n",
       "      <td>0.068834</td>\n",
       "      <td>0.099482</td>\n",
       "      <td>pga</td>\n",
       "      <td>0.271709</td>\n",
       "      <td>pga</td>\n",
       "      <td>0.271709</td>\n",
       "    </tr>\n",
       "    <tr>\n",
       "      <th>2</th>\n",
       "      <td>5c78568d-3539-4d4c-947b-296314aa7d58</td>\n",
       "      <td>0.364714</td>\n",
       "      <td>0.129954</td>\n",
       "      <td>0.019214</td>\n",
       "      <td>0.635286</td>\n",
       "      <td>0.234760</td>\n",
       "      <td>0.110740</td>\n",
       "      <td>0.019214</td>\n",
       "      <td>0.112493</td>\n",
       "      <td>0.168775</td>\n",
       "      <td>...</td>\n",
       "      <td>0.064465</td>\n",
       "      <td>0.013860</td>\n",
       "      <td>0.114917</td>\n",
       "      <td>0.168055</td>\n",
       "      <td>0.068133</td>\n",
       "      <td>0.099026</td>\n",
       "      <td>pga</td>\n",
       "      <td>0.267996</td>\n",
       "      <td>pga</td>\n",
       "      <td>0.267996</td>\n",
       "    </tr>\n",
       "    <tr>\n",
       "      <th>3</th>\n",
       "      <td>3c9b2bce-5e4a-462f-9754-f6c363108a68</td>\n",
       "      <td>0.271383</td>\n",
       "      <td>0.100101</td>\n",
       "      <td>0.015654</td>\n",
       "      <td>0.728617</td>\n",
       "      <td>0.171282</td>\n",
       "      <td>0.084447</td>\n",
       "      <td>0.015654</td>\n",
       "      <td>0.092929</td>\n",
       "      <td>0.153627</td>\n",
       "      <td>...</td>\n",
       "      <td>0.191623</td>\n",
       "      <td>0.043344</td>\n",
       "      <td>0.240551</td>\n",
       "      <td>0.231325</td>\n",
       "      <td>0.055360</td>\n",
       "      <td>0.090282</td>\n",
       "      <td>pga</td>\n",
       "      <td>0.266266</td>\n",
       "      <td>pga</td>\n",
       "      <td>0.266266</td>\n",
       "    </tr>\n",
       "    <tr>\n",
       "      <th>4</th>\n",
       "      <td>1349842b-bb26-4430-a526-4e89d1a0ef7c</td>\n",
       "      <td>0.297166</td>\n",
       "      <td>0.107411</td>\n",
       "      <td>0.016413</td>\n",
       "      <td>0.702834</td>\n",
       "      <td>0.189755</td>\n",
       "      <td>0.090998</td>\n",
       "      <td>0.016413</td>\n",
       "      <td>0.097968</td>\n",
       "      <td>0.157532</td>\n",
       "      <td>...</td>\n",
       "      <td>0.087404</td>\n",
       "      <td>0.016380</td>\n",
       "      <td>0.144222</td>\n",
       "      <td>0.182637</td>\n",
       "      <td>0.058688</td>\n",
       "      <td>0.092612</td>\n",
       "      <td>pga</td>\n",
       "      <td>0.264974</td>\n",
       "      <td>pga</td>\n",
       "      <td>0.264974</td>\n",
       "    </tr>\n",
       "  </tbody>\n",
       "</table>\n",
       "<p>5 rows × 25 columns</p>\n",
       "</div>"
      ],
      "text/plain": [
       "                                   guid  immocc_as  lifsfty_as  collpre_as  \\\n",
       "0  203e4d20-b5e3-4d58-a0fe-f1197a6efa32   0.344360    0.122749    0.018267   \n",
       "1  e2018195-6008-40af-b34a-088c601b1329   0.369472    0.131704    0.019453   \n",
       "2  5c78568d-3539-4d4c-947b-296314aa7d58   0.364714    0.129954    0.019214   \n",
       "3  3c9b2bce-5e4a-462f-9754-f6c363108a68   0.271383    0.100101    0.015654   \n",
       "4  1349842b-bb26-4430-a526-4e89d1a0ef7c   0.297166    0.107411    0.016413   \n",
       "\n",
       "   insig_as    mod_as  heavy_as   comp_as  meandmg_as  mdmgdev_as     ...      \\\n",
       "0  0.655640  0.221611  0.104482  0.018267    0.107954    0.165327     ...       \n",
       "1  0.630528  0.237767  0.112252  0.019453    0.113581    0.169597     ...       \n",
       "2  0.635286  0.234760  0.110740  0.019214    0.112493    0.168775     ...       \n",
       "3  0.728617  0.171282  0.084447  0.015654    0.092929    0.153627     ...       \n",
       "4  0.702834  0.189755  0.090998  0.016413    0.097968    0.157532     ...       \n",
       "\n",
       "   heavy_ds   comp_ds  meandmg_ds  mdmgdev_ds  meandmg_c  mdmgdev_c  \\\n",
       "0  0.061352  0.013690    0.107589    0.165551   0.065198   0.097095   \n",
       "1  0.065315  0.013911    0.116715    0.168674   0.068834   0.099482   \n",
       "2  0.064465  0.013860    0.114917    0.168055   0.068133   0.099026   \n",
       "3  0.191623  0.043344    0.240551    0.231325   0.055360   0.090282   \n",
       "4  0.087404  0.016380    0.144222    0.182637   0.058688   0.092612   \n",
       "\n",
       "   hzrdtyp_as  hzrdval_as  hzrdtyp_ds  hzrdval_ds  \n",
       "0         pga    0.252397         pga    0.252397  \n",
       "1         pga    0.271709         pga    0.271709  \n",
       "2         pga    0.267996         pga    0.267996  \n",
       "3         pga    0.266266         pga    0.266266  \n",
       "4         pga    0.264974         pga    0.264974  \n",
       "\n",
       "[5 rows x 25 columns]"
      ]
     },
     "execution_count": 17,
     "metadata": {},
     "output_type": "execute_result"
    }
   ],
   "source": [
    "dmg_result.head()"
   ]
  },
  {
   "cell_type": "code",
   "execution_count": null,
   "metadata": {},
   "outputs": [],
   "source": []
  }
 ],
 "metadata": {
  "kernelspec": {
   "display_name": "Python 3",
   "language": "python",
   "name": "python3"
  },
  "language_info": {
   "codemirror_mode": {
    "name": "ipython",
    "version": 3
   },
   "file_extension": ".py",
   "mimetype": "text/x-python",
   "name": "python",
   "nbconvert_exporter": "python",
   "pygments_lexer": "ipython3",
   "version": "3.6.4"
  }
 },
 "nbformat": 4,
 "nbformat_minor": 2
}
