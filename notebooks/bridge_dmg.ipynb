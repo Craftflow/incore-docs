{
 "cells": [
  {
   "cell_type": "code",
   "execution_count": null,
   "metadata": {},
   "outputs": [],
   "source": [
    "from pyincore import IncoreClient, DataService\n",
    "from pyincore.analyses.bridgedamage import BridgeDamage"
   ]
  },
  {
   "cell_type": "code",
   "execution_count": null,
   "metadata": {},
   "outputs": [],
   "source": [
    "# Connect to IN-CORE service\n",
    "client = IncoreClient()"
   ]
  },
  {
   "cell_type": "markdown",
   "metadata": {},
   "source": [
    "### Bridge damage for Shelby county, TN with New Madrid earthquake"
   ]
  },
  {
   "cell_type": "code",
   "execution_count": null,
   "metadata": {},
   "outputs": [],
   "source": [
    "# New Madrid earthquake using Atkinson Boore 1995\n",
    "hazard_type = \"earthquake\"\n",
    "hazard_id = \"5b902cb273c3371e1236b36b\"\n",
    "\n",
    "# Bridget inventory in Shelby county, TN\n",
    "bridge_dataset_id = \"5a284f2dc7d30d13bc082040\"\n",
    "\n",
    "# Default Bridge Fragility Mapping\n",
    "mapping_id = \"5b47bcce337d4a37755e0cb2\"\n",
    "\n",
    "# Use hazard uncertainty for computing damage\n",
    "use_hazard_uncertainty = False\n",
    "# Use liquefaction (LIQ) column of bridges to modify fragility curve\n",
    "use_liquefaction = False"
   ]
  },
  {
   "cell_type": "code",
   "execution_count": null,
   "metadata": {},
   "outputs": [],
   "source": [
    "# Create bridge damage \n",
    "bridge_dmg = BridgeDamage(client)\n",
    "\n",
    "# Load input dataset\n",
    "bridge_dmg.load_remote_input_dataset(\"bridges\", bridge_dataset_id)\n",
    "\n",
    "# Specify the result name\n",
    "result_name = \"bridge_result\"\n",
    "\n",
    "# Set analysis parameters\n",
    "bridge_dmg.set_parameter(\"result_name\", result_name)\n",
    "bridge_dmg.set_parameter(\"mapping_id\", mapping_id)\n",
    "bridge_dmg.set_parameter(\"hazard_type\", hazard_type)\n",
    "bridge_dmg.set_parameter(\"hazard_id\", hazard_id)\n",
    "bridge_dmg.set_parameter(\"num_cpu\", 4)"
   ]
  },
  {
   "cell_type": "code",
   "execution_count": null,
   "metadata": {},
   "outputs": [],
   "source": [
    "# Run bridge damage analysis\n",
    "bridge_dmg.run_analysis()"
   ]
  },
  {
   "cell_type": "code",
   "execution_count": null,
   "metadata": {},
   "outputs": [],
   "source": [
    "# Retrieve result dataset\n",
    "result = bridge_dmg.get_output_dataset(\"result\")\n",
    "\n",
    "# Convert dataset to Pandas DataFrame\n",
    "df = result.get_dataframe_from_csv()\n",
    "\n",
    "# Display top 5 rows of output data\n",
    "df.head()"
   ]
  },
  {
   "cell_type": "markdown",
   "metadata": {},
   "source": [
    "### Bridge damage for Seaside, OR with an earthquake"
   ]
  },
  {
   "cell_type": "code",
   "execution_count": null,
   "metadata": {},
   "outputs": [],
   "source": [
    "bridge_dmg.load_remote_input_dataset(\"bridges\", \"5d6ede5db9219c34b56fc20b\")\n",
    "bridge_dmg.set_parameter(\"result_name\", \"seaside_eq_bridge_dmg\")\n",
    "bridge_dmg.set_parameter(\"mapping_id\", \"5d55c3a1b9219c0689f1f898\")\n",
    "bridge_dmg.set_parameter(\"hazard_type\", \"earthquake\")\n",
    "bridge_dmg.set_parameter(\"hazard_id\", \"5ba8f379ec2309043520906f\")\n",
    "bridge_dmg.set_parameter(\"num_cpu\", 4)\n",
    "bridge_dmg.run_analysis()"
   ]
  },
  {
   "cell_type": "code",
   "execution_count": null,
   "metadata": {},
   "outputs": [],
   "source": [
    "# Retrieve result dataset\n",
    "result = bridge_dmg.get_output_dataset(\"result\")\n",
    "\n",
    "# Convert dataset to Pandas DataFrame\n",
    "df = result.get_dataframe_from_csv()\n",
    "\n",
    "# Display top 5 rows of output data\n",
    "df.head()"
   ]
  },
  {
   "cell_type": "markdown",
   "metadata": {},
   "source": [
    "### Bridge damage for Seaside, OR with a tsunami "
   ]
  },
  {
   "cell_type": "code",
   "execution_count": null,
   "metadata": {},
   "outputs": [],
   "source": [
    "bridge_dmg.load_remote_input_dataset(\"bridges\", \"5d6ede5db9219c34b56fc20b\")\n",
    "bridge_dmg.set_parameter(\"result_name\", \"seaside_tsu_bridge_dmg\")\n",
    "bridge_dmg.set_parameter(\"mapping_id\", \"5d275000b9219c3c553c7202\")\n",
    "bridge_dmg.set_parameter(\"hazard_type\", \"tsunami\")\n",
    "bridge_dmg.set_parameter(\"hazard_id\", \"5d27b986b9219c3c55ad37d0\")\n",
    "bridge_dmg.set_parameter(\"num_cpu\", 4)\n",
    "bridge_dmg.run_analysis()"
   ]
  },
  {
   "cell_type": "code",
   "execution_count": null,
   "metadata": {},
   "outputs": [],
   "source": [
    "# Retrieve result dataset and convert to DataFrame\n",
    "df = bridge_dmg.get_output_dataset(\"result\").get_dataframe_from_csv()\n",
    "\n",
    "# Display top 5 rows of output data\n",
    "df.head()"
   ]
  }
 ],
 "metadata": {
  "kernelspec": {
   "display_name": "Python 3",
   "language": "python",
   "name": "python3"
  },
  "language_info": {
   "codemirror_mode": {
    "name": "ipython",
    "version": 3
   },
   "file_extension": ".py",
   "mimetype": "text/x-python",
   "name": "python",
   "nbconvert_exporter": "python",
   "pygments_lexer": "ipython3",
   "version": "3.7.3"
  }
 },
 "nbformat": 4,
 "nbformat_minor": 4
}