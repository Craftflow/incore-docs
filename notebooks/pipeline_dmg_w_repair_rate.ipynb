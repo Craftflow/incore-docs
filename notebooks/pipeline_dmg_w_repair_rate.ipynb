{
 "cells": [
  {
   "cell_type": "code",
   "execution_count": 1,
   "metadata": {},
   "outputs": [],
   "source": [
    "from pyincore import IncoreClient, DataService\n",
    "from pyincore.analyses.pipelinedamagerepairrate import PipelineDamageRepairRate, PipelineUtil"
   ]
  },
  {
   "cell_type": "code",
   "execution_count": 2,
   "metadata": {},
   "outputs": [],
   "source": [
    "client = IncoreClient()"
   ]
  },
  {
   "cell_type": "markdown",
   "metadata": {},
   "source": [
    "### Pipeline damage analysis with repair rate for Shelby county, TN"
   ]
  },
  {
   "cell_type": "code",
   "execution_count": 3,
   "metadata": {},
   "outputs": [],
   "source": [
    "# New madrid earthquake using Atkinson Boore 1995\n",
    "hazard_type = \"earthquake\"\n",
    "hazard_id = \"5b902cb273c3371e1236b36b\"\n",
    "\n",
    "# Water Buried Pipeline inventory in Shelby county, TN\n",
    "pipeline_dataset_id = \"5a284f28c7d30d13bc081d14\"\n",
    "\n",
    "# pipeline fragility mapping\n",
    "mapping_id = \"5b47c227337d4a38464efea8\"\n",
    "\n",
    "# Geology dataset\n",
    "liq_geology_dataset_id = \"5a284f53c7d30d13bc08249c\"\n",
    "liq_fragility_key = \"pgd\"\n",
    "use_liq = True"
   ]
  },
  {
   "cell_type": "code",
   "execution_count": 4,
   "metadata": {},
   "outputs": [
    {
     "name": "stdout",
     "output_type": "stream",
     "text": [
      "Dataset already exists locally. Reading from local cache.\n"
     ]
    },
    {
     "data": {
      "text/plain": [
       "True"
      ]
     },
     "execution_count": 4,
     "metadata": {},
     "output_type": "execute_result"
    }
   ],
   "source": [
    "# Create pipeline damage with repair rate\n",
    "pipeline_dmg_w_rr = PipelineDamageRepairRate(client)\n",
    "\n",
    "# Load pipeline inventory as input datasets\n",
    "pipeline_dmg_w_rr.load_remote_input_dataset(\"pipeline\", pipeline_dataset_id)\n",
    "\n",
    "# Specify the result name\n",
    "result_name = \"pipeline_result\"\n",
    "\n",
    "# Set analysis parameters\n",
    "pipeline_dmg_w_rr.set_parameter(\"result_name\", result_name)\n",
    "pipeline_dmg_w_rr.set_parameter(\"mapping_id\", mapping_id)\n",
    "pipeline_dmg_w_rr.set_parameter(\"hazard_type\", hazard_type)\n",
    "pipeline_dmg_w_rr.set_parameter(\"hazard_id\", hazard_id)\n",
    "pipeline_dmg_w_rr.set_parameter(\"liquefaction_fragility_key\", liq_fragility_key)\n",
    "pipeline_dmg_w_rr.set_parameter(\"liquefaction_geology_dataset_id\",liq_geology_dataset_id)\n",
    "pipeline_dmg_w_rr.set_parameter(\"use_liquefaction\", use_liq)\n",
    "pipeline_dmg_w_rr.set_parameter(\"num_cpu\", 4)"
   ]
  },
  {
   "cell_type": "code",
   "execution_count": 5,
   "metadata": {},
   "outputs": [
    {
     "data": {
      "text/plain": [
       "True"
      ]
     },
     "execution_count": 5,
     "metadata": {},
     "output_type": "execute_result"
    }
   ],
   "source": [
    "# Run pipeline  damage analysis\n",
    "pipeline_dmg_w_rr.run_analysis()"
   ]
  },
  {
   "cell_type": "code",
   "execution_count": 6,
   "metadata": {},
   "outputs": [
    {
     "data": {
      "text/html": [
       "<div>\n",
       "<style scoped>\n",
       "    .dataframe tbody tr th:only-of-type {\n",
       "        vertical-align: middle;\n",
       "    }\n",
       "\n",
       "    .dataframe tbody tr th {\n",
       "        vertical-align: top;\n",
       "    }\n",
       "\n",
       "    .dataframe thead th {\n",
       "        text-align: right;\n",
       "    }\n",
       "</style>\n",
       "<table border=\"1\" class=\"dataframe\">\n",
       "  <thead>\n",
       "    <tr style=\"text-align: right;\">\n",
       "      <th></th>\n",
       "      <th>guid</th>\n",
       "      <th>pipeclass</th>\n",
       "      <th>pgvrepairs</th>\n",
       "      <th>pgdrepairs</th>\n",
       "      <th>repairspkm</th>\n",
       "      <th>breakrate</th>\n",
       "      <th>leakrate</th>\n",
       "      <th>failprob</th>\n",
       "      <th>demandtype</th>\n",
       "      <th>hazardtype</th>\n",
       "      <th>hazardval</th>\n",
       "      <th>liqhaztype</th>\n",
       "      <th>liqhazval</th>\n",
       "      <th>liqprobability</th>\n",
       "      <th>numpgvrpr</th>\n",
       "      <th>numpgdrpr</th>\n",
       "      <th>numrepairs</th>\n",
       "    </tr>\n",
       "  </thead>\n",
       "  <tbody>\n",
       "    <tr>\n",
       "      <th>0</th>\n",
       "      <td>0a076a0d-54fa-4f82-a8af-ce3bd227fcfa</td>\n",
       "      <td>Welded Steel</td>\n",
       "      <td>0.061053</td>\n",
       "      <td>1.127191</td>\n",
       "      <td>1.188244</td>\n",
       "      <td>0.913964</td>\n",
       "      <td>0.274281</td>\n",
       "      <td>0.902763</td>\n",
       "      <td>pgv</td>\n",
       "      <td>earthquake</td>\n",
       "      <td>29.544962</td>\n",
       "      <td>pgd</td>\n",
       "      <td>126.378140</td>\n",
       "      <td>0.25</td>\n",
       "      <td>0.155686</td>\n",
       "      <td>2.874337</td>\n",
       "      <td>3.030023</td>\n",
       "    </tr>\n",
       "    <tr>\n",
       "      <th>1</th>\n",
       "      <td>cee37f5e-6e62-40e6-be5a-485d5c78bd25</td>\n",
       "      <td>Welded Steel</td>\n",
       "      <td>0.050801</td>\n",
       "      <td>0.704834</td>\n",
       "      <td>0.755634</td>\n",
       "      <td>0.574027</td>\n",
       "      <td>0.181607</td>\n",
       "      <td>0.713890</td>\n",
       "      <td>pgv</td>\n",
       "      <td>earthquake</td>\n",
       "      <td>27.226929</td>\n",
       "      <td>pgd</td>\n",
       "      <td>81.395189</td>\n",
       "      <td>0.20</td>\n",
       "      <td>0.110745</td>\n",
       "      <td>1.536537</td>\n",
       "      <td>1.647282</td>\n",
       "    </tr>\n",
       "    <tr>\n",
       "      <th>2</th>\n",
       "      <td>77f5d8b6-ad73-4959-b357-0c512d8f2bcd</td>\n",
       "      <td>Welded Steel</td>\n",
       "      <td>0.022929</td>\n",
       "      <td>0.304185</td>\n",
       "      <td>0.327114</td>\n",
       "      <td>0.247934</td>\n",
       "      <td>0.079180</td>\n",
       "      <td>0.936204</td>\n",
       "      <td>pgv</td>\n",
       "      <td>earthquake</td>\n",
       "      <td>19.118495</td>\n",
       "      <td>pgd</td>\n",
       "      <td>18.151124</td>\n",
       "      <td>0.20</td>\n",
       "      <td>0.254516</td>\n",
       "      <td>3.376449</td>\n",
       "      <td>3.630965</td>\n",
       "    </tr>\n",
       "    <tr>\n",
       "      <th>3</th>\n",
       "      <td>07267d06-089e-4db7-a479-1794cdc23be3</td>\n",
       "      <td>Welded Steel</td>\n",
       "      <td>0.035117</td>\n",
       "      <td>0.416736</td>\n",
       "      <td>0.451853</td>\n",
       "      <td>0.340412</td>\n",
       "      <td>0.111441</td>\n",
       "      <td>0.833134</td>\n",
       "      <td>pgv</td>\n",
       "      <td>earthquake</td>\n",
       "      <td>23.106492</td>\n",
       "      <td>pgd</td>\n",
       "      <td>31.845814</td>\n",
       "      <td>0.20</td>\n",
       "      <td>0.184718</td>\n",
       "      <td>2.192029</td>\n",
       "      <td>2.376747</td>\n",
       "    </tr>\n",
       "    <tr>\n",
       "      <th>4</th>\n",
       "      <td>ec3d4c41-ae4a-4489-9984-1d96e7f4ae06</td>\n",
       "      <td>Welded Steel</td>\n",
       "      <td>0.040063</td>\n",
       "      <td>0.457733</td>\n",
       "      <td>0.497796</td>\n",
       "      <td>0.374199</td>\n",
       "      <td>0.123597</td>\n",
       "      <td>0.989592</td>\n",
       "      <td>pgv</td>\n",
       "      <td>earthquake</td>\n",
       "      <td>24.500083</td>\n",
       "      <td>pgd</td>\n",
       "      <td>37.654974</td>\n",
       "      <td>0.20</td>\n",
       "      <td>0.488774</td>\n",
       "      <td>5.584337</td>\n",
       "      <td>6.073111</td>\n",
       "    </tr>\n",
       "  </tbody>\n",
       "</table>\n",
       "</div>"
      ],
      "text/plain": [
       "                                   guid     pipeclass  pgvrepairs  pgdrepairs  \\\n",
       "0  0a076a0d-54fa-4f82-a8af-ce3bd227fcfa  Welded Steel    0.061053    1.127191   \n",
       "1  cee37f5e-6e62-40e6-be5a-485d5c78bd25  Welded Steel    0.050801    0.704834   \n",
       "2  77f5d8b6-ad73-4959-b357-0c512d8f2bcd  Welded Steel    0.022929    0.304185   \n",
       "3  07267d06-089e-4db7-a479-1794cdc23be3  Welded Steel    0.035117    0.416736   \n",
       "4  ec3d4c41-ae4a-4489-9984-1d96e7f4ae06  Welded Steel    0.040063    0.457733   \n",
       "\n",
       "   repairspkm  breakrate  leakrate  failprob demandtype  hazardtype  \\\n",
       "0    1.188244   0.913964  0.274281  0.902763        pgv  earthquake   \n",
       "1    0.755634   0.574027  0.181607  0.713890        pgv  earthquake   \n",
       "2    0.327114   0.247934  0.079180  0.936204        pgv  earthquake   \n",
       "3    0.451853   0.340412  0.111441  0.833134        pgv  earthquake   \n",
       "4    0.497796   0.374199  0.123597  0.989592        pgv  earthquake   \n",
       "\n",
       "   hazardval liqhaztype   liqhazval  liqprobability  numpgvrpr  numpgdrpr  \\\n",
       "0  29.544962        pgd  126.378140            0.25   0.155686   2.874337   \n",
       "1  27.226929        pgd   81.395189            0.20   0.110745   1.536537   \n",
       "2  19.118495        pgd   18.151124            0.20   0.254516   3.376449   \n",
       "3  23.106492        pgd   31.845814            0.20   0.184718   2.192029   \n",
       "4  24.500083        pgd   37.654974            0.20   0.488774   5.584337   \n",
       "\n",
       "   numrepairs  \n",
       "0    3.030023  \n",
       "1    1.647282  \n",
       "2    3.630965  \n",
       "3    2.376747  \n",
       "4    6.073111  "
      ]
     },
     "execution_count": 6,
     "metadata": {},
     "output_type": "execute_result"
    }
   ],
   "source": [
    "# Retrieve result dataset\n",
    "result = pipeline_dmg_w_rr.get_output_dataset(\"result\")\n",
    "\n",
    "# Convert dataset to Pandas DataFrame\n",
    "df = result.get_dataframe_from_csv()\n",
    "\n",
    "# Display top 5 rows of output data\n",
    "df.head()"
   ]
  }
 ],
 "metadata": {
  "kernelspec": {
   "display_name": "Python 3",
   "language": "python",
   "name": "python3"
  },
  "language_info": {
   "codemirror_mode": {
    "name": "ipython",
    "version": 3
   },
   "file_extension": ".py",
   "mimetype": "text/x-python",
   "name": "python",
   "nbconvert_exporter": "python",
   "pygments_lexer": "ipython3",
   "version": "3.7.3"
  }
 },
 "nbformat": 4,
 "nbformat_minor": 4
}
