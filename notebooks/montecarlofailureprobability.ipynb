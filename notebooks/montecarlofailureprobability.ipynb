{
 "cells": [
  {
   "cell_type": "code",
   "execution_count": null,
   "metadata": {
    "scrolled": true
   },
   "outputs": [],
   "source": [
    "from pyincore.analyses.montecarlofailureprobability import MonteCarloFailureProbability\n",
    "from pyincore.analyses.buildingdamage import BuildingDamage\n",
    "from pyincore.analyses.waterfacilitydamage import WaterFacilityDamage\n",
    "from pyincore.analyses.bridgedamage import BridgeDamage\n",
    "from pyincore.client import IncoreClient"
   ]
  },
  {
   "cell_type": "markdown",
   "metadata": {},
   "source": [
    "### define client"
   ]
  },
  {
   "cell_type": "code",
   "execution_count": null,
   "metadata": {},
   "outputs": [],
   "source": [
    "client = IncoreClient()"
   ]
  },
  {
   "cell_type": "code",
   "execution_count": null,
   "metadata": {},
   "outputs": [],
   "source": [
    "mc = MonteCarloFailureProbability(client)\n",
    "mc.load_remote_input_dataset(\"damage\", \"5a29782fc7d30d4af537ace5\")\n",
    "mc.set_parameter(\"result_name\", \"mc_failure_probability\")\n",
    "mc.set_parameter(\"num_cpu\", 8)\n",
    "mc.set_parameter(\"num_samples\", 10)\n",
    "mc.set_parameter(\"damage_interval_keys\",\n",
    "                 [\"insignific\", \"moderate\", \"heavy\", \"complete\"])\n",
    "mc.set_parameter(\"failure_state_keys\", [\"moderate\", \"heavy\", \"complete\"])\n",
    "mc.run_analysis()"
   ]
  },
  {
   "cell_type": "markdown",
   "metadata": {},
   "source": [
    "### chaining with building damage"
   ]
  },
  {
   "cell_type": "code",
   "execution_count": null,
   "metadata": {},
   "outputs": [],
   "source": [
    "bldg_dmg = BuildingDamage(client)\n",
    "bldg_dmg.load_remote_input_dataset(\"buildings\", \"5a284f0bc7d30d13bc081a28\")\n",
    "bldg_dmg.set_parameter(\"result_name\", \"memphis_building_damage\")\n",
    "bldg_dmg.set_parameter(\"mapping_id\", \"5b47b350337d4a3629076f2c\")\n",
    "bldg_dmg.set_parameter(\"hazard_type\", \"earthquake\")\n",
    "bldg_dmg.set_parameter(\"hazard_id\", \"5b902cb273c3371e1236b36b\")\n",
    "bldg_dmg.set_parameter(\"num_cpu\", 1)\n",
    "bldg_dmg.run_analysis()"
   ]
  },
  {
   "cell_type": "code",
   "execution_count": null,
   "metadata": {},
   "outputs": [],
   "source": [
    "building_dmg_result = bldg_dmg.get_output_dataset('result')\n",
    "\n",
    "mc = MonteCarloFailureProbability(client)\n",
    "mc.set_input_dataset(\"damage\", building_dmg_result)\n",
    "mc.set_parameter(\"result_name\", \"bldg_mc_failure_probability\")\n",
    "mc.set_parameter(\"num_cpu\", 8)\n",
    "mc.set_parameter(\"num_samples\", 10)\n",
    "mc.set_parameter(\"damage_interval_keys\",\n",
    "                 [\"insignific\", \"moderate\", \"heavy\", \"complete\"])\n",
    "mc.set_parameter(\"failure_state_keys\", [\"moderate\", \"heavy\", \"complete\"])\n",
    "mc.run_analysis()"
   ]
  },
  {
   "cell_type": "code",
   "execution_count": null,
   "metadata": {},
   "outputs": [],
   "source": [
    "mc.get_output_dataset(\"result\").get_dataframe_from_csv()"
   ]
  },
  {
   "cell_type": "markdown",
   "metadata": {},
   "source": [
    "### chaining with water facility damage"
   ]
  },
  {
   "cell_type": "code",
   "execution_count": null,
   "metadata": {},
   "outputs": [],
   "source": [
    "wf_dmg = WaterFacilityDamage(client)\n",
    "wf_dmg.load_remote_input_dataset(\"water_facilities\", \"5a284f2ac7d30d13bc081e52\")\n",
    "wf_dmg.set_parameter(\"result_name\", \"wf_dmg_results\")\n",
    "wf_dmg.set_parameter(\"hazard_type\", \"earthquake\")\n",
    "wf_dmg.set_parameter(\"hazard_id\", \"5b902cb273c3371e1236b36b\")\n",
    "wf_dmg.set_parameter(\"mapping_id\", \"5b47c383337d4a387669d592\")\n",
    "wf_dmg.set_parameter(\"fragility_key\", \"pga\")\n",
    "wf_dmg.set_parameter(\"use_liquefaction\", True)\n",
    "wf_dmg.set_parameter(\"liquefaction_geology_dataset_id\", \"5a284f53c7d30d13bc08249c\")\n",
    "wf_dmg.set_parameter(\"liquefaction_fragility_key\", \"pgd\")\n",
    "wf_dmg.set_parameter(\"use_hazard_uncertainty\", False)\n",
    "wf_dmg.set_parameter(\"num_cpu\", 1)\n",
    "wf_dmg.run_analysis()"
   ]
  },
  {
   "cell_type": "code",
   "execution_count": null,
   "metadata": {},
   "outputs": [],
   "source": [
    "water_facility_dmg_result = wf_dmg.get_output_dataset('result')\n",
    "\n",
    "mc = MonteCarloFailureProbability(client)\n",
    "mc.set_input_dataset(\"damage\", water_facility_dmg_result)\n",
    "mc.set_parameter(\"result_name\", \"water_facility_mc_failure_probability\")\n",
    "mc.set_parameter(\"num_cpu\", 8)\n",
    "mc.set_parameter(\"num_samples\", 10)\n",
    "mc.set_parameter(\"damage_interval_keys\",\n",
    "                 [\"ds-none\", \"ds-slight\", \"ds-moderat\", \"ds-extensi\", \"ds-complet\"])\n",
    "mc.set_parameter(\"failure_state_keys\", [\"ds-slight\", \"ds-moderat\", \"ds-extensi\", \"ds-complet\"])\n",
    "mc.run_analysis()"
   ]
  },
  {
   "cell_type": "code",
   "execution_count": null,
   "metadata": {},
   "outputs": [],
   "source": [
    "mc.get_output_dataset(\"result\").get_dataframe_from_csv()"
   ]
  },
  {
   "cell_type": "code",
   "execution_count": null,
   "metadata": {},
   "outputs": [],
   "source": []
  }
 ],
 "metadata": {
  "kernelspec": {
   "display_name": "Python 3",
   "language": "python",
   "name": "python3"
  },
  "language_info": {
   "codemirror_mode": {
    "name": "ipython",
    "version": 3
   },
   "file_extension": ".py",
   "mimetype": "text/x-python",
   "name": "python",
   "nbconvert_exporter": "python",
   "pygments_lexer": "ipython3",
   "version": "3.7.3"
  }
 },
 "nbformat": 4,
 "nbformat_minor": 4
}