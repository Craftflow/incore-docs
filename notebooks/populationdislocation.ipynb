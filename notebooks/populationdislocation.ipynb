{
 "cells": [
  {
   "cell_type": "code",
   "execution_count": 6,
   "metadata": {
    "pycharm": {
     "is_executing": false
    }
   },
   "outputs": [],
   "source": [
    "from pyincore import IncoreClient\n",
    "from pyincore.analyses.populationdislocation import PopulationDislocation, PopulationDislocationUtil"
   ]
  },
  {
   "cell_type": "code",
   "execution_count": 7,
   "metadata": {
    "collapsed": false,
    "jupyter": {
     "outputs_hidden": false
    },
    "pycharm": {
     "name": "#%%\n"
    }
   },
   "outputs": [],
   "source": [
    "# Connect to IN-CORE service\n",
    "client = IncoreClient()"
   ]
  },
  {
   "cell_type": "markdown",
   "metadata": {},
   "source": [
    "### Population dislocation for Joplin, MO"
   ]
  },
  {
   "cell_type": "code",
   "execution_count": 8,
   "metadata": {
    "collapsed": false,
    "jupyter": {
     "outputs_hidden": false
    },
    "pycharm": {
     "name": "#%%\n"
    }
   },
   "outputs": [],
   "source": [
    "# Joplin, MO, Building damage, Joplin_bldg_dmg_result\n",
    "building_dmg = \"5dbc9525b9219c06dd282637\"\n",
    "\n",
    "# Joplin, MO, House unit allocation, 2ev2_housingunitallocation_1238\n",
    "housing_unit_alloc = \"5dc1c196b9219c06dd2e3f0b\"\n",
    "\n",
    "# Joplin, MO, Background data, 2ev2_2019-08-01_bgdata\n",
    "bg_data = \"5d4c9545b9219c0689b2358a\"\n",
    "\n",
    "# Value loss parameters, value_loss_bai09.csv\n",
    "value_loss = \"5dfd1069fc33d500081555d8\""
   ]
  },
  {
   "cell_type": "code",
   "execution_count": 9,
   "metadata": {
    "pycharm": {
     "is_executing": false
    }
   },
   "outputs": [
    {
     "name": "stdout",
     "output_type": "stream",
     "text": [
      "Dataset already exists locally. Reading from local cache.\n",
      "Dataset already exists locally. Reading from local cache.\n",
      "Dataset already exists locally. Reading from local cache.\n",
      "Dataset already exists locally. Reading from local cache.\n"
     ]
    },
    {
     "data": {
      "text/plain": [
       "True"
      ]
     },
     "execution_count": 9,
     "metadata": {},
     "output_type": "execute_result"
    }
   ],
   "source": [
    "# Create population dislocatin \n",
    "pop_dis = PopulationDislocation(client)\n",
    "\n",
    "# Load input dataset\n",
    "pop_dis.load_remote_input_dataset(\"building_dmg\", building_dmg)\n",
    "pop_dis.load_remote_input_dataset(\"housing_unit_allocation\", housing_unit_alloc)\n",
    "pop_dis.load_remote_input_dataset(\"block_group_data\", bg_data)\n",
    "pop_dis.load_remote_input_dataset(\"value_poss_param\", value_loss)\n",
    "\n",
    "# Specify the result name\n",
    "result_name = \"IN-CORE_1bv6_population_dislocation\"\n",
    "\n",
    "seed = 1111\n",
    "\n",
    "# Set analysis parameters\n",
    "pop_dis.set_parameter(\"result_name\", result_name)\n",
    "pop_dis.set_parameter(\"seed\", seed)"
   ]
  },
  {
   "cell_type": "code",
   "execution_count": 10,
   "metadata": {
    "pycharm": {
     "is_executing": false,
     "name": "#%%\n"
    }
   },
   "outputs": [
    {
     "data": {
      "text/plain": [
       "True"
      ]
     },
     "execution_count": 10,
     "metadata": {},
     "output_type": "execute_result"
    }
   ],
   "source": [
    "# Run Population dislocation analysis\n",
    "pop_dis.run_analysis()"
   ]
  },
  {
   "cell_type": "code",
   "execution_count": 11,
   "metadata": {},
   "outputs": [
    {
     "data": {
      "text/html": [
       "<div>\n",
       "<style scoped>\n",
       "    .dataframe tbody tr th:only-of-type {\n",
       "        vertical-align: middle;\n",
       "    }\n",
       "\n",
       "    .dataframe tbody tr th {\n",
       "        vertical-align: top;\n",
       "    }\n",
       "\n",
       "    .dataframe thead th {\n",
       "        text-align: right;\n",
       "    }\n",
       "</style>\n",
       "<table border=\"1\" class=\"dataframe\">\n",
       "  <thead>\n",
       "    <tr style=\"text-align: right;\">\n",
       "      <th></th>\n",
       "      <th>guid</th>\n",
       "      <th>insignific</th>\n",
       "      <th>moderate</th>\n",
       "      <th>heavy</th>\n",
       "      <th>complete</th>\n",
       "      <th>strctid</th>\n",
       "      <th>statefp10</th>\n",
       "      <th>tractce10</th>\n",
       "      <th>pumgeoid10</th>\n",
       "      <th>pumname10</th>\n",
       "      <th>...</th>\n",
       "      <th>bgyear</th>\n",
       "      <th>pblackbg</th>\n",
       "      <th>phispbg</th>\n",
       "      <th>d_sf</th>\n",
       "      <th>rploss_ins</th>\n",
       "      <th>rploss_med</th>\n",
       "      <th>rploss_hwy</th>\n",
       "      <th>rploss_cmp</th>\n",
       "      <th>prdis</th>\n",
       "      <th>dislocated</th>\n",
       "    </tr>\n",
       "  </thead>\n",
       "  <tbody>\n",
       "    <tr>\n",
       "      <th>0</th>\n",
       "      <td>b497b88f-a4ba-48b1-8438-5cfc68147cfc</td>\n",
       "      <td>1.0</td>\n",
       "      <td>0.0</td>\n",
       "      <td>0.0</td>\n",
       "      <td>0.0</td>\n",
       "      <td>S0018614</td>\n",
       "      <td>29.0</td>\n",
       "      <td>11100.0</td>\n",
       "      <td>2902800.0</td>\n",
       "      <td>Jasper &amp; Newton Counties PUMA</td>\n",
       "      <td>...</td>\n",
       "      <td>2010.0</td>\n",
       "      <td>2.235294</td>\n",
       "      <td>4.470588</td>\n",
       "      <td>0</td>\n",
       "      <td>0.002914</td>\n",
       "      <td>0.100425</td>\n",
       "      <td>0.524702</td>\n",
       "      <td>0.889881</td>\n",
       "      <td>0.374637</td>\n",
       "      <td>True</td>\n",
       "    </tr>\n",
       "    <tr>\n",
       "      <th>1</th>\n",
       "      <td>6eadcc3e-7bb5-463a-aca8-f1d16f8ac7cc</td>\n",
       "      <td>1.0</td>\n",
       "      <td>0.0</td>\n",
       "      <td>0.0</td>\n",
       "      <td>0.0</td>\n",
       "      <td>S0018615</td>\n",
       "      <td>29.0</td>\n",
       "      <td>11100.0</td>\n",
       "      <td>2902800.0</td>\n",
       "      <td>Jasper &amp; Newton Counties PUMA</td>\n",
       "      <td>...</td>\n",
       "      <td>2010.0</td>\n",
       "      <td>2.235294</td>\n",
       "      <td>4.470588</td>\n",
       "      <td>0</td>\n",
       "      <td>0.006930</td>\n",
       "      <td>0.132025</td>\n",
       "      <td>0.677548</td>\n",
       "      <td>0.951019</td>\n",
       "      <td>0.376972</td>\n",
       "      <td>False</td>\n",
       "    </tr>\n",
       "    <tr>\n",
       "      <th>2</th>\n",
       "      <td>758fb3de-108a-4e04-895e-fdc4b8627876</td>\n",
       "      <td>1.0</td>\n",
       "      <td>0.0</td>\n",
       "      <td>0.0</td>\n",
       "      <td>0.0</td>\n",
       "      <td>S0018616</td>\n",
       "      <td>29.0</td>\n",
       "      <td>11100.0</td>\n",
       "      <td>2902800.0</td>\n",
       "      <td>Jasper &amp; Newton Counties PUMA</td>\n",
       "      <td>...</td>\n",
       "      <td>NaN</td>\n",
       "      <td>NaN</td>\n",
       "      <td>NaN</td>\n",
       "      <td>0</td>\n",
       "      <td>0.005776</td>\n",
       "      <td>0.100000</td>\n",
       "      <td>0.654935</td>\n",
       "      <td>0.941974</td>\n",
       "      <td>NaN</td>\n",
       "      <td>False</td>\n",
       "    </tr>\n",
       "    <tr>\n",
       "      <th>3</th>\n",
       "      <td>7b706697-bf9b-4883-90f6-862d67a8e64b</td>\n",
       "      <td>1.0</td>\n",
       "      <td>0.0</td>\n",
       "      <td>0.0</td>\n",
       "      <td>0.0</td>\n",
       "      <td>S0018617</td>\n",
       "      <td>29.0</td>\n",
       "      <td>11100.0</td>\n",
       "      <td>2902800.0</td>\n",
       "      <td>Jasper &amp; Newton Counties PUMA</td>\n",
       "      <td>...</td>\n",
       "      <td>2010.0</td>\n",
       "      <td>2.235294</td>\n",
       "      <td>4.470588</td>\n",
       "      <td>0</td>\n",
       "      <td>0.002404</td>\n",
       "      <td>0.105851</td>\n",
       "      <td>0.436479</td>\n",
       "      <td>0.854591</td>\n",
       "      <td>0.374340</td>\n",
       "      <td>True</td>\n",
       "    </tr>\n",
       "    <tr>\n",
       "      <th>4</th>\n",
       "      <td>19c91f9b-f679-4263-b7a3-e76fd859c4b1</td>\n",
       "      <td>1.0</td>\n",
       "      <td>0.0</td>\n",
       "      <td>0.0</td>\n",
       "      <td>0.0</td>\n",
       "      <td>S0018618</td>\n",
       "      <td>29.0</td>\n",
       "      <td>11100.0</td>\n",
       "      <td>2902800.0</td>\n",
       "      <td>Jasper &amp; Newton Counties PUMA</td>\n",
       "      <td>...</td>\n",
       "      <td>2010.0</td>\n",
       "      <td>2.235294</td>\n",
       "      <td>4.470588</td>\n",
       "      <td>0</td>\n",
       "      <td>0.003029</td>\n",
       "      <td>0.133077</td>\n",
       "      <td>0.438777</td>\n",
       "      <td>0.855511</td>\n",
       "      <td>0.374703</td>\n",
       "      <td>True</td>\n",
       "    </tr>\n",
       "  </tbody>\n",
       "</table>\n",
       "<p>5 rows × 83 columns</p>\n",
       "</div>"
      ],
      "text/plain": [
       "                                   guid  insignific  moderate  heavy  \\\n",
       "0  b497b88f-a4ba-48b1-8438-5cfc68147cfc         1.0       0.0    0.0   \n",
       "1  6eadcc3e-7bb5-463a-aca8-f1d16f8ac7cc         1.0       0.0    0.0   \n",
       "2  758fb3de-108a-4e04-895e-fdc4b8627876         1.0       0.0    0.0   \n",
       "3  7b706697-bf9b-4883-90f6-862d67a8e64b         1.0       0.0    0.0   \n",
       "4  19c91f9b-f679-4263-b7a3-e76fd859c4b1         1.0       0.0    0.0   \n",
       "\n",
       "   complete   strctid  statefp10  tractce10  pumgeoid10  \\\n",
       "0       0.0  S0018614       29.0    11100.0   2902800.0   \n",
       "1       0.0  S0018615       29.0    11100.0   2902800.0   \n",
       "2       0.0  S0018616       29.0    11100.0   2902800.0   \n",
       "3       0.0  S0018617       29.0    11100.0   2902800.0   \n",
       "4       0.0  S0018618       29.0    11100.0   2902800.0   \n",
       "\n",
       "                       pumname10  ...  bgyear  pblackbg   phispbg  d_sf  \\\n",
       "0  Jasper & Newton Counties PUMA  ...  2010.0  2.235294  4.470588     0   \n",
       "1  Jasper & Newton Counties PUMA  ...  2010.0  2.235294  4.470588     0   \n",
       "2  Jasper & Newton Counties PUMA  ...     NaN       NaN       NaN     0   \n",
       "3  Jasper & Newton Counties PUMA  ...  2010.0  2.235294  4.470588     0   \n",
       "4  Jasper & Newton Counties PUMA  ...  2010.0  2.235294  4.470588     0   \n",
       "\n",
       "   rploss_ins  rploss_med  rploss_hwy  rploss_cmp     prdis  dislocated  \n",
       "0    0.002914    0.100425    0.524702    0.889881  0.374637        True  \n",
       "1    0.006930    0.132025    0.677548    0.951019  0.376972       False  \n",
       "2    0.005776    0.100000    0.654935    0.941974       NaN       False  \n",
       "3    0.002404    0.105851    0.436479    0.854591  0.374340        True  \n",
       "4    0.003029    0.133077    0.438777    0.855511  0.374703        True  \n",
       "\n",
       "[5 rows x 83 columns]"
      ]
     },
     "execution_count": 11,
     "metadata": {},
     "output_type": "execute_result"
    }
   ],
   "source": [
    "# Retrieve result dataset\n",
    "result = pop_dis.get_output_dataset(\"result\")\n",
    "\n",
    "# Convert dataset to Pandas DataFrame\n",
    "df = result.get_dataframe_from_csv(low_memory=False)\n",
    "\n",
    "# Display top 5 rows of output data\n",
    "df.head()"
   ]
  }
 ],
 "metadata": {
  "kernelspec": {
   "display_name": "Python 3",
   "language": "python",
   "name": "python3"
  },
  "language_info": {
   "codemirror_mode": {
    "name": "ipython",
    "version": 3
   },
   "file_extension": ".py",
   "mimetype": "text/x-python",
   "name": "python",
   "nbconvert_exporter": "python",
   "pygments_lexer": "ipython3",
   "version": "3.7.3"
  },
  "pycharm": {
   "stem_cell": {
    "cell_type": "raw",
    "metadata": {
     "collapsed": false
    },
    "source": []
   }
  }
 },
 "nbformat": 4,
 "nbformat_minor": 4
}
