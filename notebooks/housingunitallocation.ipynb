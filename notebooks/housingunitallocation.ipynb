{
 "cells": [
  {
   "cell_type": "code",
   "execution_count": 24,
   "metadata": {
    "pycharm": {
     "is_executing": false
    }
   },
   "outputs": [],
   "source": [
    "from pyincore import IncoreClient\n",
    "from pyincore.analyses.housingunitallocation import HousingUnitAllocation"
   ]
  },
  {
   "cell_type": "code",
   "execution_count": 25,
   "metadata": {
    "pycharm": {
     "is_executing": false
    }
   },
   "outputs": [],
   "source": [
    "# Connect to IN-CORE service\n",
    "client = IncoreClient()"
   ]
  },
  {
   "cell_type": "markdown",
   "metadata": {},
   "source": [
    "### Housing unit allocation for Joplin, MO"
   ]
  },
  {
   "cell_type": "code",
   "execution_count": 26,
   "metadata": {
    "pycharm": {
     "is_executing": false
    }
   },
   "outputs": [],
   "source": [
    "# Joplin, MO, House unit inventory, 2ev3_2019-08-06_HUinventory\n",
    "housing_unit_inv = \"5dfd1104fc33d500081556b6\"\n",
    "\n",
    "# Joplin, MO, Address point inventory, 2ev2_2019-08-01_addresspointinventory\n",
    "address_point_inv = \"5dbc6ba1b9219c06dd222bab\"\n",
    "\n",
    "# Joplin, MO, Building inventory, 2ev2_2019-08-12_buildinginventory\n",
    "building_inv = \"5dbc781db9219c06dd2429ca\"\n"
   ]
  },
  {
   "cell_type": "code",
   "execution_count": 27,
   "metadata": {
    "collapsed": false,
    "jupyter": {
     "outputs_hidden": false
    },
    "pycharm": {
     "name": "#%%\n"
    }
   },
   "outputs": [
    {
     "name": "stdout",
     "output_type": "stream",
     "text": [
      "Dataset already exists locally. Reading from local cache.\n",
      "Dataset already exists locally. Reading from local cache.\n",
      "Dataset already exists locally. Reading from local cache.\n"
     ]
    },
    {
     "data": {
      "text/plain": [
       "True"
      ]
     },
     "execution_count": 27,
     "metadata": {},
     "output_type": "execute_result"
    }
   ],
   "source": [
    "# Create housing allocation \n",
    "spa = HousingUnitAllocation(client)\n",
    "\n",
    "# Load input dataset\n",
    "spa.load_remote_input_dataset(\"housing_unit_inventory\", housing_unit_inv)\n",
    "spa.load_remote_input_dataset(\"address_point_inventory\", address_point_inv)\n",
    "spa.load_remote_input_dataset(\"building_inventory\", building_inv)\n",
    "\n",
    "# Specify the result name\n",
    "result_name = \"IN-CORE_1bv6_housingunitallocation\"\n",
    "\n",
    "seed = 1238\n",
    "iterations = 1\n",
    "\n",
    "# Set analysis parameters\n",
    "spa.set_parameter(\"result_name\", result_name)\n",
    "spa.set_parameter(\"seed\", seed)\n",
    "spa.set_parameter(\"iterations\", iterations)"
   ]
  },
  {
   "cell_type": "code",
   "execution_count": 28,
   "metadata": {
    "pycharm": {
     "is_executing": false
    }
   },
   "outputs": [
    {
     "data": {
      "text/plain": [
       "True"
      ]
     },
     "execution_count": 28,
     "metadata": {},
     "output_type": "execute_result"
    }
   ],
   "source": [
    "# Run Housing unit allocation analysis\n",
    "spa.run_analysis()"
   ]
  },
  {
   "cell_type": "code",
   "execution_count": 29,
   "metadata": {},
   "outputs": [
    {
     "data": {
      "text/html": [
       "<div>\n",
       "<style scoped>\n",
       "    .dataframe tbody tr th:only-of-type {\n",
       "        vertical-align: middle;\n",
       "    }\n",
       "\n",
       "    .dataframe tbody tr th {\n",
       "        vertical-align: top;\n",
       "    }\n",
       "\n",
       "    .dataframe thead th {\n",
       "        text-align: right;\n",
       "    }\n",
       "</style>\n",
       "<table border=\"1\" class=\"dataframe\">\n",
       "  <thead>\n",
       "    <tr style=\"text-align: right;\">\n",
       "      <th></th>\n",
       "      <th>strctid</th>\n",
       "      <th>statefp10</th>\n",
       "      <th>tractce10</th>\n",
       "      <th>pumgeoid10</th>\n",
       "      <th>pumname10</th>\n",
       "      <th>address1</th>\n",
       "      <th>house_no</th>\n",
       "      <th>parid_card</th>\n",
       "      <th>struct_typ</th>\n",
       "      <th>str_prob</th>\n",
       "      <th>...</th>\n",
       "      <th>gqpop</th>\n",
       "      <th>ownershp</th>\n",
       "      <th>race</th>\n",
       "      <th>hispan</th>\n",
       "      <th>hispan_flag</th>\n",
       "      <th>vacancy</th>\n",
       "      <th>gqtype</th>\n",
       "      <th>hhinc</th>\n",
       "      <th>randomhu</th>\n",
       "      <th>aphumerge</th>\n",
       "    </tr>\n",
       "  </thead>\n",
       "  <tbody>\n",
       "    <tr>\n",
       "      <th>0</th>\n",
       "      <td>S0021177</td>\n",
       "      <td>29.0</td>\n",
       "      <td>10100.0</td>\n",
       "      <td>2902800.0</td>\n",
       "      <td>Jasper &amp; Newton Counties PUMA</td>\n",
       "      <td>602 N MICHIGAN AVE</td>\n",
       "      <td>602</td>\n",
       "      <td>NaN</td>\n",
       "      <td>NaN</td>\n",
       "      <td>NaN</td>\n",
       "      <td>...</td>\n",
       "      <td>0.0</td>\n",
       "      <td>1.0</td>\n",
       "      <td>1.0</td>\n",
       "      <td>0.0</td>\n",
       "      <td>1.0</td>\n",
       "      <td>0.0</td>\n",
       "      <td>0.0</td>\n",
       "      <td>3.0</td>\n",
       "      <td>0.414422</td>\n",
       "      <td>both</td>\n",
       "    </tr>\n",
       "    <tr>\n",
       "      <th>1</th>\n",
       "      <td>S0023095</td>\n",
       "      <td>29.0</td>\n",
       "      <td>10100.0</td>\n",
       "      <td>2902800.0</td>\n",
       "      <td>Jasper &amp; Newton Counties PUMA</td>\n",
       "      <td>828  SENECA ST</td>\n",
       "      <td>828</td>\n",
       "      <td>NaN</td>\n",
       "      <td>NaN</td>\n",
       "      <td>NaN</td>\n",
       "      <td>...</td>\n",
       "      <td>0.0</td>\n",
       "      <td>1.0</td>\n",
       "      <td>1.0</td>\n",
       "      <td>0.0</td>\n",
       "      <td>1.0</td>\n",
       "      <td>0.0</td>\n",
       "      <td>0.0</td>\n",
       "      <td>3.0</td>\n",
       "      <td>0.927559</td>\n",
       "      <td>both</td>\n",
       "    </tr>\n",
       "    <tr>\n",
       "      <th>2</th>\n",
       "      <td>S0021178</td>\n",
       "      <td>29.0</td>\n",
       "      <td>10100.0</td>\n",
       "      <td>2902800.0</td>\n",
       "      <td>Jasper &amp; Newton Counties PUMA</td>\n",
       "      <td>1115 E FRANKLIN DR</td>\n",
       "      <td>1115</td>\n",
       "      <td>NaN</td>\n",
       "      <td>NaN</td>\n",
       "      <td>NaN</td>\n",
       "      <td>...</td>\n",
       "      <td>0.0</td>\n",
       "      <td>2.0</td>\n",
       "      <td>1.0</td>\n",
       "      <td>0.0</td>\n",
       "      <td>1.0</td>\n",
       "      <td>0.0</td>\n",
       "      <td>0.0</td>\n",
       "      <td>2.0</td>\n",
       "      <td>0.391309</td>\n",
       "      <td>both</td>\n",
       "    </tr>\n",
       "    <tr>\n",
       "      <th>3</th>\n",
       "      <td>S0023093</td>\n",
       "      <td>29.0</td>\n",
       "      <td>10100.0</td>\n",
       "      <td>2902800.0</td>\n",
       "      <td>Jasper &amp; Newton Counties PUMA</td>\n",
       "      <td>812  SENECA ST</td>\n",
       "      <td>812</td>\n",
       "      <td>NaN</td>\n",
       "      <td>NaN</td>\n",
       "      <td>NaN</td>\n",
       "      <td>...</td>\n",
       "      <td>0.0</td>\n",
       "      <td>1.0</td>\n",
       "      <td>1.0</td>\n",
       "      <td>0.0</td>\n",
       "      <td>1.0</td>\n",
       "      <td>0.0</td>\n",
       "      <td>0.0</td>\n",
       "      <td>2.0</td>\n",
       "      <td>0.090391</td>\n",
       "      <td>both</td>\n",
       "    </tr>\n",
       "    <tr>\n",
       "      <th>4</th>\n",
       "      <td>S0023044</td>\n",
       "      <td>29.0</td>\n",
       "      <td>10100.0</td>\n",
       "      <td>2902800.0</td>\n",
       "      <td>Jasper &amp; Newton Counties PUMA</td>\n",
       "      <td>711 N MICHIGAN AVE</td>\n",
       "      <td>711</td>\n",
       "      <td>NaN</td>\n",
       "      <td>NaN</td>\n",
       "      <td>NaN</td>\n",
       "      <td>...</td>\n",
       "      <td>0.0</td>\n",
       "      <td>1.0</td>\n",
       "      <td>7.0</td>\n",
       "      <td>0.0</td>\n",
       "      <td>2.0</td>\n",
       "      <td>0.0</td>\n",
       "      <td>0.0</td>\n",
       "      <td>NaN</td>\n",
       "      <td>0.790862</td>\n",
       "      <td>both</td>\n",
       "    </tr>\n",
       "  </tbody>\n",
       "</table>\n",
       "<p>5 rows × 70 columns</p>\n",
       "</div>"
      ],
      "text/plain": [
       "    strctid  statefp10  tractce10  pumgeoid10                      pumname10  \\\n",
       "0  S0021177       29.0    10100.0   2902800.0  Jasper & Newton Counties PUMA   \n",
       "1  S0023095       29.0    10100.0   2902800.0  Jasper & Newton Counties PUMA   \n",
       "2  S0021178       29.0    10100.0   2902800.0  Jasper & Newton Counties PUMA   \n",
       "3  S0023093       29.0    10100.0   2902800.0  Jasper & Newton Counties PUMA   \n",
       "4  S0023044       29.0    10100.0   2902800.0  Jasper & Newton Counties PUMA   \n",
       "\n",
       "             address1 house_no  parid_card  struct_typ  str_prob  ...  gqpop  \\\n",
       "0  602 N MICHIGAN AVE      602         NaN         NaN       NaN  ...    0.0   \n",
       "1      828  SENECA ST      828         NaN         NaN       NaN  ...    0.0   \n",
       "2  1115 E FRANKLIN DR     1115         NaN         NaN       NaN  ...    0.0   \n",
       "3      812  SENECA ST      812         NaN         NaN       NaN  ...    0.0   \n",
       "4  711 N MICHIGAN AVE      711         NaN         NaN       NaN  ...    0.0   \n",
       "\n",
       "   ownershp  race  hispan  hispan_flag  vacancy  gqtype  hhinc  randomhu  \\\n",
       "0       1.0   1.0     0.0          1.0      0.0     0.0    3.0  0.414422   \n",
       "1       1.0   1.0     0.0          1.0      0.0     0.0    3.0  0.927559   \n",
       "2       2.0   1.0     0.0          1.0      0.0     0.0    2.0  0.391309   \n",
       "3       1.0   1.0     0.0          1.0      0.0     0.0    2.0  0.090391   \n",
       "4       1.0   7.0     0.0          2.0      0.0     0.0    NaN  0.790862   \n",
       "\n",
       "   aphumerge  \n",
       "0       both  \n",
       "1       both  \n",
       "2       both  \n",
       "3       both  \n",
       "4       both  \n",
       "\n",
       "[5 rows x 70 columns]"
      ]
     },
     "execution_count": 29,
     "metadata": {},
     "output_type": "execute_result"
    }
   ],
   "source": [
    "# Retrieve result dataset\n",
    "result = spa.get_output_dataset(\"result\")\n",
    "\n",
    "# Convert dataset to Pandas DataFrame\n",
    "df = result.get_dataframe_from_csv(low_memory=False)\n",
    "\n",
    "# Display top 5 rows of output data\n",
    "df.head()"
   ]
  }
 ],
 "metadata": {
  "kernelspec": {
   "display_name": "Python 3",
   "language": "python",
   "name": "python3"
  },
  "language_info": {
   "codemirror_mode": {
    "name": "ipython",
    "version": 3
   },
   "file_extension": ".py",
   "mimetype": "text/x-python",
   "name": "python",
   "nbconvert_exporter": "python",
   "pygments_lexer": "ipython3",
   "version": "3.7.3"
  }
 },
 "nbformat": 4,
 "nbformat_minor": 4
}