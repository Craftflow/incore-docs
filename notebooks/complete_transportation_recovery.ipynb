{
 "cells": [
  {
   "cell_type": "markdown",
   "metadata": {},
   "source": [
    "## Shelby County Transportation Recovery Model"
   ]
  },
  {
   "cell_type": "code",
   "execution_count": null,
   "metadata": {},
   "outputs": [],
   "source": [
    "import json\n",
    "import pandas as pd\n",
    "from pyincore import InsecureIncoreClient, InventoryDataset, Dataset, DataService\n",
    "from pyincore.analyses.bridgedamage import BridgeDamage\n",
    "from pyincore.analyses.transportationrecovery import TransportationRecovery\n",
    "from pyincore.analyses.transportationrecovery import TransportationRecoveryUtil"
   ]
  },
  {
   "cell_type": "markdown",
   "metadata": {},
   "source": [
    "## RUN Bridge damage analysis"
   ]
  },
  {
   "cell_type": "markdown",
   "metadata": {},
   "source": [
    "### Set up input datasets and parameters"
   ]
  },
  {
   "cell_type": "code",
   "execution_count": null,
   "metadata": {},
   "outputs": [],
   "source": [
    "client = InsecureIncoreClient(\"http://incore2-services.ncsa.illinois.edu:8888\", \"incrtest\")"
   ]
  },
  {
   "cell_type": "code",
   "execution_count": null,
   "metadata": {},
   "outputs": [],
   "source": [
    "hazard_type = \"earthquake\"\n",
    "hazard_id = \"5b902cb273c3371e1236b36b\"\n",
    "dmg_ratio_id = \"5a284f2cc7d30d13bc081f96\"\n",
    "\n",
    "# NBSR bridges\n",
    "bridge_dataset_id = \"5a284f2dc7d30d13bc082040\"\n",
    "\n",
    "# Default Bridge Fragility Mapping on incore-service\n",
    "mapping_id = \"5b47bcce337d4a37755e0cb2\"\n",
    "\n",
    "# Use hazard uncertainty for computing damage\n",
    "use_hazard_uncertainty = False\n",
    "\n",
    "# Use liquefaction (LIQ) column of bridges to modify fragility curve\n",
    "use_liquefaction = False"
   ]
  },
  {
   "cell_type": "code",
   "execution_count": null,
   "metadata": {},
   "outputs": [],
   "source": [
    "# Create bridge damage \n",
    "bridge_dmg = BridgeDamage(client)\n",
    "\n",
    "# Load input datasets\n",
    "bridge_dmg.load_remote_input_dataset(\"bridges\", bridge_dataset_id)\n",
    "bridge_dmg.load_remote_input_dataset(\"dmg_ratios\", dmg_ratio_id)\n",
    "\n",
    "# Specify the result name\n",
    "result_name = \"bridge_result\"\n",
    "\n",
    "# Set analysis parameters\n",
    "bridge_dmg.set_parameter(\"result_name\", result_name)\n",
    "bridge_dmg.set_parameter(\"mapping_id\", mapping_id)\n",
    "bridge_dmg.set_parameter(\"hazard_type\", hazard_type)\n",
    "bridge_dmg.set_parameter(\"hazard_id\", hazard_id)\n",
    "bridge_dmg.set_parameter(\"num_cpu\", 4)"
   ]
  },
  {
   "cell_type": "code",
   "execution_count": null,
   "metadata": {},
   "outputs": [],
   "source": [
    "bridge_dmg.run_analysis()"
   ]
  },
  {
   "cell_type": "code",
   "execution_count": null,
   "metadata": {},
   "outputs": [],
   "source": [
    "bridge_dmg.get_output_datasets()"
   ]
  },
  {
   "cell_type": "markdown",
   "metadata": {},
   "source": [
    "### damamge result ouptut"
   ]
  },
  {
   "cell_type": "code",
   "execution_count": null,
   "metadata": {},
   "outputs": [],
   "source": [
    "bridge_damage = pd.read_csv('bridge_result.csv')\n",
    "bridge_damage.head()"
   ]
  },
  {
   "cell_type": "markdown",
   "metadata": {},
   "source": [
    "## lookup average daily traffic from National Bridge Inventory"
   ]
  },
  {
   "cell_type": "raw",
   "metadata": {},
   "source": [
    "# download the ADT information from National Bridge Inventory: \n",
    "# https://www.fhwa.dot.gov/bridge/nbi/ascii.cfm\n",
    "\n",
    "# convert the unit of lat and long from degree to decimal\n",
    "TN17 = TransportationRecoveryUtil.NBI_coordinate_mapping('Data/TN17.csv')\n",
    "TN17.to_csv('TN17.csv')\n",
    "\n",
    "# use GIS tool to convert TN17 into a shapefile"
   ]
  },
  {
   "cell_type": "code",
   "execution_count": null,
   "metadata": {},
   "outputs": [],
   "source": [
    "bridges_set = InventoryDataset('cache_data/nbsrbridges/nbsrbridges.shp')\n",
    "bridges = list(bridges_set.inventory_set)\n",
    "\n",
    "datasvc = DataService(client)\n",
    "datasvc.get_dataset_blob(\"5c5de6c1c5c0e488fc04291b\")\n",
    "TN17 = 'cache_data/TN17/TN17.shp'\n",
    "ADT = TransportationRecoveryUtil.get_average_daily_traffic(bridges, TN17)"
   ]
  },
  {
   "cell_type": "code",
   "execution_count": null,
   "metadata": {},
   "outputs": [],
   "source": [
    "with open('cache_data/ADT.json', 'w') as f:\n",
    "    json.dump(ADT, f)"
   ]
  },
  {
   "cell_type": "markdown",
   "metadata": {},
   "source": [
    "### convert bridge damage output to the format that transportation recovery model accepts"
   ]
  },
  {
   "cell_type": "code",
   "execution_count": null,
   "metadata": {},
   "outputs": [],
   "source": [
    "bridge_damage_value, unrepaired_bridge = TransportationRecoveryUtil.convert_dmg_prob2state(\"bridge_result.csv\")"
   ]
  },
  {
   "cell_type": "code",
   "execution_count": null,
   "metadata": {},
   "outputs": [],
   "source": [
    "with open('cache_data/bridge_damage_value.json', 'w') as f:\n",
    "    json.dump(bridge_damage_value, f)\n",
    "with open('cache_data/unrepaired_bridge.json', 'w') as f:\n",
    "    json.dump(unrepaired_bridge, f)"
   ]
  },
  {
   "cell_type": "markdown",
   "metadata": {},
   "source": [
    "## Calculate Transportation Recovery"
   ]
  },
  {
   "cell_type": "code",
   "execution_count": null,
   "metadata": {},
   "outputs": [],
   "source": [
    "transportation_recovery = TransportationRecovery(client)"
   ]
  },
  {
   "cell_type": "code",
   "execution_count": null,
   "metadata": {},
   "outputs": [],
   "source": [
    "nodes = \"5c5de1dec5c0e488fc0355f7\"\n",
    "transportation_recovery.load_remote_input_dataset(\"nodes\", nodes)\n",
    "\n",
    "links = \"5c5de25ec5c0e488fc035613\"\n",
    "transportation_recovery.load_remote_input_dataset(\"links\", links)\n",
    "\n",
    "bridges = \"5a284f2dc7d30d13bc082040\"\n",
    "transportation_recovery.load_remote_input_dataset('bridges', bridges)\n",
    "\n",
    "bridge_damage = \"5c5ddff0c5c0e488fc0355df\"\n",
    "transportation_recovery.load_remote_input_dataset('bridge_damage_value', bridge_damage)\n",
    "\n",
    "unrepaired = \"5c5de0c5c5c0e488fc0355eb\"\n",
    "transportation_recovery.load_remote_input_dataset('unrepaired_bridge', unrepaired)\n",
    "\n",
    "ADT_data = \"5c5dde00c5c0e488fc032d7f\"\n",
    "transportation_recovery.load_remote_input_dataset('ADT', ADT_data)"
   ]
  },
  {
   "cell_type": "code",
   "execution_count": null,
   "metadata": {},
   "outputs": [],
   "source": [
    "transportation_recovery.set_parameter(\"num_cpu\", 4)\n",
    "transportation_recovery.set_parameter(\"pm\", 1)\n",
    "transportation_recovery.set_parameter('ini_num_population', 5)\n",
    "transportation_recovery.set_parameter(\"population_size\", 3)\n",
    "transportation_recovery.set_parameter(\"num_generation\", 2)\n",
    "transportation_recovery.set_parameter(\"mutation_rate\", 0.1)\n",
    "transportation_recovery.set_parameter(\"crossover_rate\", 1.0)"
   ]
  },
  {
   "cell_type": "code",
   "execution_count": null,
   "metadata": {},
   "outputs": [],
   "source": [
    "transportation_recovery.run_analysis()"
   ]
  },
  {
   "cell_type": "code",
   "execution_count": null,
   "metadata": {},
   "outputs": [],
   "source": [
    "transportation_recovery.get_output_datasets()"
   ]
  },
  {
   "cell_type": "code",
   "execution_count": null,
   "metadata": {},
   "outputs": [],
   "source": []
  }
 ],
 "metadata": {
  "kernelspec": {
   "display_name": "Python 3",
   "language": "python",
   "name": "python3"
  },
  "language_info": {
   "codemirror_mode": {
    "name": "ipython",
    "version": 3
   },
   "file_extension": ".py",
   "mimetype": "text/x-python",
   "name": "python",
   "nbconvert_exporter": "python",
   "pygments_lexer": "ipython3",
   "version": "3.6.4"
  }
 },
 "nbformat": 4,
 "nbformat_minor": 2
}
