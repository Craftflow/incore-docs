{
 "cells": [
  {
   "cell_type": "code",
   "execution_count": null,
   "metadata": {},
   "outputs": [],
   "source": [
    "from pyincore import IncoreClient\n",
    "from pyincore.analyses.meandamage import MeanDamage\n"
   ]
  },
  {
   "cell_type": "code",
   "execution_count": null,
   "metadata": {},
   "outputs": [],
   "source": [
    "client = IncoreClient()"
   ]
  },
  {
   "cell_type": "markdown",
   "metadata": {},
   "source": [
    "### chaining with bridge damage"
   ]
  },
  {
   "cell_type": "code",
   "execution_count": null,
   "metadata": {},
   "outputs": [],
   "source": [
    "from pyincore.analyses.bridgedamage import BridgeDamage"
   ]
  },
  {
   "cell_type": "code",
   "execution_count": null,
   "metadata": {},
   "outputs": [],
   "source": [
    "bridge_dmg = BridgeDamage(client)"
   ]
  },
  {
   "cell_type": "code",
   "execution_count": null,
   "metadata": {},
   "outputs": [],
   "source": [
    "bridge_dmg.load_remote_input_dataset(\"bridges\", \"5a284f2dc7d30d13bc082040\")\n",
    "bridge_dmg.set_parameter(\"result_name\", \"bridge_result\")\n",
    "bridge_dmg.set_parameter(\"mapping_id\", \"5b47bcce337d4a37755e0cb2\")\n",
    "bridge_dmg.set_parameter(\"hazard_type\", \"earthquake\")\n",
    "bridge_dmg.set_parameter(\"hazard_id\", \"5b902cb273c3371e1236b36b\")\n",
    "bridge_dmg.set_parameter(\"num_cpu\", 4)\n",
    "bridge_dmg.run_analysis()\n",
    "bridge_damage_result = bridge_dmg.get_output_dataset(\"result\")\n"
   ]
  },
  {
   "cell_type": "code",
   "execution_count": null,
   "metadata": {},
   "outputs": [],
   "source": [
    "md = MeanDamage(client)"
   ]
  },
  {
   "cell_type": "code",
   "execution_count": null,
   "metadata": {},
   "outputs": [],
   "source": [
    "md.set_input_dataset(\"damage\", bridge_damage_result)\n",
    "md.load_remote_input_dataset(\"dmg_ratios\", \"5a284f2cc7d30d13bc081f96\")\n",
    "md.set_parameter(\"result_name\", \"bridge_mean_damage\")\n",
    "md.set_parameter(\"damage_interval_keys\",\n",
    "                 [\"none\", \"ds-slight\", \"ds-moderat\", \"ds-extensi\",\n",
    "                  \"ds-complet\"])\n",
    "md.set_parameter(\"num_cpu\", 1)\n",
    "md.run_analysis()\n"
   ]
  },
  {
   "cell_type": "code",
   "execution_count": null,
   "metadata": {},
   "outputs": [],
   "source": [
    "md.get_output_dataset('result').get_dataframe_from_csv()"
   ]
  },
  {
   "cell_type": "markdown",
   "metadata": {},
   "source": [
    "### chaining with building damage"
   ]
  },
  {
   "cell_type": "code",
   "execution_count": null,
   "metadata": {},
   "outputs": [],
   "source": [
    "from pyincore.analyses.buildingdamage import BuildingDamage\n",
    "bldg_dmg = BuildingDamage(client)"
   ]
  },
  {
   "cell_type": "code",
   "execution_count": null,
   "metadata": {},
   "outputs": [],
   "source": [
    "bldg_dmg.load_remote_input_dataset(\"buildings\", \"5a284f0bc7d30d13bc081a28\")\n",
    "bldg_dmg.set_parameter(\"result_name\", \"memphis_bldg_dmg_result\")\n",
    "bldg_dmg.set_parameter(\"mapping_id\", \"5b47b350337d4a3629076f2c\")\n",
    "bldg_dmg.set_parameter(\"hazard_type\", \"earthquake\")\n",
    "bldg_dmg.set_parameter(\"hazard_id\", \"5b902cb273c3371e1236b36b\")\n",
    "bldg_dmg.set_parameter(\"num_cpu\", 1)\n",
    "bldg_dmg.run_analysis()\n",
    "building_damage_result = bldg_dmg.get_output_dataset(\"result\")"
   ]
  },
  {
   "cell_type": "code",
   "execution_count": null,
   "metadata": {},
   "outputs": [],
   "source": [
    "md = MeanDamage(client)\n",
    "md.set_input_dataset(\"damage\", building_damage_result)\n",
    "md.load_remote_input_dataset(\"dmg_ratios\", \"5a284f2ec7d30d13bc08209a\")\n",
    "md.set_parameter(\"result_name\", \"building_mean_damage\")\n",
    "md.set_parameter(\"damage_interval_keys\",\n",
    "                 [\"insignific\", \"moderate\", \"heavy\", \"complete\"])\n",
    "md.set_parameter(\"num_cpu\", 1)\n",
    "md.run_analysis()\n"
   ]
  },
  {
   "cell_type": "code",
   "execution_count": null,
   "metadata": {},
   "outputs": [],
   "source": [
    "md.get_output_dataset('result').get_dataframe_from_csv()"
   ]
  },
  {
   "cell_type": "markdown",
   "metadata": {},
   "source": [
    "### chaining with cumulative buidling damage"
   ]
  },
  {
   "cell_type": "code",
   "execution_count": null,
   "metadata": {},
   "outputs": [],
   "source": [
    "from pyincore.analyses.cumulativebuildingdamage import CumulativeBuildingDamage\n",
    "cumulative_bldg_dmg = CumulativeBuildingDamage(client)"
   ]
  },
  {
   "cell_type": "code",
   "execution_count": null,
   "metadata": {},
   "outputs": [],
   "source": [
    "cumulative_bldg_dmg.load_remote_input_dataset(\"eq_bldg_dmg\",\n",
    "                                              \"5c5c9686c5c0e488fcf91903\")\n",
    "cumulative_bldg_dmg.load_remote_input_dataset(\"tsunami_bldg_dmg\",\n",
    "                                              \"5c5c96f6c5c0e488fcf9190f\")\n",
    "cumulative_bldg_dmg.set_parameter(\"num_cpu\", 4)\n",
    "cumulative_bldg_dmg.set_parameter(\"result_name\", \"Cumulative_Bldg_Dmg_Result\")\n",
    "cumulative_bldg_dmg.run_analysis()\n",
    "cumulative_bldg_damage_result = cumulative_bldg_dmg.get_output_dataset(\n",
    "    'combined-result')\n"
   ]
  },
  {
   "cell_type": "code",
   "execution_count": null,
   "metadata": {},
   "outputs": [],
   "source": [
    "md = MeanDamage(client)\n",
    "md.set_input_dataset(\"damage\", cumulative_bldg_damage_result)\n",
    "md.load_remote_input_dataset(\"dmg_ratios\", \"5a284f2ec7d30d13bc08209a\")\n",
    "md.set_parameter(\"result_name\", \"cumulative_building_mean_damage\")\n",
    "md.set_parameter(\"damage_interval_keys\",\n",
    "                 [\"insignific\", \"moderate\", \"heavy\", \"complete\"])\n",
    "md.set_parameter(\"num_cpu\", 1)\n",
    "md.run_analysis()\n"
   ]
  },
  {
   "cell_type": "code",
   "execution_count": null,
   "metadata": {},
   "outputs": [],
   "source": [
    "md.get_output_dataset('result').get_dataframe_from_csv()"
   ]
  },
  {
   "cell_type": "markdown",
   "metadata": {},
   "source": [
    "### chaining with non-structural damage"
   ]
  },
  {
   "cell_type": "code",
   "execution_count": null,
   "metadata": {},
   "outputs": [],
   "source": [
    "from pyincore.analyses.nonstructbuildingdamage import NonStructBuildingDamage\n",
    "non_structural_building_dmg = NonStructBuildingDamage(client)"
   ]
  },
  {
   "cell_type": "code",
   "execution_count": null,
   "metadata": {},
   "outputs": [],
   "source": [
    "non_structural_building_dmg.load_remote_input_dataset(\"buildings\",\n",
    "                                                      \"5a284f42c7d30d13bc0821ba\")\n",
    "non_structural_building_dmg.set_parameter(\"result_name\",\n",
    "                                          \"non_structural_building_dmg_result\")\n",
    "non_structural_building_dmg.set_parameter(\"mapping_id\",\n",
    "                                          \"5b47b350337d4a3629076f2c\")\n",
    "non_structural_building_dmg.set_parameter(\"hazard_type\", \"earthquake\")\n",
    "non_structural_building_dmg.set_parameter(\"hazard_id\",\n",
    "                                          \"5b902cb273c3371e1236b36b\")\n",
    "non_structural_building_dmg.set_parameter(\"num_cpu\", 4)\n",
    "non_structural_building_dmg.set_parameter(\"use_liquefaction\", True)\n",
    "non_structural_building_dmg.set_parameter(\"liq_geology_dataset_id\",\n",
    "                                          \"5a284f55c7d30d13bc0824ba\")\n",
    "non_structural_building_dmg.run_analysis()\n",
    "non_structural_building_damage_result = non_structural_building_dmg.get_output_dataset(\n",
    "    'result')\n"
   ]
  },
  {
   "cell_type": "code",
   "execution_count": null,
   "metadata": {},
   "outputs": [],
   "source": [
    "md.get_output_dataset('result').get_dataframe_from_csv()"
   ]
  },
  {
   "cell_type": "markdown",
   "metadata": {},
   "source": [
    "#### get AS mean damage"
   ]
  },
  {
   "cell_type": "code",
   "execution_count": null,
   "metadata": {},
   "outputs": [],
   "source": [
    "md = MeanDamage(client)\n",
    "md.set_input_dataset(\"damage\", non_structural_building_damage_result)\n",
    "md.load_remote_input_dataset(\"dmg_ratios\", \"5a284f2ec7d30d13bc08207c\")\n",
    "md.set_parameter(\"result_name\", \"non_structural_mean_damage_AS\")\n",
    "md.set_parameter(\"damage_interval_keys\",\n",
    "                 [\"insig_as\", \"mod_as\", \"heavy_as\", \"comp_as\"])\n",
    "md.set_parameter(\"num_cpu\", 1)\n",
    "md.run_analysis()\n"
   ]
  },
  {
   "cell_type": "markdown",
   "metadata": {},
   "source": [
    "#### get DS mean damage"
   ]
  },
  {
   "cell_type": "code",
   "execution_count": null,
   "metadata": {},
   "outputs": [],
   "source": [
    "md = MeanDamage(client)\n",
    "md.set_input_dataset(\"damage\", non_structural_building_damage_result)\n",
    "md.load_remote_input_dataset(\"dmg_ratios\", \"5a284f2ec7d30d13bc082090\")\n",
    "md.set_parameter(\"result_name\", \"non_structural_mean_damage_DS\")\n",
    "md.set_parameter(\"damage_interval_keys\",\n",
    "                 [\"insig_ds\", \"mod_ds\", \"heavy_ds\", \"comp_ds\"])\n",
    "md.set_parameter(\"num_cpu\", 1)\n",
    "md.run_analysis()\n"
   ]
  },
  {
   "cell_type": "markdown",
   "metadata": {},
   "source": [
    "#### get content mean damage"
   ]
  },
  {
   "cell_type": "code",
   "execution_count": null,
   "metadata": {},
   "outputs": [],
   "source": [
    "md = MeanDamage(client)\n",
    "md.set_input_dataset(\"damage\", non_structural_building_damage_result)\n",
    "md.load_remote_input_dataset(\"dmg_ratios\", \"5a284f2ec7d30d13bc082086\")\n",
    "md.set_parameter(\"result_name\", \"non_structural_mean_damage_Content\")\n",
    "md.set_parameter(\"damage_interval_keys\",\n",
    "                 [\"insig_as\", \"mod_as\", \"heavy_as\", \"comp_as\"])\n",
    "md.set_parameter(\"num_cpu\", 1)\n",
    "md.run_analysis()\n"
   ]
  },
  {
   "cell_type": "code",
   "execution_count": null,
   "metadata": {},
   "outputs": [],
   "source": [
    "md.get_output_dataset('result').get_dataframe_from_csv()"
   ]
  },
  {
   "cell_type": "code",
   "execution_count": null,
   "metadata": {},
   "outputs": [],
   "source": []
  }
 ],
 "metadata": {
  "kernelspec": {
   "display_name": "Python 3",
   "language": "python",
   "name": "python3"
  },
  "language_info": {
   "codemirror_mode": {
    "name": "ipython",
    "version": 3
   },
   "file_extension": ".py",
   "mimetype": "text/x-python",
   "name": "python",
   "nbconvert_exporter": "python",
   "pygments_lexer": "ipython3",
   "version": "3.7.3"
  }
 },
 "nbformat": 4,
 "nbformat_minor": 4
}