{
 "cells": [
  {
   "cell_type": "code",
   "execution_count": 5,
   "metadata": {},
   "outputs": [],
   "source": [
    "from pyincore import InsecureIncoreClient\n",
    "from pyincore.analyses.waternetworkdamage import WaterNetworkDamage\n",
    "from pyincore.dataset import Dataset"
   ]
  },
  {
   "cell_type": "code",
   "execution_count": 6,
   "metadata": {},
   "outputs": [],
   "source": [
    "client = InsecureIncoreClient(\"http://incore2-services:8888/\", 'incrtest')\n",
    "wn_dmg = WaterNetworkDamage(client)"
   ]
  },
  {
   "cell_type": "code",
   "execution_count": 7,
   "metadata": {},
   "outputs": [
    {
     "data": {
      "text/plain": [
       "True"
      ]
     },
     "execution_count": 7,
     "metadata": {},
     "output_type": "execute_result"
    }
   ],
   "source": [
    "water_pipelines = \"5c5d9b50c5c0e488fcfe21ff\"\n",
    "wn_dmg.load_remote_input_dataset(\"water_pipelines\", water_pipelines)\n",
    "\n",
    "water_facilities = \"5c5d9a8ac5c0e488fcfe21e3\"\n",
    "wn_dmg.load_remote_input_dataset(\"water_facilities\", water_facilities)\n",
    "\n",
    "wn_dmg.set_parameter(\"earthquake_id\", '5ba92505ec23090435209071')\n",
    "wn_dmg.set_parameter(\"water_facility_mapping_id\", '5b47c3b1337d4a387e85564a')\n",
    "wn_dmg.set_parameter(\"water_pipeline_mapping_id\",'5ba55a2aec2309043530887c')\n",
    "wn_dmg.set_parameter(\"num_cpu\", 4)"
   ]
  },
  {
   "cell_type": "code",
   "execution_count": 8,
   "metadata": {},
   "outputs": [
    {
     "data": {
      "text/plain": [
       "True"
      ]
     },
     "execution_count": 8,
     "metadata": {},
     "output_type": "execute_result"
    }
   ],
   "source": [
    "wn_dmg.run_analysis()"
   ]
  },
  {
   "cell_type": "code",
   "execution_count": 9,
   "metadata": {},
   "outputs": [
    {
     "data": {
      "text/plain": [
       "{'pipeline_dmg': <pyincore.dataset.Dataset at 0x1156a3240>,\n",
       " 'tank_dmg': <pyincore.dataset.Dataset at 0x118951358>,\n",
       " 'pump_dmg': <pyincore.dataset.Dataset at 0x11898ec50>}"
      ]
     },
     "execution_count": 9,
     "metadata": {},
     "output_type": "execute_result"
    }
   ],
   "source": [
    "wn_dmg.get_output_datasets()"
   ]
  },
  {
   "cell_type": "code",
   "execution_count": null,
   "metadata": {},
   "outputs": [],
   "source": []
  }
 ],
 "metadata": {
  "kernelspec": {
   "display_name": "Python 3",
   "language": "python",
   "name": "python3"
  },
  "language_info": {
   "codemirror_mode": {
    "name": "ipython",
    "version": 3
   },
   "file_extension": ".py",
   "mimetype": "text/x-python",
   "name": "python",
   "nbconvert_exporter": "python",
   "pygments_lexer": "ipython3",
   "version": "3.6.4"
  }
 },
 "nbformat": 4,
 "nbformat_minor": 2
}
