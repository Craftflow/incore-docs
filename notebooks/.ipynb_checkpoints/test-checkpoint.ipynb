{
 "cells": [
  {
   "cell_type": "code",
   "execution_count": 1,
   "metadata": {},
   "outputs": [],
   "source": [
    "from pyincore import IncoreClient, FragilityService, MappingSet\n",
    "from pyincore.analyses.roadfailure import RoadFailure"
   ]
  },
  {
   "cell_type": "code",
   "execution_count": null,
   "metadata": {},
   "outputs": [],
   "source": [
    "# Connect to IN-CORE Service\n",
    "client = IncoreClient()"
   ]
  },
  {
   "cell_type": "code",
   "execution_count": null,
   "metadata": {
    "pycharm": {
     "name": "#%%\n"
    }
   },
   "outputs": [],
   "source": [
    "# This is the Galveston Road for Island\n",
    "road_dataset_id = \"5f15d04f33b2700c11fc9c4e\"\n",
    "# distance table for Galveston island\n",
    "distance_dataset_id = \"5f189ada53587c306ed478da\"\n",
    "# distance field name in distance table\n",
    "distance_field_name = 'distance'\n",
    "# road damage by hurricane inundation mapping\n",
    "mapping_id = \"5f15cd3d3efd0e4ebccfd5ab\"\n",
    "# Galveston Deterministic Hurricane - Kriging inundationDuration\n",
    "hazard_type = \"hurricane\"\n",
    "hazard_id = \"5f15cd627db08c2ccc4e3bab\""
   ]
  },
  {
   "cell_type": "code",
   "execution_count": null,
   "metadata": {
    "pycharm": {
     "name": "#%%\n"
    }
   },
   "outputs": [],
   "source": [
    "# Create road failure\n",
    "roadfailure = RoadFailure(client)\n",
    "# Load input datasets\n",
    "roadfailure.load_remote_input_dataset(\"roads\", road_dataset_id)\n",
    "roadfailure.load_remote_input_dataset(\"distance_table\", distance_dataset_id)"
   ]
  },
  {
   "cell_type": "code",
   "execution_count": null,
   "metadata": {
    "pycharm": {
     "name": "#%%\n"
    }
   },
   "outputs": [],
   "source": [
    "# Load fragility mapping\n",
    "fragility_service = FragilityService(client)\n",
    "mapping_set = MappingSet(fragility_service.get_mapping(mapping_id))\n",
    "roadfailure.set_input_dataset('dfr3_mapping_set', mapping_set)"
   ]
  },
  {
   "cell_type": "code",
   "execution_count": null,
   "metadata": {
    "pycharm": {
     "name": "#%%\n"
    }
   },
   "outputs": [],
   "source": [
    "# Specify the result name\n",
    "result_name = \"road_result\""
   ]
  },
  {
   "cell_type": "code",
   "execution_count": null,
   "metadata": {
    "pycharm": {
     "name": "#%%\n"
    }
   },
   "outputs": [],
   "source": [
    "# Set analysis parameters\n",
    "roadfailure.set_parameter(\"result_name\", result_name)\n",
    "roadfailure.set_parameter(\"distance_field_name\", distance_field_name)\n",
    "roadfailure.set_parameter(\"hazard_type\", hazard_type)\n",
    "roadfailure.set_parameter(\"hazard_id\", hazard_id)\n",
    "roadfailure.set_parameter(\"num_cpu\", 4)"
   ]
  },
  {
   "cell_type": "code",
   "execution_count": null,
   "metadata": {
    "pycharm": {
     "name": "#%%\n"
    }
   },
   "outputs": [],
   "source": [
    "# Run road damage by hurricane inundation analysis\n",
    "result = roadfailure.run_analysis()"
   ]
  },
  {
   "cell_type": "code",
   "execution_count": null,
   "metadata": {},
   "outputs": [],
   "source": []
  }
 ],
 "metadata": {
  "kernelspec": {
   "display_name": "Python 3",
   "language": "python",
   "name": "python3"
  },
  "language_info": {
   "codemirror_mode": {
    "name": "ipython",
    "version": 3
   },
   "file_extension": ".py",
   "mimetype": "text/x-python",
   "name": "python",
   "nbconvert_exporter": "python",
   "pygments_lexer": "ipython3",
   "version": "3.7.7"
  }
 },
 "nbformat": 4,
 "nbformat_minor": 4
}
