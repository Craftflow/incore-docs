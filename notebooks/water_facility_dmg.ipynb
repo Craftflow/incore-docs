{
 "cells": [
  {
   "cell_type": "code",
   "execution_count": null,
   "metadata": {},
   "outputs": [],
   "source": [
    "from pyincore import IncoreClient, FragilityService, MappingSet\n",
    "from pyincore.analyses.waterfacilitydamage import WaterFacilityDamage"
   ]
  },
  {
   "cell_type": "code",
   "execution_count": null,
   "metadata": {},
   "outputs": [],
   "source": [
    "# Connect to IN-CORE service\n",
    "client = IncoreClient()"
   ]
  },
  {
   "cell_type": "markdown",
   "metadata": {},
   "source": [
    "### Water facility damage for Shelby County, TN with New madrid earthquake "
   ]
  },
  {
   "cell_type": "code",
   "execution_count": null,
   "metadata": {},
   "outputs": [],
   "source": [
    "# New madrid earthquake using Atkinson Boore 1995\n",
    "hazard_type = \"earthquake\"\n",
    "hazard_id = \"5b902cb273c3371e1236b36b\" \n",
    "\n",
    "# Water facility inventory for Shelby County, TN\n",
    "facility_dataset_id = \"5a284f2ac7d30d13bc081e52\" \n",
    "\n",
    "# Default water facility fragility mapping\n",
    "#mapping_id = \"5b47c3b1337d4a387e85564b\"  # Hazus Potable Water Facility Fragility Mapping - Only PGA\n",
    "mapping_id = \"5b47c383337d4a387669d592\" #Potable Water Facility Fragility Mapping for INA - Has PGD\n",
    "fragility_key = \"pga\"\n",
    "\n",
    "# Liquefaction parameters\n",
    "liq_geology_dataset_id =  \"5a284f53c7d30d13bc08249c\"\n",
    "liquefaction = True\n",
    "liq_fragility_key = \"pgd\"\n",
    "\n",
    "# Hazard uncertainty\n",
    "uncertainty = False"
   ]
  },
  {
   "cell_type": "code",
   "execution_count": null,
   "metadata": {},
   "outputs": [],
   "source": [
    "# Create water facility damage analysis\n",
    "wf_dmg = WaterFacilityDamage(client)\n",
    "\n",
    "# Load water facility inventory dataset\n",
    "wf_dmg.load_remote_input_dataset(\"water_facilities\", facility_dataset_id)\n",
    "\n",
    "# Load fragility mapping\n",
    "fragility_service = FragilityService(client)\n",
    "mapping_set = MappingSet(fragility_service.get_mapping(mapping_id))\n",
    "wf_dmg.set_input_dataset(\"dfr3_mapping_set\", mapping_set)"
   ]
  },
  {
   "cell_type": "code",
   "execution_count": null,
   "outputs": [],
   "source": [
    "# Specify result name\n",
    "result_name = \"wf-dmg-results\"\n",
    "\n",
    "# Set analysis parameters\n",
    "wf_dmg.set_parameter(\"result_name\", result_name)\n",
    "wf_dmg.set_parameter(\"hazard_type\", hazard_type)\n",
    "wf_dmg.set_parameter(\"hazard_id\", hazard_id)\n",
    "wf_dmg.set_parameter(\"fragility_key\", fragility_key)\n",
    "wf_dmg.set_parameter(\"use_liquefaction\", liquefaction)\n",
    "wf_dmg.set_parameter(\"liquefaction_geology_dataset_id\", liq_geology_dataset_id)\n",
    "wf_dmg.set_parameter(\"liquefaction_fragility_key\", liq_fragility_key)\n",
    "wf_dmg.set_parameter(\"use_hazard_uncertainty\", uncertainty)\n",
    "wf_dmg.set_parameter(\"num_cpu\", 4)"
   ],
   "metadata": {
    "collapsed": false,
    "pycharm": {
     "name": "#%%\n"
    }
   }
  },
  {
   "cell_type": "code",
   "execution_count": null,
   "metadata": {},
   "outputs": [],
   "source": [
    "# Run water facility damage analysis\n",
    "wf_dmg.run_analysis()"
   ]
  },
  {
   "cell_type": "code",
   "execution_count": null,
   "metadata": {},
   "outputs": [],
   "source": [
    "# Retrieve result dataset\n",
    "result = wf_dmg.get_output_dataset(\"result\")\n",
    "\n",
    "# Convert dataset to Pandas DataFrame\n",
    "df = result.get_dataframe_from_csv()\n",
    "\n",
    "# Display top 5 rows of output data\n",
    "df.head()"
   ]
  },
  {
   "cell_type": "markdown",
   "metadata": {},
   "source": [
    "### Testing with Seaside tsunami hazard"
   ]
  },
  {
   "cell_type": "code",
   "execution_count": null,
   "metadata": {},
   "outputs": [],
   "source": [
    "wf_dmg_tsunami = WaterFacilityDamage(client)\n",
    "\n",
    "wf_dmg_tsunami.load_remote_input_dataset(\"water_facilities\", \"5d266507b9219c3c5595270c\")\n",
    "mapping_set = MappingSet(fragility_service.get_mapping(\"5d31f737b9219c6d66398521\"))\n",
    "wf_dmg_tsunami.set_input_dataset(\"dfr3_mapping_set\", mapping_set)"
   ]
  },
  {
   "cell_type": "code",
   "execution_count": null,
   "outputs": [],
   "source": [
    "wf_dmg_tsunami.set_parameter(\"result_name\", \"seaside_tsu_waterfacility_damage\")\n",
    "wf_dmg_tsunami.set_parameter(\"hazard_type\", \"tsunami\")\n",
    "wf_dmg_tsunami.set_parameter(\"hazard_id\", \"5bc9eaf7f7b08533c7e610e1\")\n",
    "wf_dmg_tsunami.set_parameter(\"fragility_key\", \"Non-Retrofit inundationDepth Fragility ID Code\")\n",
    "wf_dmg_tsunami.set_parameter(\"use_liquefaction\", False)\n",
    "wf_dmg_tsunami.set_parameter(\"use_hazard_uncertainty\", False)\n",
    "wf_dmg_tsunami.set_parameter(\"num_cpu\", 4)\n",
    "\n",
    "wf_dmg_tsunami.run_analysis()"
   ],
   "metadata": {
    "collapsed": false,
    "pycharm": {
     "name": "#%%\n"
    }
   }
  },
  {
   "cell_type": "code",
   "execution_count": null,
   "metadata": {},
   "outputs": [],
   "source": [
    "# Retrieve result dataset\n",
    "result = wf_dmg_tsunami.get_output_dataset(\"result\")\n",
    "\n",
    "# Convert dataset to Pandas DataFrame\n",
    "df = result.get_dataframe_from_csv()\n",
    "\n",
    "# Display top 5 rows of output data\n",
    "df.head()"
   ]
  }
 ],
 "metadata": {
  "kernelspec": {
   "display_name": "Python 3",
   "language": "python",
   "name": "python3"
  },
  "language_info": {
   "codemirror_mode": {
    "name": "ipython",
    "version": 3
   },
   "file_extension": ".py",
   "mimetype": "text/x-python",
   "name": "python",
   "nbconvert_exporter": "python",
   "pygments_lexer": "ipython3",
   "version": "3.7.3"
  }
 },
 "nbformat": 4,
 "nbformat_minor": 4
}