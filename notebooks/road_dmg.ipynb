{
 "cells": [
  {
   "cell_type": "code",
   "execution_count": null,
   "metadata": {},
   "outputs": [],
   "source": [
    "from pyincore import IncoreClient, FragilityService, MappingSet\n",
    "from pyincore.analyses.roaddamage import RoadDamage"
   ]
  },
  {
   "cell_type": "code",
   "execution_count": null,
   "metadata": {},
   "outputs": [],
   "source": [
    "# Connect to IN-CORE Service\n",
    "client = IncoreClient()"
   ]
  },
  {
   "cell_type": "markdown",
   "metadata": {},
   "source": [
    "### Road damage with four limit states for Seaside, OR"
   ]
  },
  {
   "cell_type": "code",
   "execution_count": null,
   "metadata": {},
   "outputs": [],
   "source": [
    "# Create roads damage analysis\n",
    "road_dmg = RoadDamage(client)\n",
    "\n",
    "# Load roads inventory for Seaside, OR\n",
    "road_dmg.load_remote_input_dataset(\"roads\", \"5d25118eb9219c0692cd7527\")\n",
    "\n",
    "# Set roads fragility mapping\n",
    "fragility_service = FragilityService(client)\n",
    "mapping_set = MappingSet(fragility_service.get_mapping(\"5d5451dfb9219c0689f1f3c1\"))\n",
    "road_dmg.set_input_dataset(\"dfr3_mapping_set\", mapping_set)\n",
    "\n",
    "# Set a hazard: Seaside earthquake\n",
    "road_dmg.set_parameter(\"hazard_type\", \"earthquake\")\n",
    "road_dmg.set_parameter(\"hazard_id\", \"5ba8f379ec2309043520906f\")"
   ]
  },
  {
   "cell_type": "code",
   "execution_count": null,
   "metadata": {
    "pycharm": {
     "name": "#%%\n"
    }
   },
   "outputs": [],
   "source": [
    "# Set roads fragility key\n",
    "road_dmg.set_parameter(\"fragility_key\", \"pgd\")\n",
    "\n",
    "# Set number of CPU for computation\n",
    "road_dmg.set_parameter(\"num_cpu\", 4)"
   ]
  },
  {
   "cell_type": "code",
   "execution_count": null,
   "metadata": {
    "pycharm": {
     "name": "#%%\n"
    }
   },
   "outputs": [],
   "source": [
    "liq_geology_dataset_id = None\n",
    "liquefaction = False\n",
    "uncertainty = False\n",
    "\n",
    "road_dmg.set_parameter(\"use_liquefaction\", liquefaction)\n",
    "if liquefaction and liq_geology_dataset_id is not None:\n",
    "    road_dmg.set_parameter(\"liquefaction_geology_dataset_id\", liq_geology_dataset_id)\n",
    "road_dmg.set_parameter(\"use_hazard_uncertainty\", uncertainty)"
   ]
  },
  {
   "cell_type": "code",
   "execution_count": null,
   "metadata": {
    "pycharm": {
     "name": "#%%\n"
    }
   },
   "outputs": [],
   "source": [
    "# Set result name\n",
    "road_dmg.set_parameter(\"result_name\", \"seaside_earthquake_roads_result\")"
   ]
  },
  {
   "cell_type": "code",
   "execution_count": null,
   "metadata": {},
   "outputs": [],
   "source": [
    "# Run roads damage analysis\n",
    "road_dmg.run_analysis()"
   ]
  },
  {
   "cell_type": "code",
   "execution_count": null,
   "metadata": {},
   "outputs": [],
   "source": [
    "# Retrieve result dataset\n",
    "result = road_dmg.get_output_dataset(\"result\")\n",
    "\n",
    "# Convert dataset to Pandas DataFrame\n",
    "df = result.get_dataframe_from_csv()\n",
    "\n",
    "# Display top 5 rows of output data\n",
    "df.head()"
   ]
  }
 ],
 "metadata": {
  "kernelspec": {
   "display_name": "Python 3",
   "language": "python",
   "name": "python3"
  },
  "language_info": {
   "codemirror_mode": {
    "name": "ipython",
    "version": 3
   },
   "file_extension": ".py",
   "mimetype": "text/x-python",
   "name": "python",
   "nbconvert_exporter": "python",
   "pygments_lexer": "ipython3",
   "version": "3.7.7"
  }
 },
 "nbformat": 4,
 "nbformat_minor": 4
}