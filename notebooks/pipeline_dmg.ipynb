{
 "cells": [
  {
   "cell_type": "code",
   "execution_count": 1,
   "metadata": {},
   "outputs": [],
   "source": [
    "from pyincore import IncoreClient\n",
    "from pyincore.analyses.pipelinedamage import PipelineDamage"
   ]
  },
  {
   "cell_type": "code",
   "execution_count": 2,
   "metadata": {},
   "outputs": [],
   "source": [
    "# Connect to IN-CORE Service\n",
    "client = IncoreClient()"
   ]
  },
  {
   "cell_type": "markdown",
   "metadata": {},
   "source": [
    "### Pipiline damage with four limit states for Seaside, OR"
   ]
  },
  {
   "cell_type": "code",
   "execution_count": 3,
   "metadata": {},
   "outputs": [
    {
     "name": "stdout",
     "output_type": "stream",
     "text": [
      "Dataset already exists locally. Reading from local cache.\n"
     ]
    },
    {
     "data": {
      "text/plain": [
       "True"
      ]
     },
     "execution_count": 3,
     "metadata": {},
     "output_type": "execute_result"
    }
   ],
   "source": [
    "# Create Pipeline damage analysis\n",
    "pipeline_dmg = PipelineDamage(client)\n",
    "\n",
    "# Load pipeline inventory for Seaside, OR\n",
    "pipeline_dmg.load_remote_input_dataset(\"pipeline\", \"5d2666b5b9219c3c5595ee65\")\n",
    "\n",
    "# Set result name\n",
    "pipeline_dmg.set_parameter(\"result_name\", \"seaside_tsunami_pipeline_result\")\n",
    "\n",
    "# Set pipeline fragility mapping & fragility key\n",
    "pipeline_dmg.set_parameter(\"mapping_id\", \"5d320a87b9219c6d66398b45\")\n",
    "pipeline_dmg.set_parameter(\"fragility_key\", \"Non-Retrofit inundationDepth Fragility ID Code\")\n",
    "\n",
    "# Set a hzard: Seaside Tsunami\n",
    "pipeline_dmg.set_parameter(\"hazard_type\", \"tsunami\")\n",
    "pipeline_dmg.set_parameter(\"hazard_id\", \"5bc9eaf7f7b08533c7e610e1\")\n",
    "\n",
    "# Set number of CPU for computation\n",
    "pipeline_dmg.set_parameter(\"num_cpu\", 4)"
   ]
  },
  {
   "cell_type": "code",
   "execution_count": 4,
   "metadata": {},
   "outputs": [
    {
     "data": {
      "text/plain": [
       "True"
      ]
     },
     "execution_count": 4,
     "metadata": {},
     "output_type": "execute_result"
    }
   ],
   "source": [
    "# Run pipeline damage analysis\n",
    "pipeline_dmg.run_analysis()"
   ]
  },
  {
   "cell_type": "code",
   "execution_count": 5,
   "metadata": {},
   "outputs": [
    {
     "data": {
      "text/html": [
       "<div>\n",
       "<style scoped>\n",
       "    .dataframe tbody tr th:only-of-type {\n",
       "        vertical-align: middle;\n",
       "    }\n",
       "\n",
       "    .dataframe tbody tr th {\n",
       "        vertical-align: top;\n",
       "    }\n",
       "\n",
       "    .dataframe thead th {\n",
       "        text-align: right;\n",
       "    }\n",
       "</style>\n",
       "<table border=\"1\" class=\"dataframe\">\n",
       "  <thead>\n",
       "    <tr style=\"text-align: right;\">\n",
       "      <th></th>\n",
       "      <th>ls-slight</th>\n",
       "      <th>ls-moderat</th>\n",
       "      <th>ls-extensi</th>\n",
       "      <th>ls-complet</th>\n",
       "      <th>ds-none</th>\n",
       "      <th>ds-slight</th>\n",
       "      <th>ds-moderat</th>\n",
       "      <th>ds-extensi</th>\n",
       "      <th>ds-complet</th>\n",
       "      <th>guid</th>\n",
       "      <th>hazardval</th>\n",
       "      <th>demandtype</th>\n",
       "    </tr>\n",
       "  </thead>\n",
       "  <tbody>\n",
       "    <tr>\n",
       "      <th>0</th>\n",
       "      <td>0.947679</td>\n",
       "      <td>0.470050</td>\n",
       "      <td>0.175831</td>\n",
       "      <td>0.060748</td>\n",
       "      <td>0.052321</td>\n",
       "      <td>0.477630</td>\n",
       "      <td>0.294219</td>\n",
       "      <td>0.115082</td>\n",
       "      <td>0.060748</td>\n",
       "      <td>66b50e27-fd0e-462e-8fa0-0638ed1facef</td>\n",
       "      <td>6.889764</td>\n",
       "      <td>hmax</td>\n",
       "    </tr>\n",
       "    <tr>\n",
       "      <th>1</th>\n",
       "      <td>0.999239</td>\n",
       "      <td>0.929551</td>\n",
       "      <td>0.731128</td>\n",
       "      <td>0.499632</td>\n",
       "      <td>0.000761</td>\n",
       "      <td>0.069688</td>\n",
       "      <td>0.198423</td>\n",
       "      <td>0.231496</td>\n",
       "      <td>0.499632</td>\n",
       "      <td>3fc7e7d9-5239-4d5d-bc72-c17f2b39d596</td>\n",
       "      <td>12.795276</td>\n",
       "      <td>hmax</td>\n",
       "    </tr>\n",
       "    <tr>\n",
       "      <th>2</th>\n",
       "      <td>0.999050</td>\n",
       "      <td>0.920363</td>\n",
       "      <td>0.709282</td>\n",
       "      <td>0.473744</td>\n",
       "      <td>0.000950</td>\n",
       "      <td>0.078687</td>\n",
       "      <td>0.211080</td>\n",
       "      <td>0.235538</td>\n",
       "      <td>0.473744</td>\n",
       "      <td>6501d7b9-76f8-4884-9345-bc4d60b07bb7</td>\n",
       "      <td>12.467192</td>\n",
       "      <td>hmax</td>\n",
       "    </tr>\n",
       "    <tr>\n",
       "      <th>3</th>\n",
       "      <td>0.998812</td>\n",
       "      <td>0.910014</td>\n",
       "      <td>0.686026</td>\n",
       "      <td>0.447282</td>\n",
       "      <td>0.001188</td>\n",
       "      <td>0.088798</td>\n",
       "      <td>0.223988</td>\n",
       "      <td>0.238745</td>\n",
       "      <td>0.447282</td>\n",
       "      <td>e74071bb-9fbc-49bb-a497-521ed66e6c12</td>\n",
       "      <td>12.139108</td>\n",
       "      <td>hmax</td>\n",
       "    </tr>\n",
       "    <tr>\n",
       "      <th>4</th>\n",
       "      <td>0.999050</td>\n",
       "      <td>0.920363</td>\n",
       "      <td>0.709282</td>\n",
       "      <td>0.473744</td>\n",
       "      <td>0.000950</td>\n",
       "      <td>0.078687</td>\n",
       "      <td>0.211080</td>\n",
       "      <td>0.235538</td>\n",
       "      <td>0.473744</td>\n",
       "      <td>b54b4ec5-cacc-4c80-bd7a-44e0090b719a</td>\n",
       "      <td>12.467192</td>\n",
       "      <td>hmax</td>\n",
       "    </tr>\n",
       "  </tbody>\n",
       "</table>\n",
       "</div>"
      ],
      "text/plain": [
       "   ls-slight  ls-moderat  ls-extensi  ls-complet   ds-none  ds-slight  \\\n",
       "0   0.947679    0.470050    0.175831    0.060748  0.052321   0.477630   \n",
       "1   0.999239    0.929551    0.731128    0.499632  0.000761   0.069688   \n",
       "2   0.999050    0.920363    0.709282    0.473744  0.000950   0.078687   \n",
       "3   0.998812    0.910014    0.686026    0.447282  0.001188   0.088798   \n",
       "4   0.999050    0.920363    0.709282    0.473744  0.000950   0.078687   \n",
       "\n",
       "   ds-moderat  ds-extensi  ds-complet                                  guid  \\\n",
       "0    0.294219    0.115082    0.060748  66b50e27-fd0e-462e-8fa0-0638ed1facef   \n",
       "1    0.198423    0.231496    0.499632  3fc7e7d9-5239-4d5d-bc72-c17f2b39d596   \n",
       "2    0.211080    0.235538    0.473744  6501d7b9-76f8-4884-9345-bc4d60b07bb7   \n",
       "3    0.223988    0.238745    0.447282  e74071bb-9fbc-49bb-a497-521ed66e6c12   \n",
       "4    0.211080    0.235538    0.473744  b54b4ec5-cacc-4c80-bd7a-44e0090b719a   \n",
       "\n",
       "   hazardval demandtype  \n",
       "0   6.889764       hmax  \n",
       "1  12.795276       hmax  \n",
       "2  12.467192       hmax  \n",
       "3  12.139108       hmax  \n",
       "4  12.467192       hmax  "
      ]
     },
     "execution_count": 5,
     "metadata": {},
     "output_type": "execute_result"
    }
   ],
   "source": [
    "# Retrieve result dataset\n",
    "result = pipeline_dmg.get_output_dataset(\"result\")\n",
    "\n",
    "# Convert dataset to Pandas DataFrame\n",
    "df = result.get_dataframe_from_csv()\n",
    "\n",
    "# Display top 5 rows of output data\n",
    "df.head()"
   ]
  }
 ],
 "metadata": {
  "kernelspec": {
   "display_name": "Python 3",
   "language": "python",
   "name": "python3"
  },
  "language_info": {
   "codemirror_mode": {
    "name": "ipython",
    "version": 3
   },
   "file_extension": ".py",
   "mimetype": "text/x-python",
   "name": "python",
   "nbconvert_exporter": "python",
   "pygments_lexer": "ipython3",
   "version": "3.7.3"
  }
 },
 "nbformat": 4,
 "nbformat_minor": 4
}
