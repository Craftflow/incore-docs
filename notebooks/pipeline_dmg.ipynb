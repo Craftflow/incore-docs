{
 "cells": [
  {
   "cell_type": "code",
   "execution_count": null,
   "metadata": {},
   "outputs": [],
   "source": [
    "from pyincore import IncoreClient\n",
    "from pyincore.analyses.pipelinedamage import PipelineDamage"
   ]
  },
  {
   "cell_type": "code",
   "execution_count": null,
   "metadata": {},
   "outputs": [],
   "source": [
    "# Connect to IN-CORE Service\n",
    "client = IncoreClient()"
   ]
  },
  {
   "cell_type": "markdown",
   "metadata": {},
   "source": [
    "### Pipiline damage with four limit states for Seaside, OR"
   ]
  },
  {
   "cell_type": "code",
   "execution_count": null,
   "metadata": {},
   "outputs": [],
   "source": [
    "# Create Pipeline damage analysis\n",
    "pipeline_dmg = PipelineDamage(client)\n",
    "\n",
    "# Load pipeline inventory for Seaside, OR\n",
    "pipeline_dmg.load_remote_input_dataset(\"pipeline\", \"5d2666b5b9219c3c5595ee65\")\n",
    "\n",
    "# Set result name\n",
    "pipeline_dmg.set_parameter(\"result_name\", \"seaside_tsunami_pipeline_result\")\n",
    "\n",
    "# Set pipeline fragility mapping & fragility key\n",
    "pipeline_dmg.set_parameter(\"mapping_id\", \"5d320a87b9219c6d66398b45\")\n",
    "pipeline_dmg.set_parameter(\"fragility_key\", \"Non-Retrofit inundationDepth Fragility ID Code\")\n",
    "\n",
    "# Set a hzard: Seaside Tsunami\n",
    "pipeline_dmg.set_parameter(\"hazard_type\", \"tsunami\")\n",
    "pipeline_dmg.set_parameter(\"hazard_id\", \"5bc9eaf7f7b08533c7e610e1\")\n",
    "\n",
    "# Set number of CPU for computation\n",
    "pipeline_dmg.set_parameter(\"num_cpu\", 4)"
   ]
  },
  {
   "cell_type": "code",
   "execution_count": null,
   "metadata": {},
   "outputs": [],
   "source": [
    "# Run pipeline damage analysis\n",
    "pipeline_dmg.run_analysis()"
   ]
  },
  {
   "cell_type": "code",
   "execution_count": null,
   "metadata": {},
   "outputs": [],
   "source": [
    "# Retrieve result dataset\n",
    "result = pipeline_dmg.get_output_dataset(\"result\")\n",
    "\n",
    "# Convert dataset to Pandas DataFrame\n",
    "df = result.get_dataframe_from_csv()\n",
    "\n",
    "# Display top 5 rows of output data\n",
    "df.head()"
   ]
  }
 ],
 "metadata": {
  "kernelspec": {
   "display_name": "Python 3",
   "language": "python",
   "name": "python3"
  },
  "language_info": {
   "codemirror_mode": {
    "name": "ipython",
    "version": 3
   },
   "file_extension": ".py",
   "mimetype": "text/x-python",
   "name": "python",
   "nbconvert_exporter": "python",
   "pygments_lexer": "ipython3",
   "version": "3.7.3"
  }
 },
 "nbformat": 4,
 "nbformat_minor": 4
}