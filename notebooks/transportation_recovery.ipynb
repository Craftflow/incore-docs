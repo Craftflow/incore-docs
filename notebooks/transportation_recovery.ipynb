{
 "cells": [
  {
   "cell_type": "markdown",
   "metadata": {},
   "source": [
    "## Shelby County Transportation Recovery Model"
   ]
  },
  {
   "cell_type": "code",
   "execution_count": 1,
   "metadata": {},
   "outputs": [],
   "source": [
    "import json\n",
    "import pandas as pd\n",
    "from pyincore import IncoreClient, InventoryDataset, Dataset\n",
    "from pyincore.analyses.transportationrecovery import TransportationRecovery"
   ]
  },
  {
   "cell_type": "markdown",
   "metadata": {},
   "source": [
    "## Calculate Transportation Recovery"
   ]
  },
  {
   "cell_type": "code",
   "execution_count": 2,
   "metadata": {},
   "outputs": [],
   "source": [
    "client = IncoreClient()\n",
    "transportation_recovery = TransportationRecovery(client)"
   ]
  },
  {
   "cell_type": "code",
   "execution_count": 3,
   "metadata": {},
   "outputs": [
    {
     "name": "stdout",
     "output_type": "stream",
     "text": [
      "Dataset already exists locally. Reading from local cache.\n",
      "Dataset already exists locally. Reading from local cache.\n",
      "Dataset already exists locally. Reading from local cache.\n",
      "Dataset already exists locally. Reading from local cache.\n",
      "Dataset already exists locally. Reading from local cache.\n",
      "Dataset already exists locally. Reading from local cache.\n"
     ]
    }
   ],
   "source": [
    "nodes = \"5c5de1dec5c0e488fc0355f7\"\n",
    "transportation_recovery.load_remote_input_dataset(\"nodes\", nodes)\n",
    "\n",
    "links = \"5c5de25ec5c0e488fc035613\"\n",
    "transportation_recovery.load_remote_input_dataset(\"links\", links)\n",
    "\n",
    "bridges = \"5a284f2dc7d30d13bc082040\"\n",
    "transportation_recovery.load_remote_input_dataset('bridges', bridges)\n",
    "\n",
    "bridge_damage = \"5c5ddff0c5c0e488fc0355df\"\n",
    "transportation_recovery.load_remote_input_dataset('bridge_damage_value', bridge_damage)\n",
    "\n",
    "unrepaired = \"5c5de0c5c5c0e488fc0355eb\"\n",
    "transportation_recovery.load_remote_input_dataset('unrepaired_bridge', unrepaired)\n",
    "\n",
    "ADT_data = \"5c5dde00c5c0e488fc032d7f\"\n",
    "transportation_recovery.load_remote_input_dataset('ADT', ADT_data)"
   ]
  },
  {
   "cell_type": "code",
   "execution_count": 4,
   "metadata": {},
   "outputs": [
    {
     "data": {
      "text/plain": [
       "True"
      ]
     },
     "execution_count": 4,
     "metadata": {},
     "output_type": "execute_result"
    }
   ],
   "source": [
    "transportation_recovery.set_parameter(\"num_cpu\", 4)\n",
    "transportation_recovery.set_parameter(\"pm\", 1)\n",
    "transportation_recovery.set_parameter('ini_num_population', 5)\n",
    "transportation_recovery.set_parameter(\"population_size\", 3)\n",
    "transportation_recovery.set_parameter(\"num_generation\", 2)\n",
    "transportation_recovery.set_parameter(\"mutation_rate\", 0.1)\n",
    "transportation_recovery.set_parameter(\"crossover_rate\", 1.0)"
   ]
  },
  {
   "cell_type": "code",
   "execution_count": 5,
   "metadata": {},
   "outputs": [],
   "source": [
    "transportation_recovery.run_analysis()"
   ]
  },
  {
   "cell_type": "code",
   "execution_count": 6,
   "metadata": {},
   "outputs": [
    {
     "data": {
      "text/plain": [
       "{'optimal_solution_of_bridge_repair_schedule': <pyincore.dataset.Dataset at 0x7f4947b0bdd8>,\n",
       " 'overall_transportation_recovery_trajectory': <pyincore.dataset.Dataset at 0x7f4947e03128>}"
      ]
     },
     "execution_count": 6,
     "metadata": {},
     "output_type": "execute_result"
    }
   ],
   "source": [
    "transportation_recovery.get_output_datasets()"
   ]
  },
  {
   "cell_type": "code",
   "execution_count": 7,
   "metadata": {},
   "outputs": [
    {
     "data": {
      "text/html": [
       "<div>\n",
       "<style scoped>\n",
       "    .dataframe tbody tr th:only-of-type {\n",
       "        vertical-align: middle;\n",
       "    }\n",
       "\n",
       "    .dataframe tbody tr th {\n",
       "        vertical-align: top;\n",
       "    }\n",
       "\n",
       "    .dataframe thead th {\n",
       "        text-align: right;\n",
       "    }\n",
       "</style>\n",
       "<table border=\"1\" class=\"dataframe\">\n",
       "  <thead>\n",
       "    <tr style=\"text-align: right;\">\n",
       "      <th></th>\n",
       "      <th>Bridge ID</th>\n",
       "      <th>Ending Time</th>\n",
       "    </tr>\n",
       "  </thead>\n",
       "  <tbody>\n",
       "    <tr>\n",
       "      <th>0</th>\n",
       "      <td>b7312b14-76fc-4548-84aa-f331885a41d1</td>\n",
       "      <td>0.6</td>\n",
       "    </tr>\n",
       "    <tr>\n",
       "      <th>1</th>\n",
       "      <td>103283a3-548e-4368-a38a-bee6fae481ed</td>\n",
       "      <td>0.6</td>\n",
       "    </tr>\n",
       "    <tr>\n",
       "      <th>2</th>\n",
       "      <td>fb960495-a653-47a7-890f-de3a62e2ae2d</td>\n",
       "      <td>0.6</td>\n",
       "    </tr>\n",
       "    <tr>\n",
       "      <th>3</th>\n",
       "      <td>cb175bb2-03ef-4814-ab22-ba7fd1dd5c91</td>\n",
       "      <td>1.2</td>\n",
       "    </tr>\n",
       "    <tr>\n",
       "      <th>4</th>\n",
       "      <td>66fd8603-c038-4a4d-aec2-667b0ec0e948</td>\n",
       "      <td>0.6</td>\n",
       "    </tr>\n",
       "    <tr>\n",
       "      <th>5</th>\n",
       "      <td>72022b56-b4d0-4708-b44a-434d76490362</td>\n",
       "      <td>1.2</td>\n",
       "    </tr>\n",
       "    <tr>\n",
       "      <th>6</th>\n",
       "      <td>3d84ef35-6170-4386-a18d-43100983345d</td>\n",
       "      <td>1.2</td>\n",
       "    </tr>\n",
       "    <tr>\n",
       "      <th>7</th>\n",
       "      <td>8e9a135d-339a-4cb0-87e6-a75589a39823</td>\n",
       "      <td>1.2</td>\n",
       "    </tr>\n",
       "    <tr>\n",
       "      <th>8</th>\n",
       "      <td>f82b2aa2-eb61-4f8d-b98f-af4eb5cae488</td>\n",
       "      <td>1.2</td>\n",
       "    </tr>\n",
       "    <tr>\n",
       "      <th>9</th>\n",
       "      <td>69c93b3e-dc58-412f-bc7e-6c6363b44ccf</td>\n",
       "      <td>0.6</td>\n",
       "    </tr>\n",
       "    <tr>\n",
       "      <th>10</th>\n",
       "      <td>6d48f606-8e8e-43be-bbc8-7be548f06505</td>\n",
       "      <td>1.2</td>\n",
       "    </tr>\n",
       "    <tr>\n",
       "      <th>11</th>\n",
       "      <td>98b8083e-b88f-48a8-88b1-045bc5e26d36</td>\n",
       "      <td>1.2</td>\n",
       "    </tr>\n",
       "    <tr>\n",
       "      <th>12</th>\n",
       "      <td>9859f11b-e11a-4fc0-a96e-e5989a6a244c</td>\n",
       "      <td>0.6</td>\n",
       "    </tr>\n",
       "    <tr>\n",
       "      <th>13</th>\n",
       "      <td>2b8a79d0-a6e0-4608-b93a-f002bc6832a5</td>\n",
       "      <td>0.6</td>\n",
       "    </tr>\n",
       "    <tr>\n",
       "      <th>14</th>\n",
       "      <td>dd323e98-811b-4e04-9421-608759833360</td>\n",
       "      <td>1.8</td>\n",
       "    </tr>\n",
       "    <tr>\n",
       "      <th>15</th>\n",
       "      <td>f6d5befe-88c1-4833-9164-6d7ba2b66ca6</td>\n",
       "      <td>1.8</td>\n",
       "    </tr>\n",
       "    <tr>\n",
       "      <th>16</th>\n",
       "      <td>b39f942a-555a-4677-9b62-b13441d6f503</td>\n",
       "      <td>1.8</td>\n",
       "    </tr>\n",
       "    <tr>\n",
       "      <th>17</th>\n",
       "      <td>165914a0-a651-4b13-8dfa-841247935db0</td>\n",
       "      <td>1.8</td>\n",
       "    </tr>\n",
       "    <tr>\n",
       "      <th>18</th>\n",
       "      <td>2bcc4558-e8be-4cd8-9259-6b4872286783</td>\n",
       "      <td>1.8</td>\n",
       "    </tr>\n",
       "    <tr>\n",
       "      <th>19</th>\n",
       "      <td>66a1b90e-cac6-41ff-91d7-16953d9c3e61</td>\n",
       "      <td>1.8</td>\n",
       "    </tr>\n",
       "    <tr>\n",
       "      <th>20</th>\n",
       "      <td>4c8792c5-70a8-4c1c-b453-243cda28168b</td>\n",
       "      <td>1.8</td>\n",
       "    </tr>\n",
       "    <tr>\n",
       "      <th>21</th>\n",
       "      <td>033553d8-100b-4c0f-87a6-de74ffbee25c</td>\n",
       "      <td>2.4</td>\n",
       "    </tr>\n",
       "    <tr>\n",
       "      <th>22</th>\n",
       "      <td>d5ae7be5-b74f-4f56-92bc-8b246a49fd8f</td>\n",
       "      <td>2.4</td>\n",
       "    </tr>\n",
       "    <tr>\n",
       "      <th>23</th>\n",
       "      <td>1e0e2f70-69ee-41a1-bb45-a41dc8194921</td>\n",
       "      <td>2.5</td>\n",
       "    </tr>\n",
       "  </tbody>\n",
       "</table>\n",
       "</div>"
      ],
      "text/plain": [
       "                               Bridge ID  Ending Time\n",
       "0   b7312b14-76fc-4548-84aa-f331885a41d1          0.6\n",
       "1   103283a3-548e-4368-a38a-bee6fae481ed          0.6\n",
       "2   fb960495-a653-47a7-890f-de3a62e2ae2d          0.6\n",
       "3   cb175bb2-03ef-4814-ab22-ba7fd1dd5c91          1.2\n",
       "4   66fd8603-c038-4a4d-aec2-667b0ec0e948          0.6\n",
       "5   72022b56-b4d0-4708-b44a-434d76490362          1.2\n",
       "6   3d84ef35-6170-4386-a18d-43100983345d          1.2\n",
       "7   8e9a135d-339a-4cb0-87e6-a75589a39823          1.2\n",
       "8   f82b2aa2-eb61-4f8d-b98f-af4eb5cae488          1.2\n",
       "9   69c93b3e-dc58-412f-bc7e-6c6363b44ccf          0.6\n",
       "10  6d48f606-8e8e-43be-bbc8-7be548f06505          1.2\n",
       "11  98b8083e-b88f-48a8-88b1-045bc5e26d36          1.2\n",
       "12  9859f11b-e11a-4fc0-a96e-e5989a6a244c          0.6\n",
       "13  2b8a79d0-a6e0-4608-b93a-f002bc6832a5          0.6\n",
       "14  dd323e98-811b-4e04-9421-608759833360          1.8\n",
       "15  f6d5befe-88c1-4833-9164-6d7ba2b66ca6          1.8\n",
       "16  b39f942a-555a-4677-9b62-b13441d6f503          1.8\n",
       "17  165914a0-a651-4b13-8dfa-841247935db0          1.8\n",
       "18  2bcc4558-e8be-4cd8-9259-6b4872286783          1.8\n",
       "19  66a1b90e-cac6-41ff-91d7-16953d9c3e61          1.8\n",
       "20  4c8792c5-70a8-4c1c-b453-243cda28168b          1.8\n",
       "21  033553d8-100b-4c0f-87a6-de74ffbee25c          2.4\n",
       "22  d5ae7be5-b74f-4f56-92bc-8b246a49fd8f          2.4\n",
       "23  1e0e2f70-69ee-41a1-bb45-a41dc8194921          2.5"
      ]
     },
     "execution_count": 7,
     "metadata": {},
     "output_type": "execute_result"
    }
   ],
   "source": [
    "transportation_recovery.get_output_dataset('optimal_solution_of_bridge_repair_schedule').get_dataframe_from_csv()"
   ]
  },
  {
   "cell_type": "code",
   "execution_count": 8,
   "metadata": {},
   "outputs": [
    {
     "data": {
      "text/html": [
       "<div>\n",
       "<style scoped>\n",
       "    .dataframe tbody tr th:only-of-type {\n",
       "        vertical-align: middle;\n",
       "    }\n",
       "\n",
       "    .dataframe tbody tr th {\n",
       "        vertical-align: top;\n",
       "    }\n",
       "\n",
       "    .dataframe thead th {\n",
       "        text-align: right;\n",
       "    }\n",
       "</style>\n",
       "<table border=\"1\" class=\"dataframe\">\n",
       "  <thead>\n",
       "    <tr style=\"text-align: right;\">\n",
       "      <th></th>\n",
       "      <th>Ending Time</th>\n",
       "      <th>Travel Efficiency</th>\n",
       "    </tr>\n",
       "  </thead>\n",
       "  <tbody>\n",
       "    <tr>\n",
       "      <th>0</th>\n",
       "      <td>0.6</td>\n",
       "      <td>0.894795</td>\n",
       "    </tr>\n",
       "    <tr>\n",
       "      <th>1</th>\n",
       "      <td>1.2</td>\n",
       "      <td>0.932700</td>\n",
       "    </tr>\n",
       "    <tr>\n",
       "      <th>2</th>\n",
       "      <td>1.8</td>\n",
       "      <td>0.974815</td>\n",
       "    </tr>\n",
       "    <tr>\n",
       "      <th>3</th>\n",
       "      <td>2.4</td>\n",
       "      <td>0.989937</td>\n",
       "    </tr>\n",
       "    <tr>\n",
       "      <th>4</th>\n",
       "      <td>2.5</td>\n",
       "      <td>1.000000</td>\n",
       "    </tr>\n",
       "  </tbody>\n",
       "</table>\n",
       "</div>"
      ],
      "text/plain": [
       "   Ending Time  Travel Efficiency\n",
       "0          0.6           0.894795\n",
       "1          1.2           0.932700\n",
       "2          1.8           0.974815\n",
       "3          2.4           0.989937\n",
       "4          2.5           1.000000"
      ]
     },
     "execution_count": 8,
     "metadata": {},
     "output_type": "execute_result"
    }
   ],
   "source": [
    "transportation_recovery.get_output_dataset('overall_transportation_recovery_trajectory').get_dataframe_from_csv()"
   ]
  },
  {
   "cell_type": "code",
   "execution_count": null,
   "metadata": {},
   "outputs": [],
   "source": []
  }
 ],
 "metadata": {
  "kernelspec": {
   "display_name": "Python 3",
   "language": "python",
   "name": "python3"
  },
  "language_info": {
   "codemirror_mode": {
    "name": "ipython",
    "version": 3
   },
   "file_extension": ".py",
   "mimetype": "text/x-python",
   "name": "python",
   "nbconvert_exporter": "python",
   "pygments_lexer": "ipython3",
   "version": "3.7.3"
  }
 },
 "nbformat": 4,
 "nbformat_minor": 4
}
