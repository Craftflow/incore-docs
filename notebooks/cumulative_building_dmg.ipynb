{
 "cells": [
  {
   "cell_type": "code",
   "execution_count": null,
   "metadata": {},
   "outputs": [],
   "source": [
    "from pyincore import IncoreClient\n",
    "from pyincore.analyses.cumulativebuildingdamage.cumulativebuildingdamage import CumulativeBuildingDamage"
   ]
  },
  {
   "cell_type": "code",
   "execution_count": null,
   "metadata": {},
   "outputs": [],
   "source": [
    "# Connect to IN-CORE service \n",
    "client = IncoreClient()"
   ]
  },
  {
   "cell_type": "markdown",
   "metadata": {},
   "source": [
    "### Cumulative Building Damage Analysis for Seaside, OR"
   ]
  },
  {
   "cell_type": "code",
   "execution_count": null,
   "metadata": {},
   "outputs": [],
   "source": [
    "# Setting up Id's for Dataset inputs: \n",
    "# Earthquake building damage and Tsunami Building Damage\n",
    "eq_bldg_dmg_id = \"5c5c9686c5c0e488fcf91903\"\n",
    "tsunami_bldg_dmg_id = \"5c5c96f6c5c0e488fcf9190f\" "
   ]
  },
  {
   "cell_type": "code",
   "execution_count": null,
   "metadata": {},
   "outputs": [],
   "source": [
    "# Create cumulative Building Damage\n",
    "cumulative_bldg_dmg = CumulativeBuildingDamage(client)\n",
    "\n",
    "# Load input datasets\n",
    "cumulative_bldg_dmg.load_remote_input_dataset(\"eq_bldg_dmg\", eq_bldg_dmg_id)\n",
    "cumulative_bldg_dmg.load_remote_input_dataset(\"tsunami_bldg_dmg\", tsunami_bldg_dmg_id)\n",
    "\n",
    "# Specify the result name\n",
    "result_name = \"cumulative_bldg_dmg_result\"\n",
    "\n",
    "# Set analysis parameters\n",
    "cumulative_bldg_dmg.set_parameter(\"result_name\", result_name)\n",
    "cumulative_bldg_dmg.set_parameter(\"num_cpu\", 4)"
   ]
  },
  {
   "cell_type": "code",
   "execution_count": null,
   "metadata": {},
   "outputs": [],
   "source": [
    "# Run Cumulative Building Damage Analysis\n",
    "cumulative_bldg_dmg.run_analysis()"
   ]
  },
  {
   "cell_type": "code",
   "execution_count": null,
   "metadata": {},
   "outputs": [],
   "source": [
    "# Retrieve result dataset\n",
    "result = cumulative_bldg_dmg.get_output_dataset(\"combined-result\")\n",
    "\n",
    "# Convert dataset to Pandas DataFrame\n",
    "df = result.get_dataframe_from_csv()\n",
    "\n",
    "# Display top 5 rows of output data\n",
    "df.head()"
   ]
  }
 ],
 "metadata": {
  "kernelspec": {
   "display_name": "Python 3",
   "language": "python",
   "name": "python3"
  },
  "language_info": {
   "codemirror_mode": {
    "name": "ipython",
    "version": 3
   },
   "file_extension": ".py",
   "mimetype": "text/x-python",
   "name": "python",
   "nbconvert_exporter": "python",
   "pygments_lexer": "ipython3",
   "version": "3.7.3"
  }
 },
 "nbformat": 4,
 "nbformat_minor": 4
}