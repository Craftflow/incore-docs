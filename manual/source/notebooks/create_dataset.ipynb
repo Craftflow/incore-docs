{
 "cells": [
  {
   "cell_type": "code",
   "execution_count": 1,
   "metadata": {},
   "outputs": [],
   "source": [
    "import pandas as pd\n",
    "from pyincore import IncoreClient, DataService, SpaceService, Dataset, FragilityService, MappingSet\n",
    "from pyincore.analyses.buildingdamage import BuildingDamage\n",
    "from pyincore.analyses.meandamage import MeanDamage"
   ]
  },
  {
   "cell_type": "code",
   "execution_count": 2,
   "metadata": {},
   "outputs": [],
   "source": [
    "client = IncoreClient()\n",
    "data_services = DataService(client)\n",
    "space_services = SpaceService(client)"
   ]
  },
  {
   "cell_type": "markdown",
   "metadata": {},
   "source": [
    "# 0. Upload Dataset to Data Services\n",
    "Note that this is completely optional. You can work with local datasets and we will cover that in section 2."
   ]
  },
  {
   "cell_type": "markdown",
   "metadata": {},
   "source": [
    "#### write metadata"
   ]
  },
  {
   "cell_type": "code",
   "execution_count": 3,
   "metadata": {},
   "outputs": [],
   "source": [
    "# note you have to put the correct dataType as well as format\n",
    "dataset_metadata = {\n",
    "    \"title\":\"ERGO Memphis Hospitals\",\n",
    "    \"description\": \"ERGO Memphis Hospitals\",\n",
    "    \"dataType\": \"ergo:buildingInventoryVer5\",\n",
    "    \"format\": \"shapefile\"\n",
    "}"
   ]
  },
  {
   "cell_type": "markdown",
   "metadata": {},
   "source": [
    "#### upload metadata"
   ]
  },
  {
   "cell_type": "code",
   "execution_count": 4,
   "metadata": {},
   "outputs": [
    {
     "name": "stdout",
     "output_type": "stream",
     "text": [
      "dataset is created with id 5f21e0fd53587c306ee39cc2\n"
     ]
    }
   ],
   "source": [
    "created_dataset = data_services.create_dataset(dataset_metadata)\n",
    "dataset_id = created_dataset['id']\n",
    "print('dataset is created with id ' + dataset_id)"
   ]
  },
  {
   "cell_type": "markdown",
   "metadata": {},
   "source": [
    "#### attach files to metadata"
   ]
  },
  {
   "cell_type": "code",
   "execution_count": 5,
   "metadata": {},
   "outputs": [],
   "source": [
    "files = ['files/all_bldgs_ver5_WGS1984.shp',\n",
    "         'files/all_bldgs_ver5_WGS1984.shx',\n",
    "         'files/all_bldgs_ver5_WGS1984.prj',\n",
    "         'files/all_bldgs_ver5_WGS1984.dbf',\n",
    "         'files/all_bldgs_ver5_WGS1984.fix',\n",
    "         'files/all_bldgs_ver5_WGS1984.qix']\n",
    "full_dataset = data_services.add_files_to_dataset(dataset_id, files)"
   ]
  },
  {
   "cell_type": "code",
   "execution_count": 6,
   "metadata": {},
   "outputs": [
    {
     "data": {
      "text/plain": [
       "{'id': '5f21e0fd53587c306ee39cc2',\n",
       " 'deleted': False,\n",
       " 'title': 'ERGO Memphis Hospitals',\n",
       " 'description': 'ERGO Memphis Hospitals',\n",
       " 'date': '2020-07-29T20:50:05+0000',\n",
       " 'creator': 'cwang138',\n",
       " 'contributors': [],\n",
       " 'fileDescriptors': [{'id': '5f21e0ff4620b643d78bb8a5',\n",
       "   'deleted': False,\n",
       "   'filename': 'all_bldgs_ver5_WGS1984.shp',\n",
       "   'mimeType': 'application/octet-stream',\n",
       "   'size': 716,\n",
       "   'dataURL': '5f/21/5f21e0ff4620b643d78bb8a5/all_bldgs_ver5_WGS1984.shp',\n",
       "   'md5sum': '6e1e96c4a6cf5762317054fe813d82bf'},\n",
       "  {'id': '5f21e0ff4620b643d78bb8a8',\n",
       "   'deleted': False,\n",
       "   'filename': 'all_bldgs_ver5_WGS1984.shx',\n",
       "   'mimeType': 'application/octet-stream',\n",
       "   'size': 276,\n",
       "   'dataURL': '5f/21/5f21e0ff4620b643d78bb8a8/all_bldgs_ver5_WGS1984.shx',\n",
       "   'md5sum': '799965579a991f1f45afeb22c07c5ece'},\n",
       "  {'id': '5f21e0ff4620b643d78bb8ab',\n",
       "   'deleted': False,\n",
       "   'filename': 'all_bldgs_ver5_WGS1984.prj',\n",
       "   'mimeType': 'application/octet-stream',\n",
       "   'size': 205,\n",
       "   'dataURL': '5f/21/5f21e0ff4620b643d78bb8ab/all_bldgs_ver5_WGS1984.prj',\n",
       "   'md5sum': '30e5566d68356bfc059d296c42c0480e'},\n",
       "  {'id': '5f21e0ff4620b643d78bb8ae',\n",
       "   'deleted': False,\n",
       "   'filename': 'all_bldgs_ver5_WGS1984.dbf',\n",
       "   'mimeType': 'application/octet-stream',\n",
       "   'size': 10859,\n",
       "   'dataURL': '5f/21/5f21e0ff4620b643d78bb8ae/all_bldgs_ver5_WGS1984.dbf',\n",
       "   'md5sum': '7ea0a4c769ca254a6b4821f2e737eb35'},\n",
       "  {'id': '5f21e0ff4620b643d78bb8b1',\n",
       "   'deleted': False,\n",
       "   'filename': 'all_bldgs_ver5_WGS1984.fix',\n",
       "   'mimeType': 'application/octet-stream',\n",
       "   'size': 277,\n",
       "   'dataURL': '5f/21/5f21e0ff4620b643d78bb8b1/all_bldgs_ver5_WGS1984.fix',\n",
       "   'md5sum': '15c08cc1fac086265cb57ceac0785acb'},\n",
       "  {'id': '5f21e0ff4620b643d78bb8b4',\n",
       "   'deleted': False,\n",
       "   'filename': 'all_bldgs_ver5_WGS1984.qix',\n",
       "   'mimeType': 'application/octet-stream',\n",
       "   'size': 632,\n",
       "   'dataURL': '5f/21/5f21e0ff4620b643d78bb8b4/all_bldgs_ver5_WGS1984.qix',\n",
       "   'md5sum': 'a1cba745192516c7e1cd0e4d4d13497c'}],\n",
       " 'dataType': 'ergo:buildingInventoryVer5',\n",
       " 'storedUrl': '',\n",
       " 'format': 'shapefile',\n",
       " 'sourceDataset': '',\n",
       " 'boundingBox': [-90.07376669874641,\n",
       "  35.03298062856903,\n",
       "  -89.71464767735003,\n",
       "  35.207753220358086],\n",
       " 'networkDataset': None}"
      ]
     },
     "execution_count": 6,
     "metadata": {},
     "output_type": "execute_result"
    }
   ],
   "source": [
    "full_dataset"
   ]
  },
  {
   "cell_type": "markdown",
   "metadata": {},
   "source": [
    "# Optional: Moving your dataset to INCORE space \n",
    "- so it's public (accessible by other people)"
   ]
  },
  {
   "cell_type": "code",
   "execution_count": 7,
   "metadata": {
    "scrolled": false
   },
   "outputs": [],
   "source": [
    "# for example, adding to incore space\n",
    "response = space_services.add_dataset_to_space(\"5df8fd18b9219c068fb0257f\", dataset_id)"
   ]
  },
  {
   "cell_type": "markdown",
   "metadata": {},
   "source": [
    "# 1. Load Dataset from Data Services"
   ]
  },
  {
   "cell_type": "code",
   "execution_count": 8,
   "metadata": {},
   "outputs": [
    {
     "name": "stdout",
     "output_type": "stream",
     "text": [
      "Dataset already exists locally. Reading from local cached zip.\n",
      "Unzipped folder found in the local cache. Reading from it...\n"
     ]
    },
    {
     "data": {
      "text/plain": [
       "<pyincore.dataset.Dataset at 0x106f16080>"
      ]
     },
     "execution_count": 8,
     "metadata": {},
     "output_type": "execute_result"
    }
   ],
   "source": [
    "building_dataset_id = \"5a284f0bc7d30d13bc081a28\"\n",
    "buildings = Dataset.from_data_service(building_dataset_id, data_services)\n",
    "buildings"
   ]
  },
  {
   "cell_type": "markdown",
   "metadata": {},
   "source": [
    "# 2. Load Dataset from Local Files\n",
    "- note you have to make sure you pass the right \"data_type\" when constructing Dataset Object from scratch\n",
    "- to look up what data_type it should be, please refer to the source code of the analyses\n",
    "- you want to look take a look at the \"spec\" section -> \"input_datasets\" -> \"type\""
   ]
  },
  {
   "cell_type": "code",
   "execution_count": 12,
   "metadata": {},
   "outputs": [
    {
     "data": {
      "text/plain": [
       "<pyincore.dataset.Dataset at 0x12d5da3c8>"
      ]
     },
     "execution_count": 12,
     "metadata": {},
     "output_type": "execute_result"
    }
   ],
   "source": [
    "buildings = Dataset.from_file(\"files/all_bldgs_ver5_WGS1984.shp\", data_type=\"ergo:buildingInventoryVer5\")\n",
    "buildings"
   ]
  },
  {
   "cell_type": "markdown",
   "metadata": {},
   "source": [
    "# 3. Input the Dataset Object in Analyses"
   ]
  },
  {
   "cell_type": "code",
   "execution_count": 13,
   "metadata": {},
   "outputs": [
    {
     "data": {
      "text/plain": [
       "True"
      ]
     },
     "execution_count": 13,
     "metadata": {},
     "output_type": "execute_result"
    }
   ],
   "source": [
    "# for example: Building Damage Analyses\n",
    "bldg_dmg = BuildingDamage(client)\n",
    "bldg_dmg.set_input_dataset(\"buildings\", buildings)  "
   ]
  },
  {
   "cell_type": "code",
   "execution_count": 14,
   "metadata": {},
   "outputs": [
    {
     "data": {
      "text/plain": [
       "True"
      ]
     },
     "execution_count": 14,
     "metadata": {},
     "output_type": "execute_result"
    }
   ],
   "source": [
    "# Memphis Earthquake damage\n",
    "# New madrid earthquake using Atkinson Boore 1995\n",
    "hazard_type = \"earthquake\"\n",
    "hazard_id = \"5b902cb273c3371e1236b36b\"\n",
    "\n",
    "# Earthquake mapping\n",
    "mapping_id = \"5b47b350337d4a3629076f2c\"\n",
    "fragility_service = FragilityService(client)\n",
    "mapping_set = MappingSet(fragility_service.get_mapping(mapping_id))\n",
    "bldg_dmg.set_input_dataset('dfr3_mapping_set', mapping_set)\n",
    "\n",
    "result_name = \"memphis_eq_bldg_dmg_result\"\n",
    "bldg_dmg.set_parameter(\"result_name\", result_name)\n",
    "bldg_dmg.set_parameter(\"hazard_type\", hazard_type)\n",
    "bldg_dmg.set_parameter(\"hazard_id\", hazard_id)\n",
    "bldg_dmg.set_parameter(\"num_cpu\", 4)\n",
    "\n",
    "# Run Analysis\n",
    "bldg_dmg.run_analysis()"
   ]
  },
  {
   "cell_type": "markdown",
   "metadata": {},
   "source": [
    "# 4. Chaining the output Dataset Object in subsequent Analyses"
   ]
  },
  {
   "cell_type": "markdown",
   "metadata": {},
   "source": [
    "### output is a dataset object as well, here is how to display"
   ]
  },
  {
   "cell_type": "code",
   "execution_count": 15,
   "metadata": {},
   "outputs": [
    {
     "name": "stdout",
     "output_type": "stream",
     "text": [
      "output datasets: {'result': <pyincore.dataset.Dataset object at 0x133bc65c0>}\n"
     ]
    },
    {
     "data": {
      "text/html": [
       "<div>\n",
       "<style scoped>\n",
       "    .dataframe tbody tr th:only-of-type {\n",
       "        vertical-align: middle;\n",
       "    }\n",
       "\n",
       "    .dataframe tbody tr th {\n",
       "        vertical-align: top;\n",
       "    }\n",
       "\n",
       "    .dataframe thead th {\n",
       "        text-align: right;\n",
       "    }\n",
       "</style>\n",
       "<table border=\"1\" class=\"dataframe\">\n",
       "  <thead>\n",
       "    <tr style=\"text-align: right;\">\n",
       "      <th></th>\n",
       "      <th>guid</th>\n",
       "      <th>immocc</th>\n",
       "      <th>lifesfty</th>\n",
       "      <th>collprev</th>\n",
       "      <th>insignific</th>\n",
       "      <th>moderate</th>\n",
       "      <th>heavy</th>\n",
       "      <th>complete</th>\n",
       "      <th>demandtype</th>\n",
       "      <th>demandunits</th>\n",
       "      <th>hazardval</th>\n",
       "    </tr>\n",
       "  </thead>\n",
       "  <tbody>\n",
       "    <tr>\n",
       "      <th>0</th>\n",
       "      <td>a41e7dcc-3b82-42f2-9dbd-a2ebdf39d453</td>\n",
       "      <td>0.848146</td>\n",
       "      <td>0.327319</td>\n",
       "      <td>2.722903e-02</td>\n",
       "      <td>0.151854</td>\n",
       "      <td>0.520828</td>\n",
       "      <td>0.300089</td>\n",
       "      <td>2.722903e-02</td>\n",
       "      <td>pga</td>\n",
       "      <td>g</td>\n",
       "      <td>0.309996</td>\n",
       "    </tr>\n",
       "    <tr>\n",
       "      <th>1</th>\n",
       "      <td>254d1dd8-5d2f-4737-909b-59cc64ca72d4</td>\n",
       "      <td>0.844340</td>\n",
       "      <td>0.328296</td>\n",
       "      <td>2.860487e-02</td>\n",
       "      <td>0.155660</td>\n",
       "      <td>0.516045</td>\n",
       "      <td>0.299691</td>\n",
       "      <td>2.860487e-02</td>\n",
       "      <td>pga</td>\n",
       "      <td>g</td>\n",
       "      <td>0.309996</td>\n",
       "    </tr>\n",
       "    <tr>\n",
       "      <th>2</th>\n",
       "      <td>4253802e-b3e5-4ed3-93b0-dda9ef6362b0</td>\n",
       "      <td>0.896775</td>\n",
       "      <td>0.480926</td>\n",
       "      <td>8.756764e-02</td>\n",
       "      <td>0.103225</td>\n",
       "      <td>0.415849</td>\n",
       "      <td>0.393358</td>\n",
       "      <td>8.756764e-02</td>\n",
       "      <td>pga</td>\n",
       "      <td>g</td>\n",
       "      <td>0.308425</td>\n",
       "    </tr>\n",
       "    <tr>\n",
       "      <th>3</th>\n",
       "      <td>b185d5b6-5bc0-43a3-800a-c046017372ab</td>\n",
       "      <td>0.810564</td>\n",
       "      <td>0.331283</td>\n",
       "      <td>4.895657e-02</td>\n",
       "      <td>0.189436</td>\n",
       "      <td>0.479281</td>\n",
       "      <td>0.282327</td>\n",
       "      <td>4.895657e-02</td>\n",
       "      <td>pga</td>\n",
       "      <td>g</td>\n",
       "      <td>0.299533</td>\n",
       "    </tr>\n",
       "    <tr>\n",
       "      <th>4</th>\n",
       "      <td>7b5dc4f6-ef5e-4178-9836-f044b4b92f0d</td>\n",
       "      <td>0.970342</td>\n",
       "      <td>0.154675</td>\n",
       "      <td>7.649816e-11</td>\n",
       "      <td>0.029658</td>\n",
       "      <td>0.815668</td>\n",
       "      <td>0.154675</td>\n",
       "      <td>7.649816e-11</td>\n",
       "      <td>1.0 sa</td>\n",
       "      <td>g</td>\n",
       "      <td>0.237687</td>\n",
       "    </tr>\n",
       "  </tbody>\n",
       "</table>\n",
       "</div>"
      ],
      "text/plain": [
       "                                   guid    immocc  lifesfty      collprev  \\\n",
       "0  a41e7dcc-3b82-42f2-9dbd-a2ebdf39d453  0.848146  0.327319  2.722903e-02   \n",
       "1  254d1dd8-5d2f-4737-909b-59cc64ca72d4  0.844340  0.328296  2.860487e-02   \n",
       "2  4253802e-b3e5-4ed3-93b0-dda9ef6362b0  0.896775  0.480926  8.756764e-02   \n",
       "3  b185d5b6-5bc0-43a3-800a-c046017372ab  0.810564  0.331283  4.895657e-02   \n",
       "4  7b5dc4f6-ef5e-4178-9836-f044b4b92f0d  0.970342  0.154675  7.649816e-11   \n",
       "\n",
       "   insignific  moderate     heavy      complete demandtype demandunits  \\\n",
       "0    0.151854  0.520828  0.300089  2.722903e-02        pga           g   \n",
       "1    0.155660  0.516045  0.299691  2.860487e-02        pga           g   \n",
       "2    0.103225  0.415849  0.393358  8.756764e-02        pga           g   \n",
       "3    0.189436  0.479281  0.282327  4.895657e-02        pga           g   \n",
       "4    0.029658  0.815668  0.154675  7.649816e-11     1.0 sa           g   \n",
       "\n",
       "   hazardval  \n",
       "0   0.309996  \n",
       "1   0.309996  \n",
       "2   0.308425  \n",
       "3   0.299533  \n",
       "4   0.237687  "
      ]
     },
     "execution_count": 15,
     "metadata": {},
     "output_type": "execute_result"
    }
   ],
   "source": [
    "print(\"output datasets:\", bldg_dmg.get_output_datasets())\n",
    "bldg_dmg.get_output_dataset('result').get_dataframe_from_csv().head()"
   ]
  },
  {
   "cell_type": "markdown",
   "metadata": {},
   "source": [
    "### chaining with mean damage analysis"
   ]
  },
  {
   "cell_type": "code",
   "execution_count": 16,
   "metadata": {},
   "outputs": [
    {
     "name": "stdout",
     "output_type": "stream",
     "text": [
      "Dataset already exists locally. Reading from local cached zip.\n",
      "Unzipped folder found in the local cache. Reading from it...\n"
     ]
    },
    {
     "data": {
      "text/plain": [
       "True"
      ]
     },
     "execution_count": 16,
     "metadata": {},
     "output_type": "execute_result"
    }
   ],
   "source": [
    "md = MeanDamage(client)\n",
    "\n",
    "# use the output of road damage\n",
    "building_damage_output = bldg_dmg.get_output_dataset('result')\n",
    "md.set_input_dataset(\"damage\", building_damage_output)\n",
    "\n",
    "md.load_remote_input_dataset(\"dmg_ratios\", \"5a284f2ec7d30d13bc08209a\")\n",
    "md.set_parameter(\"result_name\", \"building_mean_damage\")\n",
    "md.set_parameter(\"damage_interval_keys\",\n",
    "                 [\"insignific\", \"moderate\", \"heavy\", \"complete\"])\n",
    "md.set_parameter(\"num_cpu\", 1)\n",
    "\n",
    "# Run analysis\n",
    "md.run_analysis()"
   ]
  },
  {
   "cell_type": "code",
   "execution_count": 17,
   "metadata": {},
   "outputs": [
    {
     "name": "stdout",
     "output_type": "stream",
     "text": [
      "output datasets: {'result': <pyincore.dataset.Dataset object at 0x133bdfeb8>}\n"
     ]
    },
    {
     "data": {
      "text/html": [
       "<div>\n",
       "<style scoped>\n",
       "    .dataframe tbody tr th:only-of-type {\n",
       "        vertical-align: middle;\n",
       "    }\n",
       "\n",
       "    .dataframe tbody tr th {\n",
       "        vertical-align: top;\n",
       "    }\n",
       "\n",
       "    .dataframe thead th {\n",
       "        text-align: right;\n",
       "    }\n",
       "</style>\n",
       "<table border=\"1\" class=\"dataframe\">\n",
       "  <thead>\n",
       "    <tr style=\"text-align: right;\">\n",
       "      <th></th>\n",
       "      <th>meandamage</th>\n",
       "      <th>mdamagedev</th>\n",
       "    </tr>\n",
       "  </thead>\n",
       "  <tbody>\n",
       "    <tr>\n",
       "      <th>0</th>\n",
       "      <td>0.271043</td>\n",
       "      <td>0.238080</td>\n",
       "    </tr>\n",
       "    <tr>\n",
       "      <th>1</th>\n",
       "      <td>0.271340</td>\n",
       "      <td>0.239546</td>\n",
       "    </tr>\n",
       "    <tr>\n",
       "      <th>2</th>\n",
       "      <td>0.360131</td>\n",
       "      <td>0.275124</td>\n",
       "    </tr>\n",
       "    <tr>\n",
       "      <th>3</th>\n",
       "      <td>0.274576</td>\n",
       "      <td>0.256321</td>\n",
       "    </tr>\n",
       "    <tr>\n",
       "      <th>4</th>\n",
       "      <td>0.211648</td>\n",
       "      <td>0.160879</td>\n",
       "    </tr>\n",
       "  </tbody>\n",
       "</table>\n",
       "</div>"
      ],
      "text/plain": [
       "   meandamage  mdamagedev\n",
       "0    0.271043    0.238080\n",
       "1    0.271340    0.239546\n",
       "2    0.360131    0.275124\n",
       "3    0.274576    0.256321\n",
       "4    0.211648    0.160879"
      ]
     },
     "execution_count": 17,
     "metadata": {},
     "output_type": "execute_result"
    }
   ],
   "source": [
    "print(\"output datasets:\", md.get_output_datasets())\n",
    "md.get_output_dataset('result').get_dataframe_from_csv().head()[['meandamage', 'mdamagedev']]"
   ]
  },
  {
   "cell_type": "markdown",
   "metadata": {},
   "source": [
    "# Utility Methods"
   ]
  },
  {
   "cell_type": "code",
   "execution_count": 18,
   "metadata": {},
   "outputs": [
    {
     "data": {
      "text/plain": [
       "<open Collection 'files/all_bldgs_ver5_WGS1984.shp:all_bldgs_ver5_WGS1984', mode 'r' at 0x1310b0c18>"
      ]
     },
     "execution_count": 18,
     "metadata": {},
     "output_type": "execute_result"
    }
   ],
   "source": [
    "buildings.get_inventory_reader()"
   ]
  },
  {
   "cell_type": "code",
   "execution_count": null,
   "outputs": [],
   "source": [],
   "metadata": {
    "collapsed": false,
    "pycharm": {
     "name": "#%%\n"
    }
   }
  },
  {
   "cell_type": "code",
   "execution_count": null,
   "metadata": {},
   "outputs": [],
   "source": []
  }
 ],
 "metadata": {
  "kernelspec": {
   "display_name": "Python 3",
   "language": "python",
   "name": "python3"
  },
  "language_info": {
   "codemirror_mode": {
    "name": "ipython",
    "version": 3
   },
   "file_extension": ".py",
   "mimetype": "text/x-python",
   "name": "python",
   "nbconvert_exporter": "python",
   "pygments_lexer": "ipython3",
   "version": "3.6.4"
  }
 },
 "nbformat": 4,
 "nbformat_minor": 2
}