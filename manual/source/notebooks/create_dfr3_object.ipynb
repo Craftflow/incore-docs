{
 "cells": [
  {
   "cell_type": "markdown",
   "metadata": {
    "pycharm": {
     "name": "#%% md\n"
    }
   },
   "source": [
    "# Create DFR3 object"
   ]
  },
  {
   "cell_type": "markdown",
   "source": [
    "An analysis uses dfr3 files from IN-CORE service. This tutorial shows examples of how to create dfr3 and mapping objects for fragility, \n",
    "restoration and repair curves as well as how to use them in pyIncore."
   ],
   "metadata": {
    "collapsed": false
   }
  },
  {
   "cell_type": "code",
   "execution_count": null,
   "outputs": [],
   "source": [
    "from pyincore import FragilityService, IncoreClient\n",
    "from pyincore import Mapping, MappingSet, FragilityCurveSet, StandardFragilityCurve\n",
    "from pyincore import ConditionalStandardFragilityCurve, PeriodStandardFragilityCurve"
   ],
   "metadata": {
    "collapsed": false,
    "pycharm": {
     "name": "#%%\n"
    }
   }
  },
  {
   "cell_type": "code",
   "execution_count": null,
   "metadata": {},
   "outputs": [],
   "source": [
    "client = IncoreClient()\n",
    "fragilitysvc = FragilityService(client)"
   ]
  },
  {
   "cell_type": "markdown",
   "source": [
    "## Fragility Curve Set"
   ],
   "metadata": {
    "collapsed": false
   }
  },
  {
   "cell_type": "markdown",
   "metadata": {},
   "source": [
    "### Ways to create Fragility Curve Set Object"
   ]
  },
  {
   "cell_type": "markdown",
   "metadata": {},
   "source": [
    "#### 0. upload fragility curveset to dfr3 services\n",
    "- Note that this is optional as now you can use local fragility curveset now\n",
    "- We will cover how to create and use local fragility curveset in this tutorial later "
   ]
  },
  {
   "cell_type": "code",
   "execution_count": null,
   "metadata": {},
   "outputs": [],
   "source": [
    "fragility_metadata = {       \n",
    "    \"description\": \"Test Tsunami fragility when < 5000 ft^2\",\n",
    "    \"authors\": [\n",
    "        \"Federal Emergency Management Agency (FEMA)\"\n",
    "    ],      \n",
    "    \"resultType\": \"Limit State\",\n",
    "    \"demandType\": \"momentumFlux\",\n",
    "    \"demandUnits\": \"ft^3/s^2\",\n",
    "    \"hazardType\": \"tsunami\",\n",
    "    \"inventoryType\": \"building\",\n",
    "    \"fragilityCurves\": [\n",
    "        {\n",
    "            \"className\": \"StandardFragilityCurve\",\n",
    "            \"description\": \"Immediate Occupancy\",\n",
    "            \"alpha\": 1.0,\n",
    "            \"beta\": 0.74,\n",
    "            \"alphaType\": \"median\",\n",
    "            \"curveType\": \"LogNormal\"\n",
    "        },\n",
    "        {\n",
    "            \"className\": \"StandardFragilityCurve\",\n",
    "            \"description\": \"Life Safety\",\n",
    "            \"alpha\": 2.0,\n",
    "            \"beta\": 0.74,\n",
    "            \"alphaType\": \"median\",\n",
    "            \"curveType\": \"LogNormal\"\n",
    "        },\n",
    "        {\n",
    "            \"className\": \"StandardFragilityCurve\",\n",
    "            \"description\": \"Collapse Prevention\",\n",
    "            \"alpha\": 3.1,\n",
    "            \"beta\": 0.77,\n",
    "            \"alphaType\": \"lambda\",\n",
    "            \"curveType\": \"LogNormal\"\n",
    "        }\n",
    "    ]       \n",
    "}\n",
    "\n",
    "created_fragility = fragilitysvc.create_dfr3_set(fragility_metadata)\n",
    "created_fragility"
   ]
  },
  {
   "cell_type": "markdown",
   "metadata": {},
   "source": [
    "#### 1. Use ID from incore dfr3 services"
   ]
  },
  {
   "cell_type": "code",
   "execution_count": null,
   "metadata": {},
   "outputs": [],
   "source": [
    "fragility_set_id = \"5b47b2d7337d4a36187c61ce\"\n",
    "\n",
    "# IN-CORE client\n",
    "client = IncoreClient()\n",
    "\n",
    "# Initiate fragility service\n",
    "fragility_services = FragilityService(client)\n",
    "\n",
    "# Create local fragility curve set by id from the service\n",
    "fragility_curve_set = FragilityCurveSet(fragility_services.get_dfr3_set(fragility_set_id))\n",
    "\n",
    "fragility_curve_set"
   ]
  },
  {
   "cell_type": "markdown",
   "metadata": {},
   "source": [
    "#### 2. Write JSON definition"
   ]
  },
  {
   "cell_type": "code",
   "execution_count": null,
   "metadata": {},
   "outputs": [],
   "source": [
    "fragility_curveset_json_str = '''{\n",
    "    \"id\": \"5b47b2d7337d4a36187c61ce\",\n",
    "    \"legacyId\": \"SF_S1_206\",\n",
    "    \"description\": \"Mid-Rise Steel Moment Frame\",\n",
    "    \"authors\": [\n",
    "        \"Elnashai and Jeong\"\n",
    "    ],\n",
    "    \"paperReference\": null,\n",
    "    \"resultUnit\": null,\n",
    "    \"resultType\": \"Limit State\",\n",
    "    \"hazardType\": \"earthquake\",\n",
    "    \"inventoryType\": \"building\",\n",
    "    \"creator\": \"incore\",\n",
    "    \"demandType\": \"PGA\",\n",
    "    \"demandUnits\": \"g\",\n",
    "    \"fragilityCurves\": [\n",
    "        {\n",
    "            \"className\": \"PeriodStandardFragilityCurve\",\n",
    "            \"description\": \"Moderate\",\n",
    "            \"alpha\": -0.571,\n",
    "            \"beta\": 0.665,\n",
    "            \"alphaType\": \"lambda\",\n",
    "            \"curveType\": \"LogNormal\",\n",
    "            \"periodParam2\": 0,\n",
    "            \"periodParam1\": 0,\n",
    "            \"periodParam0\": 1.08,\n",
    "            \"periodEqnType\": 1\n",
    "        },\n",
    "        {\n",
    "            \"className\": \"PeriodStandardFragilityCurve\",\n",
    "            \"description\": \"Extensive\",\n",
    "            \"alpha\": 0.352,\n",
    "            \"beta\": 0.675,\n",
    "            \"alphaType\": \"lambda\",\n",
    "            \"curveType\": \"LogNormal\",\n",
    "            \"periodParam2\": 0,\n",
    "            \"periodParam1\": 0,\n",
    "            \"periodParam0\": 1.08,\n",
    "            \"periodEqnType\": 1\n",
    "        },\n",
    "        {\n",
    "            \"className\": \"PeriodStandardFragilityCurve\",\n",
    "            \"description\": \"Complete\",\n",
    "            \"alpha\": 1.341,\n",
    "            \"beta\": 0.746,\n",
    "            \"alphaType\": \"lambda\",\n",
    "            \"curveType\": \"LogNormal\",\n",
    "            \"periodParam2\": 0,\n",
    "            \"periodParam1\": 0,\n",
    "            \"periodParam0\": 1.08,\n",
    "            \"periodEqnType\": 1\n",
    "        }\n",
    "    ]\n",
    "}\n",
    "'''\n",
    "fragility_curve_set = FragilityCurveSet.from_json_str(fragility_curveset_json_str)\n",
    "fragility_curve_set"
   ]
  },
  {
   "cell_type": "markdown",
   "metadata": {},
   "source": [
    "#### 3. Construct fragility curves from scratch"
   ]
  },
  {
   "cell_type": "code",
   "execution_count": null,
   "metadata": {},
   "outputs": [],
   "source": [
    "# create a period standard fragility curve set with three limit state\n",
    "fragility_curve_moderate = PeriodStandardFragilityCurve({\n",
    "    \"description\": \"Moderate\",\n",
    "    \"alpha\": -0.571,\n",
    "    \"beta\": 0.665,\n",
    "    \"alphaType\":\"lambda\",\n",
    "    \"curveType\":\"LogNormal\",\n",
    "    \"periodParam2\":0,\n",
    "    \"periodParam1\":0,\n",
    "    \"periodParam0\":1.08,\n",
    "    \"periodEqnType\":1\n",
    "})\n",
    "\n",
    "fragility_curve_extensive = PeriodStandardFragilityCurve({\n",
    "    \"description\": \"Extensive\",\n",
    "    \"alpha\": 0.352,\n",
    "    \"beta\": 0.675,\n",
    "    \"alphaType\":\"lambda\",\n",
    "    \"curveType\":\"LogNormal\",\n",
    "    \"periodParam2\":0,\n",
    "    \"periodParam1\":0,\n",
    "    \"periodParam0\":1.08,\n",
    "    \"periodEqnType\":1\n",
    "})\n",
    "\n",
    "fragility_curve_complete = PeriodStandardFragilityCurve({\n",
    "    \"description\": \"Complete\",\n",
    "    \"alpha\": 1.341,\n",
    "    \"beta\": 0.746,\n",
    "    \"alphaType\":\"lambda\",\n",
    "    \"curveType\":\"LogNormal\",\n",
    "    \"periodParam2\":0,\n",
    "    \"periodParam1\":0,\n",
    "    \"periodParam0\":1.08,\n",
    "    \"periodEqnType\":1\n",
    "})"
   ]
  },
  {
   "cell_type": "code",
   "execution_count": null,
   "metadata": {},
   "outputs": [],
   "source": [
    "# place three curves into a set with extra metadata\n",
    "metadata = {\n",
    "    \"id\":\"local_fragility_curve_set\",\n",
    "    \"description\": \"Mid-Rise Steel Moment Frame\",\n",
    "    \"demandType\": \"PGA\",\n",
    "    \"demandUnits\": \"g\",\n",
    "    \"resultType\":\"Limit State\",\n",
    "    \"hazardType\":\"earthquake\",\n",
    "    \"inventoryType\":\"building\",\n",
    "    \"fragilityCurves\":[\n",
    "        fragility_curve_moderate,\n",
    "        fragility_curve_extensive,\n",
    "        fragility_curve_complete,\n",
    "    ]\n",
    "}\n",
    "\n",
    "# construct the fragility curve object to use\n",
    "fragility_curve_set = FragilityCurveSet(metadata)\n",
    "fragility_curve_set"
   ]
  },
  {
   "cell_type": "markdown",
   "metadata": {},
   "source": [
    "### Example of how to use the fragility curve and curveset"
   ]
  },
  {
   "cell_type": "markdown",
   "metadata": {},
   "source": [
    "#### Use in damage probability calculation"
   ]
  },
  {
   "cell_type": "code",
   "execution_count": null,
   "metadata": {},
   "outputs": [],
   "source": [
    "probabilities = fragility_curve_set.calculate_limit_state(hazard=10, period=1, std_dev=0.1)\n",
    "probabilities"
   ]
  },
  {
   "cell_type": "markdown",
   "metadata": {},
   "source": [
    "#### Visualization your curve"
   ]
  },
  {
   "cell_type": "code",
   "execution_count": null,
   "metadata": {},
   "outputs": [],
   "source": [
    "from scipy.stats import lognorm\n",
    "import pylab as pl\n",
    "import numpy as np\n",
    "\n",
    "mean_moderate = fragility_curve_moderate.alpha\n",
    "stddev_moderate = fragility_curve_moderate.beta\n",
    "dist_moderate = lognorm(s=stddev_moderate, scale=np.exp(mean_moderate))\n",
    "x=np.linspace(0,5,200)\n",
    "pl.plot(x,dist_moderate.cdf(x))\n",
    "\n",
    "mean_extensive = fragility_curve_extensive.alpha\n",
    "stddev_extensive = fragility_curve_extensive.beta\n",
    "dist_extensive = lognorm(s=stddev_extensive, scale=np.exp(mean_extensive))\n",
    "x=np.linspace(0,5,200)\n",
    "pl.plot(x,dist_extensive.cdf(x))\n",
    "\n",
    "mean_complete = fragility_curve_complete.alpha\n",
    "stddev_complete = fragility_curve_complete.beta\n",
    "dist_complete = lognorm(s=stddev_complete, scale=np.exp(mean_complete))\n",
    "x=np.linspace(0,5,200)\n",
    "pl.plot(x,dist_complete.cdf(x))"
   ]
  },
  {
   "cell_type": "markdown",
   "metadata": {},
   "source": [
    "#### Use the functions on each individual curve"
   ]
  },
  {
   "cell_type": "code",
   "execution_count": null,
   "metadata": {},
   "outputs": [],
   "source": [
    "# exmample of A single period standard fragility curve\n",
    "fragility_curve_moderate = PeriodStandardFragilityCurve({\n",
    "    \"description\": \"Moderate\",\n",
    "    \"alpha\": -0.571,\n",
    "    \"beta\": 0.665,\n",
    "    \"alphaType\":\"lambda\",\n",
    "    \"curveType\":\"LogNormal\",\n",
    "    \"periodParam2\":0,\n",
    "    \"periodParam1\":0,\n",
    "    \"periodParam0\":1.08,\n",
    "    \"periodEqnType\":1\n",
    "})\n",
    "\n",
    "# get building period from the fragility curve\n",
    "building_period = fragility_curve_moderate.get_building_period(num_stories = 10)\n",
    "print(\"building period is :\", building_period, \"\\n\" )\n",
    "\n",
    "# get limit state probability\n",
    "probability = fragility_curve_moderate.calculate_limit_state_probability(hazard = 4)\n",
    "print(\"limit state probability is :\" , probability, \"\\n\")\n",
    "\n",
    "# adjust this curve for liquefaction\n",
    "print(\"(alpha, beta) before liquefaction adjust:\", fragility_curve_moderate.alpha, fragility_curve_moderate.beta)\n",
    "fragility_curve_moderate.adjust_fragility_for_liquefaction(liquefaction = \"U\")\n",
    "print(\"(alpha, beta) after liquefaction adjust:\", fragility_curve_moderate.alpha, fragility_curve_moderate.beta)"
   ]
  },
  {
   "cell_type": "markdown",
   "source": [
    "## DFR3 Mapping Set"
   ],
   "metadata": {
    "collapsed": false
   }
  },
  {
   "cell_type": "markdown",
   "metadata": {},
   "source": [
    "### Ways to create Mapping Object"
   ]
  },
  {
   "cell_type": "markdown",
   "metadata": {},
   "source": [
    "#### 0. upload fragility mapping to dfr3 services\n",
    "- Note that this is optional as now you can use local fragility mapping now\n",
    "- We will cover how to create and use local fragility mapping in this tutorial later\n",
    "- you can look up the fragility IDs in the DFR3 viewer\n",
    "![alt text](images/lookup_fragility_id.png)"
   ]
  },
  {
   "cell_type": "code",
   "execution_count": null,
   "metadata": {},
   "outputs": [],
   "source": [
    "mapping_meatadata = {\n",
    "  \"name\": \"pytest - Tsunami Building Fragility Mapping\",\n",
    "  \"hazardType\": \"tsunami\",\n",
    "  \"inventoryType\": \"building\",\n",
    "  \"mappingType\": \"fragility\",\n",
    "  \"mappings\": [\n",
    "      {\n",
    "          \"entry\": {\n",
    "              \"Non-Retrofit Inundation Fragility ID Code\": \"5bbbaedfec2309046c2745c8\",\n",
    "              \"Non-Retrofit MomentumFlux Fragility ID Code\": \"5bbbae19ec2309046c2745c6\"\n",
    "          },\n",
    "          \"rules\": [\n",
    "              [\n",
    "                 \"java.lang.String struct_typ EQUALS W1\"\n",
    "              ]\n",
    "          ]\n",
    "      },\n",
    "      {\n",
    "          \"entry\": {\n",
    "              \"Non-Retrofit Inundation Fragility ID Code\": \"5bbbaf58ec2309046c2745c9\",\n",
    "              \"Non-Retrofit MomentumFlux Fragility ID Code\": \"5bbbae5eec2309046c2745c7\"\n",
    "          },\n",
    "          \"rules\": [\n",
    "              [\n",
    "                  \"java.lang.String struct_typ EQUALS W2\"\n",
    "              ]\n",
    "          ]\n",
    "      },\n",
    "      {\n",
    "          \"entry\": {\n",
    "               \"Non-Retrofit Inundation Fragility ID Code\": \"5bbbafcdec2309046c2745ca\",\n",
    "              \"Non-Retrofit MomentumFlux Fragility ID Code\": \"5bbbba6bec2309046c2745d8\"\n",
    "          },\n",
    "          \"rules\": [\n",
    "              [\n",
    "                  \"java.lang.String struct_typ EQUALS RC\"\n",
    "              ]\n",
    "          ]\n",
    "      }\n",
    "  ]\n",
    "}\n",
    "created_mapping = fragilitysvc.create_mapping(mapping_meatadata)\n",
    "created_mapping"
   ]
  },
  {
   "cell_type": "markdown",
   "metadata": {},
   "source": [
    "#### 1. use mapping id from incore dfr3 services"
   ]
  },
  {
   "cell_type": "code",
   "execution_count": null,
   "metadata": {},
   "outputs": [],
   "source": [
    "mapping_id = \"5b8ec84fec2309047299581f\"\n",
    "\n",
    "client = IncoreClient()\n",
    "fragility_service = FragilityService(client)\n",
    "mapping_set = MappingSet(fragility_service.get_mapping(mapping_id))\n",
    "mapping_set"
   ]
  },
  {
   "cell_type": "markdown",
   "metadata": {},
   "source": [
    "#### 2. write mapping json definition file"
   ]
  },
  {
   "cell_type": "code",
   "execution_count": null,
   "metadata": {},
   "outputs": [],
   "source": [
    "mapping_metadata = '''\n",
    "{\n",
    "    \"id\": \"5b8ec84fec2309047299581f\",\n",
    "    \"name\": \"Shelby Water Network MMSA\",\n",
    "    \"hazardType\": \"earthquake\",\n",
    "    \"inventoryType\": \"water_facility\",\n",
    "    \"mappings\": [\n",
    "        {\n",
    "            \"legacyEntry\": {},\n",
    "            \"entry\": {\n",
    "                \"pga\": \"5b7d81ffec230904683d5073\"\n",
    "            },\n",
    "            \"rules\": [\n",
    "                [\n",
    "                    \"java.lang.String data_type EQUALS 'tank'\"\n",
    "                ]\n",
    "            ]\n",
    "        },\n",
    "        {\n",
    "            \"legacyEntry\": {},\n",
    "            \"entry\": {\n",
    "                \"pga\": \"5b7d8284ec230904683d5074\"\n",
    "            },\n",
    "            \"rules\": [\n",
    "                [\n",
    "                    \"java.lang.String data_type EQUALS 'pump'\",\n",
    "                    \"java.lang.String subtype EQUALS 'booster_pump'\"\n",
    "                ]\n",
    "            ]\n",
    "        },\n",
    "        {\n",
    "            \"legacyEntry\": {},\n",
    "            \"entry\": {\n",
    "                \"pga\": \"5b7d8284ec230904683d5074\"\n",
    "            },\n",
    "            \"rules\": [\n",
    "                [\n",
    "                    \"java.lang.String data_type EQUALS 'pump'\",\n",
    "                    \"java.lang.String subtype EQUALS 'pump_0'\"\n",
    "                ]\n",
    "            ]\n",
    "        },\n",
    "        {\n",
    "            \"legacyEntry\": {},\n",
    "            \"entry\": {\n",
    "                \"pga\": \"5b7d829aec230904683d5075\"\n",
    "            },\n",
    "            \"rules\": [\n",
    "                [\n",
    "                    \"java.lang.String data_type EQUALS 'pump'\",\n",
    "                    \"java.lang.String subtype EQUALS 'pump_1'\"\n",
    "                ]\n",
    "            ]\n",
    "        },\n",
    "        {\n",
    "            \"legacyEntry\": {},\n",
    "            \"entry\": {\n",
    "                \"pga\": \"5b7d82a6ec230904683d5076\"\n",
    "            },\n",
    "            \"rules\": [\n",
    "                [\n",
    "                    \"java.lang.String data_type EQUALS 'pump'\",\n",
    "                    \"java.lang.String subtype EQUALS 'pump_2'\"\n",
    "                ]\n",
    "            ]\n",
    "        },\n",
    "        {\n",
    "            \"legacyEntry\": {},\n",
    "            \"entry\": {\n",
    "                \"pga\": \"5b7d82b3ec230904683d5077\"\n",
    "            },\n",
    "            \"rules\": [\n",
    "                [\n",
    "                    \"java.lang.String data_type EQUALS 'pump'\",\n",
    "                    \"java.lang.String subtype EQUALS 'pump_3'\"\n",
    "                ]\n",
    "            ]\n",
    "        }\n",
    "    ],\n",
    "    \"mappingType\": \"fragility\"\n",
    "}\n",
    "'''\n",
    "\n",
    "mapping_set = MappingSet.from_json_str(mapping_metadata)\n",
    "mapping_set"
   ]
  },
  {
   "cell_type": "markdown",
   "metadata": {},
   "source": [
    "#### 3. construct mapping object from scratch"
   ]
  },
  {
   "cell_type": "markdown",
   "metadata": {},
   "source": [
    "- create Fragility Curves and Curveset\n",
    "- details please refer to previous section \"Construct fragility curves from scratch\""
   ]
  },
  {
   "cell_type": "code",
   "execution_count": null,
   "metadata": {},
   "outputs": [],
   "source": [
    "# 0. create FragilityCurve (if you want to do everything from the very very scratch)\n",
    "fragility_curve_moderate = PeriodStandardFragilityCurve({\n",
    "    \"description\": \"Moderate\",\n",
    "    \"alpha\":-0.453,\n",
    "    \"beta\": 0.794,\n",
    "    \"alphaType\":\"lambda\",\n",
    "    \"curveType\":\"LogNormal\",\n",
    "    \"periodParam2\":0,\n",
    "    \"periodParam1\":0,\n",
    "    \"periodParam0\":0.75,\n",
    "    \"periodEqnType\":1\n",
    "})\n",
    "fragility_curve_extensive = PeriodStandardFragilityCurve({\n",
    "    \"description\": \"Extensive\",\n",
    "    \"alpha\": 0.372,\n",
    "    \"beta\": 0.794,\n",
    "    \"alphaType\": \"lambda\",\n",
    "    \"curveType\": \"LogNormal\",\n",
    "    \"periodParam2\": 0,\n",
    "    \"periodParam1\": 0,\n",
    "    \"periodParam0\": 0.75,\n",
    "    \"periodEqnType\": 1\n",
    "})\n",
    "fragility_curve_complete = PeriodStandardFragilityCurve({\n",
    "    \"description\": \"Complete\",\n",
    "    \"alpha\":1.198,\n",
    "    \"beta\": 0.794,\n",
    "    \"alphaType\":\"lambda\",\n",
    "    \"curveType\":\"LogNormal\",\n",
    "    \"periodParam2\":0,\n",
    "    \"periodParam1\":0,\n",
    "    \"periodParam0\":0.75,\n",
    "    \"periodEqnType\":1\n",
    "})\n",
    "fragilitycurveset_metadata = {\n",
    "    \"id\":\"local_fragility_curve_set_1\",\n",
    "    \"demandType\": \"PGA\",\n",
    "    \"demandUnits\": \"g\",\n",
    "    \"resultType\":\"Limit State\",\n",
    "    \"hazardType\":\"earthquake\",\n",
    "    \"inventoryType\":\"building\",\n",
    "    \"fragilityCurves\":[\n",
    "        fragility_curve_moderate,\n",
    "        fragility_curve_extensive,\n",
    "        fragility_curve_complete,\n",
    "    ]\n",
    "}\n",
    "fragility_curveset_1 = FragilityCurveSet(fragilitycurveset_metadata)\n",
    "\n",
    "# 1. Alternatively, you can create FragilityCurveSet objects directly from a json\n",
    "fragility_curveset_2 = FragilityCurveSet.from_json_file('files/periodStandardFragilityCurve.json')"
   ]
  },
  {
   "cell_type": "markdown",
   "metadata": {},
   "source": [
    "- creating Mapping objects and put Fragility curvesets into the mappings"
   ]
  },
  {
   "cell_type": "code",
   "execution_count": null,
   "metadata": {},
   "outputs": [],
   "source": [
    "entry_1 = {\"Non-Retrofit Fragility ID Code\": fragility_curveset_1}\n",
    "rules_1 = [[ \"int no_stories GE 4\",\"int no_stories LE 7\"]]\n",
    "mapping_1 = Mapping(entry_1, rules_1)\n",
    "\n",
    "entry_2 = {\"Non-Retrofit Fragility ID Code\": fragility_curveset_2}\n",
    "rules_2 = [[\"int no_stories GE 1\", \"int no_stories LE 3\"]]\n",
    "mapping_2 = Mapping(entry_2, rules_2)"
   ]
  },
  {
   "cell_type": "markdown",
   "metadata": {},
   "source": [
    "- create MappingSet object"
   ]
  },
  {
   "cell_type": "code",
   "execution_count": null,
   "metadata": {},
   "outputs": [],
   "source": [
    "mappingset_metadata = {\n",
    "    'id': 'local placeholder',\n",
    "    'name': 'testing local mapping object creation',\n",
    "    'hazardType': 'earthquake',\n",
    "    'inventoryType': 'building',\n",
    "    'mappings': [\n",
    "        mapping_1,\n",
    "        mapping_2,\n",
    "    ],\n",
    "    'mappingType': 'fragility'\n",
    "}\n",
    "local_building_mapping_set = MappingSet(mappingset_metadata)"
   ]
  },
  {
   "cell_type": "markdown",
   "metadata": {},
   "source": [
    "### Example of using DFR3 mapping object in pyIncore"
   ]
  },
  {
   "cell_type": "code",
   "execution_count": null,
   "metadata": {},
   "outputs": [],
   "source": [
    "from pyincore.analyses.buildingdamage import BuildingDamage\n",
    "\n",
    "bldg_dmg = BuildingDamage(client)\n",
    "bldg_dmg.load_remote_input_dataset(\"buildings\", '5a284f0bc7d30d13bc081a28')\n",
    "bldg_dmg.set_parameter(\"result_name\", 'local_mapping_fragility_memphis_eq_bldg_dmg_result')"
   ]
  },
  {
   "cell_type": "markdown",
   "metadata": {},
   "source": [
    "#### Method 1: Load Remote Mapping id from IN-CORE services"
   ]
  },
  {
   "cell_type": "code",
   "execution_count": null,
   "metadata": {},
   "outputs": [],
   "source": [
    "fragility_service = FragilityService(client)\n",
    "mapping_set = MappingSet(fragility_service.get_mapping(mapping_id=\"5b47b350337d4a3629076f2c\"))\n",
    "bldg_dmg.set_input_dataset('dfr3_mapping_set', mapping_set)"
   ]
  },
  {
   "cell_type": "markdown",
   "metadata": {},
   "source": [
    "#### Method 2: Directly load locally created Mapping Object"
   ]
  },
  {
   "cell_type": "code",
   "execution_count": null,
   "metadata": {},
   "outputs": [],
   "source": [
    "# Note: local_building_mapping_set is created in the previous section in this notebook\n",
    "bldg_dmg.set_input_dataset(\"dfr3_mapping_set\", local_building_mapping_set)"
   ]
  },
  {
   "cell_type": "code",
   "execution_count": null,
   "metadata": {},
   "outputs": [],
   "source": [
    "bldg_dmg.set_parameter(\"hazard_type\", 'earthquake')\n",
    "bldg_dmg.set_parameter(\"hazard_id\", '5b902cb273c3371e1236b36b')\n",
    "bldg_dmg.set_parameter(\"num_cpu\", 4)\n",
    "\n",
    "# Run Analysis\n",
    "bldg_dmg.run_analysis()"
   ]
  },
  {
   "cell_type": "code",
   "execution_count": null,
   "metadata": {},
   "outputs": [],
   "source": []
  }
 ],
 "metadata": {
  "kernelspec": {
   "display_name": "Python 3",
   "language": "python",
   "name": "python3"
  },
  "language_info": {
   "codemirror_mode": {
    "name": "ipython",
    "version": 3
   },
   "file_extension": ".py",
   "mimetype": "text/x-python",
   "name": "python",
   "nbconvert_exporter": "python",
   "pygments_lexer": "ipython3",
   "version": "3.7.3"
  }
 },
 "nbformat": 4,
 "nbformat_minor": 2
}