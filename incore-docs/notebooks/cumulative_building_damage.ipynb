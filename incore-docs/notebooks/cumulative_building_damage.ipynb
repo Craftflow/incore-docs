{
 "cells": [
  {
   "cell_type": "code",
   "execution_count": 8,
   "metadata": {},
   "outputs": [],
   "source": [
    "from pyincore import InsecureIncoreClient\n",
    "from pyincore.analyses.cumulativebuildingdamage.cumulativebuildingdamage import CumulativeBuildingDamage"
   ]
  },
  {
   "cell_type": "code",
   "execution_count": 9,
   "metadata": {},
   "outputs": [],
   "source": [
    " client = InsecureIncoreClient(\"http://incore2-services.ncsa.illinois.edu:8888\", \"incrtest\")"
   ]
  },
  {
   "cell_type": "code",
   "execution_count": 10,
   "metadata": {},
   "outputs": [],
   "source": [
    "# Setting up Id's for Dataset inputs: Earthquake building damage, Tsunami Building Damage and Damage Ratios \n",
    "eq_bldg_dmg_id = \"5c5c9686c5c0e488fcf91903\"\n",
    "tsunami_bldg_dmg_id = \"5c5c96f6c5c0e488fcf9190f\" \n",
    "dmg_ratio_id = \"5a284f2ec7d30d13bc08209a\""
   ]
  },
  {
   "cell_type": "code",
   "execution_count": 11,
   "metadata": {},
   "outputs": [
    {
     "data": {
      "text/plain": [
       "True"
      ]
     },
     "execution_count": 11,
     "metadata": {},
     "output_type": "execute_result"
    }
   ],
   "source": [
    "# Create cumulative Building Damage\n",
    "cumulative_bldg_dmg = CumulativeBuildingDamage(client)\n",
    "# Load input datasets\n",
    "cumulative_bldg_dmg.load_remote_input_dataset(\"eq_bldg_dmg\", eq_bldg_dmg_id)\n",
    "cumulative_bldg_dmg.load_remote_input_dataset(\"tsunami_bldg_dmg\", tsunami_bldg_dmg_id)\n",
    "cumulative_bldg_dmg.load_remote_input_dataset(\"dmg_ratios\", dmg_ratio_id)\n",
    "# Specify the result name\n",
    "result_name = \"Cumulative_Bldg_Dmg_Result\"\n",
    "# Set analysis parameters\n",
    "cumulative_bldg_dmg.set_parameter(\"num_cpu\", 4)\n",
    "cumulative_bldg_dmg.set_parameter(\"result_name\", result_name)\n"
   ]
  },
  {
   "cell_type": "code",
   "execution_count": 12,
   "metadata": {},
   "outputs": [
    {
     "data": {
      "text/plain": [
       "True"
      ]
     },
     "execution_count": 12,
     "metadata": {},
     "output_type": "execute_result"
    }
   ],
   "source": [
    "# Run Cumulative Building Damage Analysis\n",
    "cumulative_bldg_dmg.run_analysis()"
   ]
  },
  {
   "cell_type": "code",
   "execution_count": null,
   "metadata": {},
   "outputs": [],
   "source": []
  }
 ],
 "metadata": {
  "kernelspec": {
   "display_name": "Python 3",
   "language": "python",
   "name": "python3"
  },
  "language_info": {
   "codemirror_mode": {
    "name": "ipython",
    "version": 3
   },
   "file_extension": ".py",
   "mimetype": "text/x-python",
   "name": "python",
   "nbconvert_exporter": "python",
   "pygments_lexer": "ipython3",
   "version": "3.6.4"
  }
 },
 "nbformat": 4,
 "nbformat_minor": 2
}
