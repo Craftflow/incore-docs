{
 "cells": [
  {
   "cell_type": "code",
   "execution_count": null,
   "metadata": {},
   "outputs": [
    {
     "ename": "ValueError",
     "evalue": "list.remove(x): x not in list",
     "traceback": [
      "\u001b[0;31m---------------------------------------------------------------------------\u001b[0m",
      "\u001b[0;31mValueError\u001b[0m                                Traceback (most recent call last)",
      "\u001b[0;32m<ipython-input-6-992add374fcf>\u001b[0m in \u001b[0;36m<module>\u001b[0;34m\u001b[0m\n\u001b[1;32m      1\u001b[0m \u001b[0;32mimport\u001b[0m \u001b[0msys\u001b[0m\u001b[0;34m\u001b[0m\u001b[0;34m\u001b[0m\u001b[0m\n\u001b[0;32m----> 2\u001b[0;31m \u001b[0msys\u001b[0m\u001b[0;34m.\u001b[0m\u001b[0mpath\u001b[0m\u001b[0;34m.\u001b[0m\u001b[0mremove\u001b[0m\u001b[0;34m(\u001b[0m\u001b[0;34m'/usr/local/opt/python/bin/python3.7'\u001b[0m\u001b[0;34m)\u001b[0m\u001b[0;34m\u001b[0m\u001b[0;34m\u001b[0m\u001b[0m\n\u001b[0m\u001b[1;32m      3\u001b[0m \u001b[0msys\u001b[0m\u001b[0;34m.\u001b[0m\u001b[0mpath\u001b[0m\u001b[0;34m.\u001b[0m\u001b[0mappend\u001b[0m\u001b[0;34m(\u001b[0m\u001b[0;34m'/miniconda3/envs/cge/bin/python'\u001b[0m\u001b[0;34m)\u001b[0m\u001b[0;34m\u001b[0m\u001b[0;34m\u001b[0m\u001b[0m\n\u001b[1;32m      4\u001b[0m \u001b[0;32mfrom\u001b[0m \u001b[0mpyincore\u001b[0m \u001b[0;32mimport\u001b[0m \u001b[0mInsecureIncoreClient\u001b[0m\u001b[0;34m\u001b[0m\u001b[0;34m\u001b[0m\u001b[0m\n\u001b[1;32m      5\u001b[0m \u001b[0;32mfrom\u001b[0m \u001b[0mjoplinsmallcalibrated\u001b[0m \u001b[0;32mimport\u001b[0m \u001b[0mJoplinCGEModel\u001b[0m\u001b[0;34m\u001b[0m\u001b[0;34m\u001b[0m\u001b[0m\n",
      "\u001b[0;31mValueError\u001b[0m: list.remove(x): x not in list"
     ],
     "output_type": "error"
    }
   ],
   "source": [
    "from pyincore import InsecureIncoreClient\n",
    "from pyincore.analyses.joplincgeanalysis import JoplinCGEModel\n"
   ]
  },
  {
   "cell_type": "code",
   "execution_count": 5,
   "metadata": {},
   "outputs": [],
   "source": [
    "client = InsecureIncoreClient(service_url=\"http://incore2-services-dev.ncsa.illinois.edu:8888\")\n"
   ]
  },
  {
   "cell_type": "code",
   "execution_count": null,
   "metadata": {},
   "outputs": [],
   "source": [
    "# SAM\n",
    "SAM = \"5cdc7b585648c4048fb53062\"\n",
    "\n",
    "# CAPITAL COMP\n",
    "BB = \"5cdc7d295648c4048fb53089\"\n",
    "\n",
    "# MISC TABLES\n",
    "IOUT = \"5cdc7e965648c4048fb530ef\"\n",
    "MISC = \"5cdc7f4f5648c4048fb53150\"\n",
    "MISCH = \"5cdc7fa05648c4048fb53172\"\n",
    "LANDCAP = \"5cdc7f0a5648c4048fb5312e\"\n",
    "EMPLOY = \"5cdc7df65648c4048fb530ab\"\n",
    "IGTD = \"5cdc7e405648c4048fb530cd\"\n",
    "TAUFF = \"5cdc81da5648c4048fb532b7\"\n",
    "TPC = \"5cdc805a5648c4048fb531d8\"\n",
    "JOBCR = \"5cdc7ed25648c4048fb5310c\"\n",
    "OUTCR = \"5cdc7fde5648c4048fb53194\"\n"
   ]
  },
  {
   "cell_type": "code",
   "execution_count": null,
   "metadata": {},
   "outputs": [],
   "source": [
    "# Create Joplin CGE Model\n",
    "joplin_cge = JoplinCGEModel(client)"
   ]
  },
  {
   "cell_type": "code",
   "execution_count": null,
   "metadata": {},
   "outputs": [],
   "source": [
    "# Set analysis input datasets\n",
    "joplin_cge.load_remote_input_dataset(\"SAM\", SAM)\n",
    "joplin_cge.load_remote_input_dataset(\"BB\", BB)\n",
    "joplin_cge.load_remote_input_dataset(\"IOUT\", IOUT)\n",
    "joplin_cge.load_remote_input_dataset(\"MISC\", MISC)\n",
    "joplin_cge.load_remote_input_dataset(\"MISCH\", MISCH)\n",
    "joplin_cge.load_remote_input_dataset(\"LANDCAP\", LANDCAP)\n",
    "joplin_cge.load_remote_input_dataset(\"EMPLOY\", EMPLOY)\n",
    "joplin_cge.load_remote_input_dataset(\"IGTD\", IGTD)\n",
    "joplin_cge.load_remote_input_dataset(\"TAUFF\", TAUFF)\n",
    "joplin_cge.load_remote_input_dataset(\"TPC\", TPC)\n",
    "joplin_cge.load_remote_input_dataset(\"JOBCR\", JOBCR)\n",
    "joplin_cge.load_remote_input_dataset(\"OUTCR\", OUTCR)\n"
   ]
  },
  {
   "cell_type": "code",
   "execution_count": null,
   "metadata": {},
   "outputs": [],
   "source": [
    "# Set analysis parameters\n",
    "joplin_cge.set_parameter(\"solver_path\", \"\")\n",
    "joplin_cge.set_parameter(\"model_iterations\", 1)\n"
   ]
  },
  {
   "cell_type": "code",
   "execution_count": null,
   "metadata": {},
   "outputs": [],
   "source": [
    "# Run Joplin CGE model analysis\n",
    "joplin_cge.run_analysis()\n"
   ]
  }
 ],
 "metadata": {
  "kernelspec": {
   "display_name": "Python 3",
   "language": "python",
   "name": "python3"
  },
  "language_info": {
   "codemirror_mode": {
    "name": "ipython",
    "version": 3
   },
   "file_extension": ".py",
   "mimetype": "text/x-python",
   "name": "python",
   "nbconvert_exporter": "python",
   "pygments_lexer": "ipython3",
   "version": "3.7.3"
  }
 },
 "nbformat": 4,
 "nbformat_minor": 1
}
